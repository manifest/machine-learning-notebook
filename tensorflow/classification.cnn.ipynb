{
 "cells": [
  {
   "cell_type": "code",
   "execution_count": 1,
   "metadata": {},
   "outputs": [],
   "source": [
    "%%capture\n",
    "\n",
    "import pandas as pd\n",
    "import numpy as np\n",
    "import tensorflow as tf\n",
    "import mlts\n",
    "\n",
    "import altair as alt\n",
    "alt.renderers.enable('notebook')"
   ]
  },
  {
   "cell_type": "markdown",
   "metadata": {},
   "source": [
    "## Load data"
   ]
  },
  {
   "cell_type": "code",
   "execution_count": 2,
   "metadata": {},
   "outputs": [],
   "source": [
    "data = mlts.io.merge([\n",
    "    pd.read_csv('../data/fashion-mnist/fashion-mnist_train.csv'),\n",
    "    pd.read_csv('../data/fashion-mnist/fashion-mnist_train.csv'),\n",
    "])"
   ]
  },
  {
   "cell_type": "code",
   "execution_count": 3,
   "metadata": {},
   "outputs": [],
   "source": [
    "mlts.io.check(data)"
   ]
  },
  {
   "cell_type": "code",
   "execution_count": 4,
   "metadata": {},
   "outputs": [],
   "source": [
    "K = len(data.iloc[:, 0].value_counts())\n",
    "dss, mu, sigma = mlts.io.normalize(mlts.io.split(data, ycol=0, shape=(42048), seed=1))\n",
    "ds_train, ds_dev, ds_test = mlts.tf.to_dataset(mlts.io.reshape(dss, target_shape=(28, 28, 1)), batch_size=32)"
   ]
  },
  {
   "cell_type": "markdown",
   "metadata": {},
   "source": [
    "## Implement the model"
   ]
  },
  {
   "cell_type": "code",
   "execution_count": 5,
   "metadata": {},
   "outputs": [],
   "source": [
    "class FasionMNISTAdapter(mlts.tf.adapter.Model):\n",
    "    def __init__(self, *args, **kwargs):\n",
    "        super(FasionMNISTAdapter, self).__init__(*args, **kwargs)\n",
    "\n",
    "    @staticmethod\n",
    "    def model(options, hparams = {}):        \n",
    "        regularization = None\n",
    "        if \"lambda\" in hparams:\n",
    "            regularization = tf.keras.regularizers.l2(l=hparams[\"lambda\"])\n",
    "\n",
    "        return tf.keras.models.Sequential([\n",
    "            ## The reason of using 'InputLayer' is only to\n",
    "            ## show up a shape of each layer in `model.summary()`.\n",
    "            tf.keras.layers.InputLayer(input_shape=(28, 28, 1)),\n",
    "            tf.keras.layers.Conv2D(16, (3, 3), activation='relu'),\n",
    "            tf.keras.layers.MaxPooling2D(2, 2),\n",
    "            tf.keras.layers.Conv2D(16, (3, 3), activation='relu'),\n",
    "            tf.keras.layers.MaxPooling2D(2, 2),\n",
    "            tf.keras.layers.Flatten(),\n",
    "            tf.keras.layers.Dense(\n",
    "                16,\n",
    "                activation=tf.nn.relu,\n",
    "                kernel_initializer=tf.keras.initializers.he_uniform(options.seed),\n",
    "                kernel_regularizer=regularization,\n",
    "            ),\n",
    "            tf.keras.layers.Dense(\n",
    "                16,\n",
    "                activation=tf.nn.relu,\n",
    "                kernel_initializer=tf.keras.initializers.he_uniform(options.seed),\n",
    "                kernel_regularizer=regularization,\n",
    "            ),\n",
    "            tf.keras.layers.Dense(\n",
    "                K,\n",
    "                activation=tf.nn.softmax,\n",
    "                kernel_initializer=tf.keras.initializers.he_uniform(options.seed),\n",
    "                kernel_regularizer=regularization,\n",
    "            ),\n",
    "        ])\n",
    "    \n",
    "    @staticmethod\n",
    "    def loss(options):\n",
    "        return tf.keras.losses.SparseCategoricalCrossentropy()\n",
    "    \n",
    "    @staticmethod\n",
    "    def optimization(options, hparams, m, ds, metrics = [], callbacks=[]):\n",
    "        m.compile(\n",
    "            optimizer=tf.keras.optimizers.Adam(\n",
    "                learning_rate=hparams.get(\"alpha\", 0.001),\n",
    "                beta_1=hparams.get(\"beta_1\", 0.9),\n",
    "                beta_2=hparams.get(\"beta_2\", 0.999),\n",
    "            ),\n",
    "            loss=FasionMNISTAdapter.loss(options),\n",
    "            metrics=metrics,\n",
    "        )\n",
    "\n",
    "        if options.seed != None: tf.random.set_seed(options.seed)\n",
    "        m.fit(\n",
    "            ds,\n",
    "            epochs=options.epochs,\n",
    "            shuffle=False,\n",
    "            callbacks=callbacks,\n",
    "            verbose=options.verbose,\n",
    "        )\n",
    "        \n",
    "        return m"
   ]
  },
  {
   "cell_type": "code",
   "execution_count": 6,
   "metadata": {},
   "outputs": [
    {
     "name": "stdout",
     "output_type": "stream",
     "text": [
      "Model: \"sequential\"\n",
      "_________________________________________________________________\n",
      "Layer (type)                 Output Shape              Param #   \n",
      "=================================================================\n",
      "conv2d (Conv2D)              (None, 26, 26, 16)        160       \n",
      "_________________________________________________________________\n",
      "max_pooling2d (MaxPooling2D) (None, 13, 13, 16)        0         \n",
      "_________________________________________________________________\n",
      "conv2d_1 (Conv2D)            (None, 11, 11, 16)        2320      \n",
      "_________________________________________________________________\n",
      "max_pooling2d_1 (MaxPooling2 (None, 5, 5, 16)          0         \n",
      "_________________________________________________________________\n",
      "flatten (Flatten)            (None, 400)               0         \n",
      "_________________________________________________________________\n",
      "dense (Dense)                (None, 16)                6416      \n",
      "_________________________________________________________________\n",
      "dense_1 (Dense)              (None, 16)                272       \n",
      "_________________________________________________________________\n",
      "dense_2 (Dense)              (None, 10)                170       \n",
      "=================================================================\n",
      "Total params: 9,338\n",
      "Trainable params: 9,338\n",
      "Non-trainable params: 0\n",
      "_________________________________________________________________\n"
     ]
    }
   ],
   "source": [
    "FasionMNISTAdapter.model(mlts.tf.adapter.Options(seed=1)).summary()"
   ]
  },
  {
   "cell_type": "markdown",
   "metadata": {},
   "source": [
    "## Analyze the dataset"
   ]
  },
  {
   "cell_type": "code",
   "execution_count": 7,
   "metadata": {},
   "outputs": [
    {
     "name": "stderr",
     "output_type": "stream",
     "text": [
      "WARNING: Logging before flag parsing goes to stderr.\n",
      "W0810 18:11:22.738223 4468151744 deprecation.py:323] From /Users/manifest/projects/github/machine-learning-notebook/venv/lib/python3.7/site-packages/tensorflow/python/ops/math_grad.py:1250: add_dispatch_support.<locals>.wrapper (from tensorflow.python.ops.array_ops) is deprecated and will be removed in a future version.\n",
      "Instructions for updating:\n",
      "Use tf.where in 2.0, which has the same broadcast rule as np.where\n"
     ]
    },
    {
     "data": {
      "application/javascript": [
       "var spec = {\"config\": {\"view\": {\"width\": 400, \"height\": 300}, \"mark\": {\"tooltip\": null}}, \"data\": {\"name\": \"data-0109036dede30c7109142e92a3825433\"}, \"mark\": \"line\", \"encoding\": {\"color\": {\"type\": \"nominal\", \"field\": \"variable\"}, \"x\": {\"type\": \"quantitative\", \"field\": \"m_batch\"}, \"y\": {\"type\": \"quantitative\", \"field\": \"value\"}}, \"$schema\": \"https://vega.github.io/schema/vega-lite/v3.4.0.json\", \"datasets\": {\"data-0109036dede30c7109142e92a3825433\": [{\"m_batch\": 1, \"variable\": \"E_train\", \"value\": 2.193962574005127}, {\"m_batch\": 132, \"variable\": \"E_train\", \"value\": 0.4325246281470313}, {\"m_batch\": 263, \"variable\": \"E_train\", \"value\": 0.38626414486437244}, {\"m_batch\": 394, \"variable\": \"E_train\", \"value\": 0.3747812285262921}, {\"m_batch\": 525, \"variable\": \"E_train\", \"value\": 0.37965881938026064}, {\"m_batch\": 656, \"variable\": \"E_train\", \"value\": 0.3310461012623841}, {\"m_batch\": 787, \"variable\": \"E_train\", \"value\": 0.3438192248874577}, {\"m_batch\": 918, \"variable\": \"E_train\", \"value\": 0.3288471936319259}, {\"m_batch\": 1049, \"variable\": \"E_train\", \"value\": 0.3144250759540625}, {\"m_batch\": 1180, \"variable\": \"E_train\", \"value\": 0.3396474779031034}, {\"m_batch\": 1, \"variable\": \"E_dev\", \"value\": 2.26127793095636}, {\"m_batch\": 132, \"variable\": \"E_dev\", \"value\": 0.5358395812147898}, {\"m_batch\": 263, \"variable\": \"E_dev\", \"value\": 0.4791755826866373}, {\"m_batch\": 394, \"variable\": \"E_dev\", \"value\": 0.442684402966753}, {\"m_batch\": 525, \"variable\": \"E_dev\", \"value\": 0.4503710867559656}, {\"m_batch\": 656, \"variable\": \"E_dev\", \"value\": 0.3951212493240411}, {\"m_batch\": 787, \"variable\": \"E_dev\", \"value\": 0.4085458960410551}, {\"m_batch\": 918, \"variable\": \"E_dev\", \"value\": 0.38687752200462294}, {\"m_batch\": 1049, \"variable\": \"E_dev\", \"value\": 0.36694018886233054}, {\"m_batch\": 1180, \"variable\": \"E_dev\", \"value\": 0.39567219090799916}]}};\n",
       "var opt = {};\n",
       "var type = \"vega-lite\";\n",
       "var id = \"e8d39dfa-7471-4341-8fc3-89aa4d54d577\";\n",
       "\n",
       "var output_area = this;\n",
       "\n",
       "require([\"nbextensions/jupyter-vega/index\"], function(vega) {\n",
       "  var target = document.createElement(\"div\");\n",
       "  target.id = id;\n",
       "  target.className = \"vega-embed\";\n",
       "\n",
       "  var style = document.createElement(\"style\");\n",
       "  style.textContent = [\n",
       "    \".vega-embed .error p {\",\n",
       "    \"  color: firebrick;\",\n",
       "    \"  font-size: 14px;\",\n",
       "    \"}\",\n",
       "  ].join(\"\\\\n\");\n",
       "\n",
       "  // element is a jQuery wrapped DOM element inside the output area\n",
       "  // see http://ipython.readthedocs.io/en/stable/api/generated/\\\n",
       "  // IPython.display.html#IPython.display.Javascript.__init__\n",
       "  element[0].appendChild(target);\n",
       "  element[0].appendChild(style);\n",
       "\n",
       "  vega.render(\"#\" + id, spec, type, opt, output_area);\n",
       "}, function (err) {\n",
       "  if (err.requireType !== \"scripterror\") {\n",
       "    throw(err);\n",
       "  }\n",
       "});\n"
      ],
      "text/plain": [
       "<vega.vegalite.VegaLite at 0x147829ed0>"
      ]
     },
     "metadata": {
      "jupyter-vega": "#e8d39dfa-7471-4341-8fc3-89aa4d54d577"
     },
     "output_type": "display_data"
    },
    {
     "data": {
      "text/plain": []
     },
     "execution_count": 7,
     "metadata": {},
     "output_type": "execute_result"
    },
    {
     "data": {
      "image/png": "[encoded data removed]"
     },
     "metadata": {
      "jupyter-vega": "#e8d39dfa-7471-4341-8fc3-89aa4d54d577"
     },
     "output_type": "display_data"
    }
   ],
   "source": [
    "m_hist = FasionMNISTAdapter.analyze_dataset(mlts.tf.adapter.Options(epochs=5, seed=1), {}, ds_train, ds_dev)\n",
    "alt.Chart(m_hist.melt(id_vars=\"m_batch\")).mark_line().encode(\n",
    "    x = \"m_batch\",\n",
    "    y = \"value\",\n",
    "    color = \"variable\"\n",
    ")"
   ]
  },
  {
   "cell_type": "markdown",
   "metadata": {},
   "source": [
    "## Evaluate the model"
   ]
  },
  {
   "cell_type": "code",
   "execution_count": 8,
   "metadata": {},
   "outputs": [
    {
     "data": {
      "application/javascript": [
       "var spec = {\"config\": {\"view\": {\"width\": 400, \"height\": 300}, \"mark\": {\"tooltip\": null}}, \"data\": {\"name\": \"data-f628309cf2524921b2d4ac9290f2bde2\"}, \"mark\": \"line\", \"encoding\": {\"x\": {\"type\": \"quantitative\", \"field\": \"epoch\"}, \"y\": {\"type\": \"quantitative\", \"field\": \"loss\"}}, \"$schema\": \"https://vega.github.io/schema/vega-lite/v3.4.0.json\", \"datasets\": {\"data-f628309cf2524921b2d4ac9290f2bde2\": [{\"index\": 0, \"epoch\": 0, \"loss\": 0.6457881833479103, \"accuracy\": 0.769311249256134}, {\"index\": 1, \"epoch\": 1, \"loss\": 0.4187956510828964, \"accuracy\": 0.8492199182510376}, {\"index\": 2, \"epoch\": 2, \"loss\": 0.37074512442293234, \"accuracy\": 0.8666048049926758}, {\"index\": 3, \"epoch\": 3, \"loss\": 0.342241678993633, \"accuracy\": 0.8766409754753113}, {\"index\": 4, \"epoch\": 4, \"loss\": 0.3218860250006074, \"accuracy\": 0.8846794366836548}]}};\n",
       "var opt = {};\n",
       "var type = \"vega-lite\";\n",
       "var id = \"538f7500-ba62-4b45-9ba0-d77e9001911e\";\n",
       "\n",
       "var output_area = this;\n",
       "\n",
       "require([\"nbextensions/jupyter-vega/index\"], function(vega) {\n",
       "  var target = document.createElement(\"div\");\n",
       "  target.id = id;\n",
       "  target.className = \"vega-embed\";\n",
       "\n",
       "  var style = document.createElement(\"style\");\n",
       "  style.textContent = [\n",
       "    \".vega-embed .error p {\",\n",
       "    \"  color: firebrick;\",\n",
       "    \"  font-size: 14px;\",\n",
       "    \"}\",\n",
       "  ].join(\"\\\\n\");\n",
       "\n",
       "  // element is a jQuery wrapped DOM element inside the output area\n",
       "  // see http://ipython.readthedocs.io/en/stable/api/generated/\\\n",
       "  // IPython.display.html#IPython.display.Javascript.__init__\n",
       "  element[0].appendChild(target);\n",
       "  element[0].appendChild(style);\n",
       "\n",
       "  vega.render(\"#\" + id, spec, type, opt, output_area);\n",
       "}, function (err) {\n",
       "  if (err.requireType !== \"scripterror\") {\n",
       "    throw(err);\n",
       "  }\n",
       "});\n"
      ],
      "text/plain": [
       "<vega.vegalite.VegaLite at 0x14703de50>"
      ]
     },
     "metadata": {
      "jupyter-vega": "#538f7500-ba62-4b45-9ba0-d77e9001911e"
     },
     "output_type": "display_data"
    },
    {
     "data": {
      "text/plain": []
     },
     "execution_count": 8,
     "metadata": {},
     "output_type": "execute_result"
    },
    {
     "data": {
      "image/png": "[encoded data removed]"
     },
     "metadata": {
      "jupyter-vega": "#538f7500-ba62-4b45-9ba0-d77e9001911e"
     },
     "output_type": "display_data"
    }
   ],
   "source": [
    "ad = FasionMNISTAdapter(mlts.tf.adapter.Options(epochs=5, seed=1))\n",
    "ad.fit(ds_train, metrics=[\"accuracy\"])\n",
    "alt.Chart(ad.metrics_history().reset_index()).mark_line().encode(\n",
    "    x = \"epoch\",\n",
    "    y = \"loss\",\n",
    ")"
   ]
  },
  {
   "cell_type": "code",
   "execution_count": 9,
   "metadata": {},
   "outputs": [
    {
     "data": {
      "text/html": [
       "<div>\n",
       "<style scoped>\n",
       "    .dataframe tbody tr th:only-of-type {\n",
       "        vertical-align: middle;\n",
       "    }\n",
       "\n",
       "    .dataframe tbody tr th {\n",
       "        vertical-align: top;\n",
       "    }\n",
       "\n",
       "    .dataframe thead th {\n",
       "        text-align: right;\n",
       "    }\n",
       "</style>\n",
       "<table border=\"1\" class=\"dataframe\">\n",
       "  <thead>\n",
       "    <tr style=\"text-align: right;\">\n",
       "      <th></th>\n",
       "      <th>train</th>\n",
       "      <th>dev</th>\n",
       "      <th>test</th>\n",
       "    </tr>\n",
       "  </thead>\n",
       "  <tbody>\n",
       "    <tr>\n",
       "      <th>loss</th>\n",
       "      <td>0.321886</td>\n",
       "      <td>0.365401</td>\n",
       "      <td>0.369722</td>\n",
       "    </tr>\n",
       "    <tr>\n",
       "      <th>accuracy</th>\n",
       "      <td>0.884679</td>\n",
       "      <td>0.871937</td>\n",
       "      <td>0.869498</td>\n",
       "    </tr>\n",
       "  </tbody>\n",
       "</table>\n",
       "</div>"
      ],
      "text/plain": [
       "             train       dev      test\n",
       "loss      0.321886  0.365401  0.369722\n",
       "accuracy  0.884679  0.871937  0.869498"
      ]
     },
     "execution_count": 9,
     "metadata": {},
     "output_type": "execute_result"
    }
   ],
   "source": [
    "ad.generalized_metrics(ds_dev, ds_test)"
   ]
  },
  {
   "cell_type": "markdown",
   "metadata": {},
   "source": [
    "## Tune hyperparameters"
   ]
  },
  {
   "cell_type": "code",
   "execution_count": 10,
   "metadata": {},
   "outputs": [
    {
     "data": {
      "application/javascript": [
       "var spec = {\"config\": {\"view\": {\"width\": 400, \"height\": 300}, \"mark\": {\"tooltip\": null}}, \"data\": {\"name\": \"data-955c0935f789e2d2598b06a67cdcf295\"}, \"mark\": \"line\", \"encoding\": {\"color\": {\"type\": \"nominal\", \"field\": \"variable\"}, \"x\": {\"type\": \"quantitative\", \"field\": \"lambda\"}, \"y\": {\"type\": \"quantitative\", \"field\": \"value\"}}, \"$schema\": \"https://vega.github.io/schema/vega-lite/v3.4.0.json\", \"datasets\": {\"data-955c0935f789e2d2598b06a67cdcf295\": [{\"lambda\": 1e-06, \"variable\": \"E_train\", \"value\": 0.43969653606414794}, {\"lambda\": 0.0500005, \"variable\": \"E_train\", \"value\": 0.5990305396914483}, {\"lambda\": 0.1, \"variable\": \"E_train\", \"value\": 0.6737137386202812}, {\"lambda\": 1e-06, \"variable\": \"E_train\", \"value\": 0.5061065588891506}, {\"lambda\": 0.016667500000000002, \"variable\": \"E_train\", \"value\": 0.5183459165692329}, {\"lambda\": 0.033334, \"variable\": \"E_train\", \"value\": 0.5589474084973335}, {\"lambda\": 1e-06, \"variable\": \"E_train\", \"value\": 0.5061065588891506}, {\"lambda\": 0.005556500000000001, \"variable\": \"E_train\", \"value\": 0.48988974958658216}, {\"lambda\": 0.011112, \"variable\": \"E_train\", \"value\": 0.510959360152483}, {\"lambda\": 1e-06, \"variable\": \"E_train\", \"value\": 0.5061065588891506}, {\"lambda\": 0.0018528333333333335, \"variable\": \"E_train\", \"value\": 0.4984751543402672}, {\"lambda\": 0.0037046666666666673, \"variable\": \"E_train\", \"value\": 0.498990832567215}, {\"lambda\": 1e-06, \"variable\": \"E_train\", \"value\": 0.5061065588891506}, {\"lambda\": 0.0006182777777777779, \"variable\": \"E_train\", \"value\": 0.508485065549612}, {\"lambda\": 0.0012355555555555557, \"variable\": \"E_train\", \"value\": 0.5054088881611825}, {\"lambda\": 1e-06, \"variable\": \"E_train\", \"value\": 0.5061065588891506}, {\"lambda\": 0.0002067592592592593, \"variable\": \"E_train\", \"value\": 0.5194301450252533}, {\"lambda\": 0.0004125185185185186, \"variable\": \"E_train\", \"value\": 0.5153328797221184}, {\"lambda\": 1e-06, \"variable\": \"E_train\", \"value\": 0.5061065588891506}, {\"lambda\": 6.958641975308642e-05, \"variable\": \"E_train\", \"value\": 0.5112350034713745}, {\"lambda\": 0.00013817283950617285, \"variable\": \"E_train\", \"value\": 0.5136707764863968}, {\"lambda\": 1e-06, \"variable\": \"E_train\", \"value\": 0.5061065588891506}, {\"lambda\": 2.3862139917695475e-05, \"variable\": \"E_train\", \"value\": 0.5160662007331848}, {\"lambda\": 4.6724279835390945e-05, \"variable\": \"E_train\", \"value\": 0.5113293182849884}, {\"lambda\": 1e-06, \"variable\": \"E_train\", \"value\": 0.5061065588891506}, {\"lambda\": 8.62071330589849e-06, \"variable\": \"E_train\", \"value\": 0.5184542581439018}, {\"lambda\": 1.624142661179698e-05, \"variable\": \"E_train\", \"value\": 0.5151128058135509}, {\"lambda\": 1e-06, \"variable\": \"E_train\", \"value\": 0.5061065588891506}, {\"lambda\": 3.5402377686328304e-06, \"variable\": \"E_train\", \"value\": 0.5012731571495533}, {\"lambda\": 6.08047553726566e-06, \"variable\": \"E_train\", \"value\": 0.5058568221330643}, {\"lambda\": 1e-06, \"variable\": \"E_dev\", \"value\": 0.5613523797785982}, {\"lambda\": 0.0500005, \"variable\": \"E_dev\", \"value\": 0.6559366162153001}, {\"lambda\": 0.1, \"variable\": \"E_dev\", \"value\": 0.7139421941329401}, {\"lambda\": 1e-06, \"variable\": \"E_dev\", \"value\": 0.5973768340991744}, {\"lambda\": 0.016667500000000002, \"variable\": \"E_dev\", \"value\": 0.5950486862384681}, {\"lambda\": 0.033334, \"variable\": \"E_dev\", \"value\": 0.6223046645416436}, {\"lambda\": 1e-06, \"variable\": \"E_dev\", \"value\": 0.5973768340991744}, {\"lambda\": 0.005556500000000001, \"variable\": \"E_dev\", \"value\": 0.5826285825447833}, {\"lambda\": 0.011112, \"variable\": \"E_dev\", \"value\": 0.5892177183471673}, {\"lambda\": 1e-06, \"variable\": \"E_dev\", \"value\": 0.5973768340991744}, {\"lambda\": 0.0018528333333333335, \"variable\": \"E_dev\", \"value\": 0.5921715512237651}, {\"lambda\": 0.0037046666666666673, \"variable\": \"E_dev\", \"value\": 0.5907615339713739}, {\"lambda\": 1e-06, \"variable\": \"E_dev\", \"value\": 0.5973768340991744}, {\"lambda\": 0.0006182777777777779, \"variable\": \"E_dev\", \"value\": 0.600812609419755}, {\"lambda\": 0.0012355555555555557, \"variable\": \"E_dev\", \"value\": 0.601023202458172}, {\"lambda\": 1e-06, \"variable\": \"E_dev\", \"value\": 0.5973768340991744}, {\"lambda\": 0.0002067592592592593, \"variable\": \"E_dev\", \"value\": 0.6101086011803742}, {\"lambda\": 0.0004125185185185186, \"variable\": \"E_dev\", \"value\": 0.6038872720079219}, {\"lambda\": 1e-06, \"variable\": \"E_dev\", \"value\": 0.5973768340991744}, {\"lambda\": 6.958641975308642e-05, \"variable\": \"E_dev\", \"value\": 0.6049916205782417}, {\"lambda\": 0.00013817283950617285, \"variable\": \"E_dev\", \"value\": 0.6061886460223096}, {\"lambda\": 1e-06, \"variable\": \"E_dev\", \"value\": 0.5973768340991744}, {\"lambda\": 2.3862139917695475e-05, \"variable\": \"E_dev\", \"value\": 0.6130693591338523}, {\"lambda\": 4.6724279835390945e-05, \"variable\": \"E_dev\", \"value\": 0.6045224893811747}, {\"lambda\": 1e-06, \"variable\": \"E_dev\", \"value\": 0.5973768340991744}, {\"lambda\": 8.62071330589849e-06, \"variable\": \"E_dev\", \"value\": 0.6129012406400755}, {\"lambda\": 1.624142661179698e-05, \"variable\": \"E_dev\", \"value\": 0.6091701062330117}, {\"lambda\": 1e-06, \"variable\": \"E_dev\", \"value\": 0.5973768340991744}, {\"lambda\": 3.5402377686328304e-06, \"variable\": \"E_dev\", \"value\": 0.5930994862677358}, {\"lambda\": 6.08047553726566e-06, \"variable\": \"E_dev\", \"value\": 0.5939837603281576}]}};\n",
       "var opt = {};\n",
       "var type = \"vega-lite\";\n",
       "var id = \"ca8a74f2-67ab-4576-a02a-d52d2465bef5\";\n",
       "\n",
       "var output_area = this;\n",
       "\n",
       "require([\"nbextensions/jupyter-vega/index\"], function(vega) {\n",
       "  var target = document.createElement(\"div\");\n",
       "  target.id = id;\n",
       "  target.className = \"vega-embed\";\n",
       "\n",
       "  var style = document.createElement(\"style\");\n",
       "  style.textContent = [\n",
       "    \".vega-embed .error p {\",\n",
       "    \"  color: firebrick;\",\n",
       "    \"  font-size: 14px;\",\n",
       "    \"}\",\n",
       "  ].join(\"\\\\n\");\n",
       "\n",
       "  // element is a jQuery wrapped DOM element inside the output area\n",
       "  // see http://ipython.readthedocs.io/en/stable/api/generated/\\\n",
       "  // IPython.display.html#IPython.display.Javascript.__init__\n",
       "  element[0].appendChild(target);\n",
       "  element[0].appendChild(style);\n",
       "\n",
       "  vega.render(\"#\" + id, spec, type, opt, output_area);\n",
       "}, function (err) {\n",
       "  if (err.requireType !== \"scripterror\") {\n",
       "    throw(err);\n",
       "  }\n",
       "});\n"
      ],
      "text/plain": [
       "<vega.vegalite.VegaLite at 0x159b19610>"
      ]
     },
     "metadata": {
      "jupyter-vega": "#ca8a74f2-67ab-4576-a02a-d52d2465bef5"
     },
     "output_type": "display_data"
    },
    {
     "data": {
      "text/plain": []
     },
     "execution_count": 10,
     "metadata": {},
     "output_type": "execute_result"
    },
    {
     "data": {
      "image/png": "[encoded data removed]"
     },
     "metadata": {
      "jupyter-vega": "#ca8a74f2-67ab-4576-a02a-d52d2465bef5"
     },
     "output_type": "display_data"
    }
   ],
   "source": [
    "ad = FasionMNISTAdapter(mlts.tf.adapter.Options(epochs=5, seed=1))\n",
    "_, lambda_hist = ad.tune_hyperparameters(\n",
    "    mlts.tf.generator.LambdaRange(start=0.000001, stop=0.1),\n",
    "    ds_train.take(100),\n",
    "    ds_dev,\n",
    ")\n",
    "alt.Chart(lambda_hist.melt(id_vars=\"lambda\")).mark_line().encode(\n",
    "    x = \"lambda\",\n",
    "    y = \"value\",\n",
    "    color = \"variable\"\n",
    ")"
   ]
  },
  {
   "cell_type": "code",
   "execution_count": 11,
   "metadata": {},
   "outputs": [
    {
     "data": {
      "text/html": [
       "<div>\n",
       "<style scoped>\n",
       "    .dataframe tbody tr th:only-of-type {\n",
       "        vertical-align: middle;\n",
       "    }\n",
       "\n",
       "    .dataframe tbody tr th {\n",
       "        vertical-align: top;\n",
       "    }\n",
       "\n",
       "    .dataframe thead th {\n",
       "        text-align: right;\n",
       "    }\n",
       "</style>\n",
       "<table border=\"1\" class=\"dataframe\">\n",
       "  <thead>\n",
       "    <tr style=\"text-align: right;\">\n",
       "      <th></th>\n",
       "      <th>hparam</th>\n",
       "    </tr>\n",
       "  </thead>\n",
       "  <tbody>\n",
       "    <tr>\n",
       "      <th>lambda</th>\n",
       "      <td>0.000001</td>\n",
       "    </tr>\n",
       "  </tbody>\n",
       "</table>\n",
       "</div>"
      ],
      "text/plain": [
       "          hparam\n",
       "lambda  0.000001"
      ]
     },
     "execution_count": 11,
     "metadata": {},
     "output_type": "execute_result"
    }
   ],
   "source": [
    "pd.DataFrame(ad.hparams, index=[\"hparam\"])[[\"lambda\"]].transpose()"
   ]
  },
  {
   "cell_type": "markdown",
   "metadata": {},
   "source": [
    "## Estimate the generalized error"
   ]
  },
  {
   "cell_type": "code",
   "execution_count": 12,
   "metadata": {},
   "outputs": [],
   "source": [
    "ad = FasionMNISTAdapter(mlts.tf.adapter.Options(epochs=10, seed=1), hparams=ad.hparams)"
   ]
  },
  {
   "cell_type": "code",
   "execution_count": 13,
   "metadata": {},
   "outputs": [
    {
     "data": {
      "application/javascript": [
       "var spec = {\"config\": {\"view\": {\"width\": 400, \"height\": 300}, \"mark\": {\"tooltip\": null}}, \"data\": {\"name\": \"data-a65371eb54bc29463dd27e24fba1afb3\"}, \"mark\": \"line\", \"encoding\": {\"color\": {\"type\": \"nominal\", \"field\": \"variable\"}, \"x\": {\"type\": \"quantitative\", \"field\": \"m_batch\"}, \"y\": {\"type\": \"quantitative\", \"field\": \"value\"}}, \"$schema\": \"https://vega.github.io/schema/vega-lite/v3.4.0.json\", \"datasets\": {\"data-a65371eb54bc29463dd27e24fba1afb3\": [{\"m_batch\": 1, \"variable\": \"E_train\", \"value\": 2.008270502090454}, {\"m_batch\": 132, \"variable\": \"E_train\", \"value\": 0.3305300200978915}, {\"m_batch\": 263, \"variable\": \"E_train\", \"value\": 0.3043073397908827}, {\"m_batch\": 394, \"variable\": \"E_train\", \"value\": 0.2977071689999648}, {\"m_batch\": 525, \"variable\": \"E_train\", \"value\": 0.30915652539048877}, {\"m_batch\": 656, \"variable\": \"E_train\", \"value\": 0.27296310672309343}, {\"m_batch\": 787, \"variable\": \"E_train\", \"value\": 0.2980156059707059}, {\"m_batch\": 918, \"variable\": \"E_train\", \"value\": 0.26831922436656513}, {\"m_batch\": 1049, \"variable\": \"E_train\", \"value\": 0.25697909879566544}, {\"m_batch\": 1180, \"variable\": \"E_train\", \"value\": 0.281906114717535}, {\"m_batch\": 1, \"variable\": \"E_dev\", \"value\": 2.26096384660572}, {\"m_batch\": 132, \"variable\": \"E_dev\", \"value\": 0.49643769189186976}, {\"m_batch\": 263, \"variable\": \"E_dev\", \"value\": 0.440405538133907}, {\"m_batch\": 394, \"variable\": \"E_dev\", \"value\": 0.41520227954214345}, {\"m_batch\": 525, \"variable\": \"E_dev\", \"value\": 0.414891169901858}, {\"m_batch\": 656, \"variable\": \"E_dev\", \"value\": 0.3691662754995603}, {\"m_batch\": 787, \"variable\": \"E_dev\", \"value\": 0.3990966896163234}, {\"m_batch\": 918, \"variable\": \"E_dev\", \"value\": 0.3567685404303649}, {\"m_batch\": 1049, \"variable\": \"E_dev\", \"value\": 0.3409953637524171}, {\"m_batch\": 1180, \"variable\": \"E_dev\", \"value\": 0.3649545629766393}]}};\n",
       "var opt = {};\n",
       "var type = \"vega-lite\";\n",
       "var id = \"9e891002-7271-4129-bf75-a2163021a411\";\n",
       "\n",
       "var output_area = this;\n",
       "\n",
       "require([\"nbextensions/jupyter-vega/index\"], function(vega) {\n",
       "  var target = document.createElement(\"div\");\n",
       "  target.id = id;\n",
       "  target.className = \"vega-embed\";\n",
       "\n",
       "  var style = document.createElement(\"style\");\n",
       "  style.textContent = [\n",
       "    \".vega-embed .error p {\",\n",
       "    \"  color: firebrick;\",\n",
       "    \"  font-size: 14px;\",\n",
       "    \"}\",\n",
       "  ].join(\"\\\\n\");\n",
       "\n",
       "  // element is a jQuery wrapped DOM element inside the output area\n",
       "  // see http://ipython.readthedocs.io/en/stable/api/generated/\\\n",
       "  // IPython.display.html#IPython.display.Javascript.__init__\n",
       "  element[0].appendChild(target);\n",
       "  element[0].appendChild(style);\n",
       "\n",
       "  vega.render(\"#\" + id, spec, type, opt, output_area);\n",
       "}, function (err) {\n",
       "  if (err.requireType !== \"scripterror\") {\n",
       "    throw(err);\n",
       "  }\n",
       "});\n"
      ],
      "text/plain": [
       "<vega.vegalite.VegaLite at 0x18785a110>"
      ]
     },
     "metadata": {
      "jupyter-vega": "#9e891002-7271-4129-bf75-a2163021a411"
     },
     "output_type": "display_data"
    },
    {
     "data": {
      "text/plain": []
     },
     "execution_count": 13,
     "metadata": {},
     "output_type": "execute_result"
    },
    {
     "data": {
      "image/png": "[encoded data removed]"
     },
     "metadata": {
      "jupyter-vega": "#9e891002-7271-4129-bf75-a2163021a411"
     },
     "output_type": "display_data"
    }
   ],
   "source": [
    "m_hist = FasionMNISTAdapter.analyze_dataset(ad.options, ad.hparams, ds_train, ds_dev)\n",
    "alt.Chart(m_hist.melt(id_vars=\"m_batch\")).mark_line().encode(\n",
    "    x = \"m_batch\",\n",
    "    y = \"value\",\n",
    "    color = \"variable\"\n",
    ")"
   ]
  },
  {
   "cell_type": "code",
   "execution_count": 14,
   "metadata": {},
   "outputs": [
    {
     "data": {
      "text/html": [
       "<div>\n",
       "<style scoped>\n",
       "    .dataframe tbody tr th:only-of-type {\n",
       "        vertical-align: middle;\n",
       "    }\n",
       "\n",
       "    .dataframe tbody tr th {\n",
       "        vertical-align: top;\n",
       "    }\n",
       "\n",
       "    .dataframe thead th {\n",
       "        text-align: right;\n",
       "    }\n",
       "</style>\n",
       "<table border=\"1\" class=\"dataframe\">\n",
       "  <thead>\n",
       "    <tr style=\"text-align: right;\">\n",
       "      <th></th>\n",
       "      <th>hparam</th>\n",
       "    </tr>\n",
       "  </thead>\n",
       "  <tbody>\n",
       "    <tr>\n",
       "      <th>lambda</th>\n",
       "      <td>0.000001</td>\n",
       "    </tr>\n",
       "  </tbody>\n",
       "</table>\n",
       "</div>"
      ],
      "text/plain": [
       "          hparam\n",
       "lambda  0.000001"
      ]
     },
     "execution_count": 14,
     "metadata": {},
     "output_type": "execute_result"
    }
   ],
   "source": [
    "pd.DataFrame(ad.hparams, index=[\"hparam\"]).transpose()"
   ]
  },
  {
   "cell_type": "code",
   "execution_count": 15,
   "metadata": {},
   "outputs": [
    {
     "name": "stdout",
     "output_type": "stream",
     "text": [
      "Model: \"sequential_123\"\n",
      "_________________________________________________________________\n",
      "Layer (type)                 Output Shape              Param #   \n",
      "=================================================================\n",
      "conv2d_246 (Conv2D)          (None, 26, 26, 16)        160       \n",
      "_________________________________________________________________\n",
      "max_pooling2d_246 (MaxPoolin (None, 13, 13, 16)        0         \n",
      "_________________________________________________________________\n",
      "conv2d_247 (Conv2D)          (None, 11, 11, 16)        2320      \n",
      "_________________________________________________________________\n",
      "max_pooling2d_247 (MaxPoolin (None, 5, 5, 16)          0         \n",
      "_________________________________________________________________\n",
      "flatten_123 (Flatten)        (None, 400)               0         \n",
      "_________________________________________________________________\n",
      "dense_369 (Dense)            (None, 16)                6416      \n",
      "_________________________________________________________________\n",
      "dense_370 (Dense)            (None, 16)                272       \n",
      "_________________________________________________________________\n",
      "dense_371 (Dense)            (None, 10)                170       \n",
      "=================================================================\n",
      "Total params: 9,338\n",
      "Trainable params: 9,338\n",
      "Non-trainable params: 0\n",
      "_________________________________________________________________\n"
     ]
    }
   ],
   "source": [
    "ad.fit(ds_train, metrics=[\"accuracy\"])\n",
    "ad.m.summary()"
   ]
  },
  {
   "cell_type": "code",
   "execution_count": 16,
   "metadata": {},
   "outputs": [
    {
     "data": {
      "application/javascript": [
       "var spec = {\"config\": {\"view\": {\"width\": 400, \"height\": 300}, \"mark\": {\"tooltip\": null}}, \"data\": {\"name\": \"data-8fc8bac43a13024ada9f7c37e92d84b0\"}, \"mark\": \"line\", \"encoding\": {\"x\": {\"type\": \"quantitative\", \"field\": \"epoch\"}, \"y\": {\"type\": \"quantitative\", \"field\": \"loss\"}}, \"$schema\": \"https://vega.github.io/schema/vega-lite/v3.4.0.json\", \"datasets\": {\"data-8fc8bac43a13024ada9f7c37e92d84b0\": [{\"index\": 0, \"epoch\": 0, \"loss\": 0.6445960556830264, \"accuracy\": 0.7695252895355225}, {\"index\": 1, \"epoch\": 1, \"loss\": 0.41942237553440453, \"accuracy\": 0.8490296602249146}, {\"index\": 2, \"epoch\": 2, \"loss\": 0.37232037430098974, \"accuracy\": 0.8649876117706299}, {\"index\": 3, \"epoch\": 3, \"loss\": 0.34331125355236336, \"accuracy\": 0.8765934109687805}, {\"index\": 4, \"epoch\": 4, \"loss\": 0.32265628631619375, \"accuracy\": 0.883942186832428}, {\"index\": 5, \"epoch\": 5, \"loss\": 0.3070196126427507, \"accuracy\": 0.8891029357910156}, {\"index\": 6, \"epoch\": 6, \"loss\": 0.29460421288768723, \"accuracy\": 0.8939545154571533}, {\"index\": 7, \"epoch\": 7, \"loss\": 0.2841444382418508, \"accuracy\": 0.8972126841545105}, {\"index\": 8, \"epoch\": 8, \"loss\": 0.274994769417135, \"accuracy\": 0.8999714851379395}, {\"index\": 9, \"epoch\": 9, \"loss\": 0.2671673017351277, \"accuracy\": 0.9037052989006042}]}};\n",
       "var opt = {};\n",
       "var type = \"vega-lite\";\n",
       "var id = \"65cbee70-2981-4ec2-883b-fe6124c1ed81\";\n",
       "\n",
       "var output_area = this;\n",
       "\n",
       "require([\"nbextensions/jupyter-vega/index\"], function(vega) {\n",
       "  var target = document.createElement(\"div\");\n",
       "  target.id = id;\n",
       "  target.className = \"vega-embed\";\n",
       "\n",
       "  var style = document.createElement(\"style\");\n",
       "  style.textContent = [\n",
       "    \".vega-embed .error p {\",\n",
       "    \"  color: firebrick;\",\n",
       "    \"  font-size: 14px;\",\n",
       "    \"}\",\n",
       "  ].join(\"\\\\n\");\n",
       "\n",
       "  // element is a jQuery wrapped DOM element inside the output area\n",
       "  // see http://ipython.readthedocs.io/en/stable/api/generated/\\\n",
       "  // IPython.display.html#IPython.display.Javascript.__init__\n",
       "  element[0].appendChild(target);\n",
       "  element[0].appendChild(style);\n",
       "\n",
       "  vega.render(\"#\" + id, spec, type, opt, output_area);\n",
       "}, function (err) {\n",
       "  if (err.requireType !== \"scripterror\") {\n",
       "    throw(err);\n",
       "  }\n",
       "});\n"
      ],
      "text/plain": [
       "<vega.vegalite.VegaLite at 0x18a07e610>"
      ]
     },
     "metadata": {
      "jupyter-vega": "#65cbee70-2981-4ec2-883b-fe6124c1ed81"
     },
     "output_type": "display_data"
    },
    {
     "data": {
      "text/plain": []
     },
     "execution_count": 16,
     "metadata": {},
     "output_type": "execute_result"
    },
    {
     "data": {
      "image/png": "[encoded data removed]"
     },
     "metadata": {
      "jupyter-vega": "#65cbee70-2981-4ec2-883b-fe6124c1ed81"
     },
     "output_type": "display_data"
    }
   ],
   "source": [
    "alt.Chart(ad.metrics_history().reset_index()).mark_line().encode(\n",
    "    x = \"epoch\",\n",
    "    y = \"loss\",\n",
    ")"
   ]
  },
  {
   "cell_type": "code",
   "execution_count": 17,
   "metadata": {},
   "outputs": [
    {
     "data": {
      "text/html": [
       "<div>\n",
       "<style scoped>\n",
       "    .dataframe tbody tr th:only-of-type {\n",
       "        vertical-align: middle;\n",
       "    }\n",
       "\n",
       "    .dataframe tbody tr th {\n",
       "        vertical-align: top;\n",
       "    }\n",
       "\n",
       "    .dataframe thead th {\n",
       "        text-align: right;\n",
       "    }\n",
       "</style>\n",
       "<table border=\"1\" class=\"dataframe\">\n",
       "  <thead>\n",
       "    <tr style=\"text-align: right;\">\n",
       "      <th></th>\n",
       "      <th>train</th>\n",
       "      <th>dev</th>\n",
       "      <th>test</th>\n",
       "    </tr>\n",
       "  </thead>\n",
       "  <tbody>\n",
       "    <tr>\n",
       "      <th>loss</th>\n",
       "      <td>0.267167</td>\n",
       "      <td>0.350016</td>\n",
       "      <td>0.365367</td>\n",
       "    </tr>\n",
       "    <tr>\n",
       "      <th>accuracy</th>\n",
       "      <td>0.903705</td>\n",
       "      <td>0.877370</td>\n",
       "      <td>0.875929</td>\n",
       "    </tr>\n",
       "  </tbody>\n",
       "</table>\n",
       "</div>"
      ],
      "text/plain": [
       "             train       dev      test\n",
       "loss      0.267167  0.350016  0.365367\n",
       "accuracy  0.903705  0.877370  0.875929"
      ]
     },
     "execution_count": 17,
     "metadata": {},
     "output_type": "execute_result"
    }
   ],
   "source": [
    "ad.generalized_metrics(ds_dev, ds_test)"
   ]
  },
  {
   "cell_type": "code",
   "execution_count": null,
   "metadata": {},
   "outputs": [],
   "source": []
  }
 ],
 "metadata": {
  "kernelspec": {
   "display_name": "Python 3",
   "language": "python",
   "name": "python3"
  },
  "language_info": {
   "codemirror_mode": {
    "name": "ipython",
    "version": 3
   },
   "file_extension": ".py",
   "mimetype": "text/x-python",
   "name": "python",
   "nbconvert_exporter": "python",
   "pygments_lexer": "ipython3",
   "version": "3.7.4"
  }
 },
 "nbformat": 4,
 "nbformat_minor": 2
}
