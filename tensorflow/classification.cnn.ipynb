{
 "cells": [
  {
   "cell_type": "code",
   "execution_count": null,
   "metadata": {},
   "outputs": [],
   "source": [
    "import pandas as pd\n",
    "import numpy as np\n",
    "import tensorflow as tf\n",
    "import mlts\n",
    "\n",
    "import altair as alt\n",
    "alt.renderers.enable('notebook')"
   ]
  },
  {
   "cell_type": "markdown",
   "metadata": {},
   "source": [
    "## Load data"
   ]
  },
  {
   "cell_type": "code",
   "execution_count": 2,
   "metadata": {},
   "outputs": [],
   "source": [
    "data = mlts.io.merge([\n",
    "    pd.read_csv('../data/fashion-mnist/fashion-mnist_train.csv'),\n",
    "    pd.read_csv('../data/fashion-mnist/fashion-mnist_train.csv')\n",
    "])"
   ]
  },
  {
   "cell_type": "code",
   "execution_count": 3,
   "metadata": {},
   "outputs": [],
   "source": [
    "mlts.io.check(data)"
   ]
  },
  {
   "cell_type": "code",
   "execution_count": 4,
   "metadata": {},
   "outputs": [],
   "source": [
    "K = len(data.iloc[:, 0].value_counts())\n",
    "ds_train, ds_dev, ds_test, mu, sigma = \\\n",
    "    mlts.io.normalize(mlts.io.split(data, ycol=0, shape=(35968), seed=1), target_shape=(28, 28, 1))"
   ]
  },
  {
   "cell_type": "markdown",
   "metadata": {},
   "source": [
    "## Implement the model"
   ]
  },
  {
   "cell_type": "code",
   "execution_count": 5,
   "metadata": {},
   "outputs": [],
   "source": [
    "class FasionMNISTAdapter(mlts.tf.ModelAdapter):\n",
    "    def __init__(self, *args, **kwargs):\n",
    "        super(FasionMNISTAdapter, self).__init__(*args, **kwargs)\n",
    "\n",
    "    @staticmethod\n",
    "    def build_model(options, hparams = {}, metrics = []):\n",
    "        regularization = None\n",
    "        if \"lambda\" in hparams:\n",
    "            regularization = tf.keras.regularizers.l2(l=hparams[\"lambda\"])\n",
    "\n",
    "        model = tf.keras.models.Sequential([\n",
    "            ## The reason of using 'InputLayer' is only to\n",
    "            ## show up a shape of each layer in `model.summary()`.\n",
    "            tf.keras.layers.InputLayer(input_shape=(28, 28, 1)),\n",
    "            tf.keras.layers.Conv2D(16, (3, 3), activation='relu'),\n",
    "            tf.keras.layers.MaxPooling2D(2, 2),\n",
    "            tf.keras.layers.Conv2D(16, (3, 3), activation='relu'),\n",
    "            tf.keras.layers.MaxPooling2D(2, 2),\n",
    "            tf.keras.layers.Flatten(),\n",
    "            tf.keras.layers.Dense(\n",
    "                16,\n",
    "                activation=tf.nn.relu,\n",
    "                kernel_initializer=tf.keras.initializers.he_uniform(options[\"seed\"]),\n",
    "                kernel_regularizer=regularization,\n",
    "            ),\n",
    "            tf.keras.layers.Dense(\n",
    "                16,\n",
    "                activation=tf.nn.relu,\n",
    "                kernel_initializer=tf.keras.initializers.he_uniform(options[\"seed\"]),\n",
    "                kernel_regularizer=regularization,\n",
    "            ),\n",
    "            tf.keras.layers.Dense(\n",
    "                K,\n",
    "                activation=tf.nn.softmax,\n",
    "                kernel_initializer=tf.keras.initializers.he_uniform(options[\"seed\"]),\n",
    "                kernel_regularizer=regularization,\n",
    "            ),\n",
    "        ])\n",
    "        model.compile(\n",
    "            optimizer=tf.keras.optimizers.Adam(\n",
    "                learning_rate=hparams.get(\"alpha\", 0.001),\n",
    "                beta_1=hparams.get(\"beta_1\", 0.9),\n",
    "                beta_2=hparams.get(\"beta_2\", 0.999),\n",
    "            ),\n",
    "            loss='sparse_categorical_crossentropy',\n",
    "            metrics=metrics,\n",
    "        )\n",
    "        \n",
    "        return model\n",
    "    \n",
    "    @staticmethod\n",
    "    def estimate_parameters(options, model, ds, callbacks=[]):\n",
    "        mlts.tf.ModelAdapter.verify_options(options)\n",
    "        if options[\"seed\"] != None: tf.random.set_seed(options[\"seed\"])\n",
    "        model.fit(\n",
    "            tf.data.Dataset.from_tensor_slices(ds).batch(options[\"batch_size\"]),\n",
    "            epochs=options[\"epochs\"],\n",
    "            shuffle=False,\n",
    "            callbacks=callbacks,\n",
    "            verbose=options[\"verbose\"],\n",
    "        )\n",
    "        \n",
    "        return model"
   ]
  },
  {
   "cell_type": "code",
   "execution_count": 6,
   "metadata": {},
   "outputs": [
    {
     "name": "stdout",
     "output_type": "stream",
     "text": [
      "Model: \"sequential\"\n",
      "_________________________________________________________________\n",
      "Layer (type)                 Output Shape              Param #   \n",
      "=================================================================\n",
      "conv2d (Conv2D)              (None, 26, 26, 16)        160       \n",
      "_________________________________________________________________\n",
      "max_pooling2d (MaxPooling2D) (None, 13, 13, 16)        0         \n",
      "_________________________________________________________________\n",
      "conv2d_1 (Conv2D)            (None, 11, 11, 16)        2320      \n",
      "_________________________________________________________________\n",
      "max_pooling2d_1 (MaxPooling2 (None, 5, 5, 16)          0         \n",
      "_________________________________________________________________\n",
      "flatten (Flatten)            (None, 400)               0         \n",
      "_________________________________________________________________\n",
      "dense (Dense)                (None, 16)                6416      \n",
      "_________________________________________________________________\n",
      "dense_1 (Dense)              (None, 16)                272       \n",
      "_________________________________________________________________\n",
      "dense_2 (Dense)              (None, 10)                170       \n",
      "=================================================================\n",
      "Total params: 9,338\n",
      "Trainable params: 9,338\n",
      "Non-trainable params: 0\n",
      "_________________________________________________________________\n"
     ]
    }
   ],
   "source": [
    "model = FasionMNISTAdapter.build_model({\"seed\": 1})\n",
    "model.build(ds_train[0].shape)\n",
    "model.summary()"
   ]
  },
  {
   "cell_type": "markdown",
   "metadata": {},
   "source": [
    "## Analyze the dataset"
   ]
  },
  {
   "cell_type": "code",
   "execution_count": 7,
   "metadata": {},
   "outputs": [
    {
     "name": "stderr",
     "output_type": "stream",
     "text": [
      "WARNING: Logging before flag parsing goes to stderr.\n",
      "W0806 11:43:52.036091 4572280256 deprecation.py:323] From /Users/manifest/projects/github/machine-learning-notebook/venv/lib/python3.7/site-packages/tensorflow/python/ops/math_grad.py:1250: add_dispatch_support.<locals>.wrapper (from tensorflow.python.ops.array_ops) is deprecated and will be removed in a future version.\n",
      "Instructions for updating:\n",
      "Use tf.where in 2.0, which has the same broadcast rule as np.where\n"
     ]
    },
    {
     "data": {
      "application/javascript": [
       "var spec = {\"config\": {\"view\": {\"width\": 400, \"height\": 300}, \"mark\": {\"tooltip\": null}}, \"data\": {\"name\": \"data-8a3dd6d755f9c693e7f7290857dc08ff\"}, \"mark\": \"line\", \"encoding\": {\"color\": {\"type\": \"nominal\", \"field\": \"variable\"}, \"x\": {\"type\": \"quantitative\", \"field\": \"m\"}, \"y\": {\"type\": \"quantitative\", \"field\": \"value\"}}, \"$schema\": \"https://vega.github.io/schema/vega-lite/v3.3.0.json\", \"datasets\": {\"data-8a3dd6d755f9c693e7f7290857dc08ff\": [{\"m\": 1, \"variable\": \"E_train\", \"value\": 1.5551615953445435}, {\"m\": 3997, \"variable\": \"E_train\", \"value\": 0.464036329227416}, {\"m\": 7993, \"variable\": \"E_train\", \"value\": 0.42293230649170077}, {\"m\": 11990, \"variable\": \"E_train\", \"value\": 0.38731631260300003}, {\"m\": 15986, \"variable\": \"E_train\", \"value\": 0.36584010076518353}, {\"m\": 19982, \"variable\": \"E_train\", \"value\": 0.34445996625909525}, {\"m\": 23979, \"variable\": \"E_train\", \"value\": 0.3485561359355724}, {\"m\": 27975, \"variable\": \"E_train\", \"value\": 0.3383586226663385}, {\"m\": 31971, \"variable\": \"E_train\", \"value\": 0.348116546028463}, {\"m\": 35968, \"variable\": \"E_train\", \"value\": 0.32749672900567167}, {\"m\": 1, \"variable\": \"E_dev\", \"value\": 2.3521203920609697}, {\"m\": 3997, \"variable\": \"E_dev\", \"value\": 0.5653736238130063}, {\"m\": 7993, \"variable\": \"E_dev\", \"value\": 0.505383954518509}, {\"m\": 11990, \"variable\": \"E_dev\", \"value\": 0.45845478955998886}, {\"m\": 15986, \"variable\": \"E_dev\", \"value\": 0.4288201544432905}, {\"m\": 19982, \"variable\": \"E_dev\", \"value\": 0.39779506854695046}, {\"m\": 23979, \"variable\": \"E_dev\", \"value\": 0.4011066793871515}, {\"m\": 27975, \"variable\": \"E_dev\", \"value\": 0.38339703248027385}, {\"m\": 31971, \"variable\": \"E_dev\", \"value\": 0.39989595784309817}, {\"m\": 35968, \"variable\": \"E_dev\", \"value\": 0.36640484461401596}]}};\n",
       "var opt = {};\n",
       "var type = \"vega-lite\";\n",
       "var id = \"06250798-f671-407b-a535-427f5630c086\";\n",
       "\n",
       "var output_area = this;\n",
       "\n",
       "require([\"nbextensions/jupyter-vega/index\"], function(vega) {\n",
       "  var target = document.createElement(\"div\");\n",
       "  target.id = id;\n",
       "  target.className = \"vega-embed\";\n",
       "\n",
       "  var style = document.createElement(\"style\");\n",
       "  style.textContent = [\n",
       "    \".vega-embed .error p {\",\n",
       "    \"  color: firebrick;\",\n",
       "    \"  font-size: 14px;\",\n",
       "    \"}\",\n",
       "  ].join(\"\\\\n\");\n",
       "\n",
       "  // element is a jQuery wrapped DOM element inside the output area\n",
       "  // see http://ipython.readthedocs.io/en/stable/api/generated/\\\n",
       "  // IPython.display.html#IPython.display.Javascript.__init__\n",
       "  element[0].appendChild(target);\n",
       "  element[0].appendChild(style);\n",
       "\n",
       "  vega.render(\"#\" + id, spec, type, opt, output_area);\n",
       "}, function (err) {\n",
       "  if (err.requireType !== \"scripterror\") {\n",
       "    throw(err);\n",
       "  }\n",
       "});\n"
      ],
      "text/plain": [
       "<vega.vegalite.VegaLite at 0x148101c10>"
      ]
     },
     "metadata": {
      "jupyter-vega": "#06250798-f671-407b-a535-427f5630c086"
     },
     "output_type": "display_data"
    },
    {
     "data": {
      "text/plain": []
     },
     "execution_count": 7,
     "metadata": {},
     "output_type": "execute_result"
    },
    {
     "data": {
      "image/png": "[encoded data removed]"
     },
     "metadata": {
      "jupyter-vega": "#06250798-f671-407b-a535-427f5630c086"
     },
     "output_type": "display_data"
    }
   ],
   "source": [
    "ad = FasionMNISTAdapter({\"epochs\": 5, \"seed\": 1})\n",
    "m_hist = ad.analyze_dataset(ds_train, ds_dev)\n",
    "alt.Chart(m_hist.melt(id_vars=\"m\")).mark_line().encode(\n",
    "    x = \"m\",\n",
    "    y = \"value\",\n",
    "    color = \"variable\"\n",
    ")"
   ]
  },
  {
   "cell_type": "markdown",
   "metadata": {},
   "source": [
    "## Evaluate the model"
   ]
  },
  {
   "cell_type": "code",
   "execution_count": 8,
   "metadata": {},
   "outputs": [
    {
     "data": {
      "application/javascript": [
       "var spec = {\"config\": {\"view\": {\"width\": 400, \"height\": 300}, \"mark\": {\"tooltip\": null}}, \"data\": {\"name\": \"data-d038f9e70d66b305084ec96a735a3e65\"}, \"mark\": \"line\", \"encoding\": {\"x\": {\"type\": \"quantitative\", \"field\": \"epoch\"}, \"y\": {\"type\": \"quantitative\", \"field\": \"loss\"}}, \"$schema\": \"https://vega.github.io/schema/vega-lite/v3.3.0.json\", \"datasets\": {\"data-d038f9e70d66b305084ec96a735a3e65\": [{\"index\": 0, \"epoch\": 0, \"loss\": 0.6901869749073668, \"accuracy\": 0.7496663928031921}, {\"index\": 1, \"epoch\": 1, \"loss\": 0.4375393470663087, \"accuracy\": 0.8425266742706299}, {\"index\": 2, \"epoch\": 2, \"loss\": 0.38971718625427354, \"accuracy\": 0.8601812720298767}, {\"index\": 3, \"epoch\": 3, \"loss\": 0.3606729810242127, \"accuracy\": 0.8720529079437256}, {\"index\": 4, \"epoch\": 4, \"loss\": 0.3389530233389224, \"accuracy\": 0.8790591359138489}]}};\n",
       "var opt = {};\n",
       "var type = \"vega-lite\";\n",
       "var id = \"0904b896-5754-4528-b686-52ae89be1c52\";\n",
       "\n",
       "var output_area = this;\n",
       "\n",
       "require([\"nbextensions/jupyter-vega/index\"], function(vega) {\n",
       "  var target = document.createElement(\"div\");\n",
       "  target.id = id;\n",
       "  target.className = \"vega-embed\";\n",
       "\n",
       "  var style = document.createElement(\"style\");\n",
       "  style.textContent = [\n",
       "    \".vega-embed .error p {\",\n",
       "    \"  color: firebrick;\",\n",
       "    \"  font-size: 14px;\",\n",
       "    \"}\",\n",
       "  ].join(\"\\\\n\");\n",
       "\n",
       "  // element is a jQuery wrapped DOM element inside the output area\n",
       "  // see http://ipython.readthedocs.io/en/stable/api/generated/\\\n",
       "  // IPython.display.html#IPython.display.Javascript.__init__\n",
       "  element[0].appendChild(target);\n",
       "  element[0].appendChild(style);\n",
       "\n",
       "  vega.render(\"#\" + id, spec, type, opt, output_area);\n",
       "}, function (err) {\n",
       "  if (err.requireType !== \"scripterror\") {\n",
       "    throw(err);\n",
       "  }\n",
       "});\n"
      ],
      "text/plain": [
       "<vega.vegalite.VegaLite at 0x1487d5150>"
      ]
     },
     "metadata": {
      "jupyter-vega": "#0904b896-5754-4528-b686-52ae89be1c52"
     },
     "output_type": "display_data"
    },
    {
     "data": {
      "text/plain": []
     },
     "execution_count": 8,
     "metadata": {},
     "output_type": "execute_result"
    },
    {
     "data": {
      "image/png": "[encoded data removed]"
     },
     "metadata": {
      "jupyter-vega": "#0904b896-5754-4528-b686-52ae89be1c52"
     },
     "output_type": "display_data"
    }
   ],
   "source": [
    "ad = FasionMNISTAdapter({\"epochs\": 5, \"seed\": 1}, metrics=[\"accuracy\"])\n",
    "ad.fit(ds_train)\n",
    "alt.Chart(ad.metrics_history().reset_index()).mark_line().encode(\n",
    "    x = \"epoch\",\n",
    "    y = \"loss\",\n",
    ")"
   ]
  },
  {
   "cell_type": "code",
   "execution_count": 9,
   "metadata": {},
   "outputs": [
    {
     "data": {
      "text/html": [
       "<div>\n",
       "<style scoped>\n",
       "    .dataframe tbody tr th:only-of-type {\n",
       "        vertical-align: middle;\n",
       "    }\n",
       "\n",
       "    .dataframe tbody tr th {\n",
       "        vertical-align: top;\n",
       "    }\n",
       "\n",
       "    .dataframe thead th {\n",
       "        text-align: right;\n",
       "    }\n",
       "</style>\n",
       "<table border=\"1\" class=\"dataframe\">\n",
       "  <thead>\n",
       "    <tr style=\"text-align: right;\">\n",
       "      <th></th>\n",
       "      <th>train</th>\n",
       "      <th>dev</th>\n",
       "      <th>test</th>\n",
       "    </tr>\n",
       "  </thead>\n",
       "  <tbody>\n",
       "    <tr>\n",
       "      <th>loss</th>\n",
       "      <td>0.338953</td>\n",
       "      <td>0.366405</td>\n",
       "      <td>0.372237</td>\n",
       "    </tr>\n",
       "    <tr>\n",
       "      <th>accuracy</th>\n",
       "      <td>0.879059</td>\n",
       "      <td>0.867899</td>\n",
       "      <td>0.868729</td>\n",
       "    </tr>\n",
       "  </tbody>\n",
       "</table>\n",
       "</div>"
      ],
      "text/plain": [
       "             train       dev      test\n",
       "loss      0.338953  0.366405  0.372237\n",
       "accuracy  0.879059  0.867899  0.868729"
      ]
     },
     "execution_count": 9,
     "metadata": {},
     "output_type": "execute_result"
    }
   ],
   "source": [
    "ad.generalized_metrics(ds_dev, ds_test)"
   ]
  },
  {
   "cell_type": "markdown",
   "metadata": {},
   "source": [
    "## Tune hyperparameters"
   ]
  },
  {
   "cell_type": "code",
   "execution_count": 10,
   "metadata": {},
   "outputs": [
    {
     "data": {
      "application/javascript": [
       "var spec = {\"config\": {\"view\": {\"width\": 400, \"height\": 300}, \"mark\": {\"tooltip\": null}}, \"data\": {\"name\": \"data-0ee058ffa16f74aa8d137ed87d4d7b18\"}, \"mark\": \"line\", \"encoding\": {\"color\": {\"type\": \"nominal\", \"field\": \"variable\"}, \"x\": {\"type\": \"quantitative\", \"field\": \"lambda\"}, \"y\": {\"type\": \"quantitative\", \"field\": \"value\"}}, \"$schema\": \"https://vega.github.io/schema/vega-lite/v3.3.0.json\", \"datasets\": {\"data-0ee058ffa16f74aa8d137ed87d4d7b18\": [{\"lambda\": 1e-06, \"variable\": \"E_train\", \"value\": 0.6461033234372735}, {\"lambda\": 0.0500005, \"variable\": \"E_train\", \"value\": 0.7560926117002964}, {\"lambda\": 0.1, \"variable\": \"E_train\", \"value\": 0.850360669195652}, {\"lambda\": 1e-06, \"variable\": \"E_train\", \"value\": 0.701072764582932}, {\"lambda\": 0.016667500000000002, \"variable\": \"E_train\", \"value\": 0.7053093379363418}, {\"lambda\": 0.033334, \"variable\": \"E_train\", \"value\": 0.7370610777288675}, {\"lambda\": 1e-06, \"variable\": \"E_train\", \"value\": 0.701072764582932}, {\"lambda\": 0.005556500000000001, \"variable\": \"E_train\", \"value\": 0.6692240396514535}, {\"lambda\": 0.011112, \"variable\": \"E_train\", \"value\": 0.6989497123286128}, {\"lambda\": 1e-06, \"variable\": \"E_train\", \"value\": 0.701072764582932}, {\"lambda\": 0.0018528333333333335, \"variable\": \"E_train\", \"value\": 0.6938997656106949}, {\"lambda\": 0.0037046666666666673, \"variable\": \"E_train\", \"value\": 0.6678183861076832}, {\"lambda\": 1e-06, \"variable\": \"E_train\", \"value\": 0.701072764582932}, {\"lambda\": 0.0006182777777777779, \"variable\": \"E_train\", \"value\": 0.668152192607522}, {\"lambda\": 0.0012355555555555557, \"variable\": \"E_train\", \"value\": 0.6717570871114731}, {\"lambda\": 1e-06, \"variable\": \"E_train\", \"value\": 0.701072764582932}, {\"lambda\": 0.0002067592592592593, \"variable\": \"E_train\", \"value\": 0.6657219426706433}, {\"lambda\": 0.0004125185185185186, \"variable\": \"E_train\", \"value\": 0.6353736352175474}, {\"lambda\": 0.0002753456790123458, \"variable\": \"E_train\", \"value\": 0.6559779578819871}, {\"lambda\": 0.00034393209876543217, \"variable\": \"E_train\", \"value\": 0.6663561128079891}, {\"lambda\": 0.0004125185185185186, \"variable\": \"E_train\", \"value\": 0.6353736352175474}, {\"lambda\": 0.00036679423868312766, \"variable\": \"E_train\", \"value\": 0.6719659632071853}, {\"lambda\": 0.00038965637860082316, \"variable\": \"E_train\", \"value\": 0.6631240202113986}, {\"lambda\": 0.0004125185185185186, \"variable\": \"E_train\", \"value\": 0.6353736352175474}, {\"lambda\": 0.0003972770919067216, \"variable\": \"E_train\", \"value\": 0.6441017761826515}, {\"lambda\": 0.0004048978052126201, \"variable\": \"E_train\", \"value\": 0.6424252800643444}, {\"lambda\": 0.0004125185185185186, \"variable\": \"E_train\", \"value\": 0.6353736352175474}, {\"lambda\": 0.0004074380429812529, \"variable\": \"E_train\", \"value\": 0.6314766379073262}, {\"lambda\": 0.00040997828074988577, \"variable\": \"E_train\", \"value\": 0.638447692617774}, {\"lambda\": 0.0004125185185185186, \"variable\": \"E_train\", \"value\": 0.6353736352175474}, {\"lambda\": 1e-06, \"variable\": \"E_dev\", \"value\": 0.7983077742021587}, {\"lambda\": 0.0500005, \"variable\": \"E_dev\", \"value\": 0.8517628392924894}, {\"lambda\": 0.1, \"variable\": \"E_dev\", \"value\": 0.9283646110950966}, {\"lambda\": 1e-06, \"variable\": \"E_dev\", \"value\": 0.8415420527817628}, {\"lambda\": 0.016667500000000002, \"variable\": \"E_dev\", \"value\": 0.826068910405513}, {\"lambda\": 0.033334, \"variable\": \"E_dev\", \"value\": 0.838437078366658}, {\"lambda\": 1e-06, \"variable\": \"E_dev\", \"value\": 0.8415420527817628}, {\"lambda\": 0.005556500000000001, \"variable\": \"E_dev\", \"value\": 0.7996941452961931}, {\"lambda\": 0.011112, \"variable\": \"E_dev\", \"value\": 0.8335184909947645}, {\"lambda\": 1e-06, \"variable\": \"E_dev\", \"value\": 0.8415420527817628}, {\"lambda\": 0.0018528333333333335, \"variable\": \"E_dev\", \"value\": 0.822959264254568}, {\"lambda\": 0.0037046666666666673, \"variable\": \"E_dev\", \"value\": 0.806410242233202}, {\"lambda\": 1e-06, \"variable\": \"E_dev\", \"value\": 0.8415420527817628}, {\"lambda\": 0.0006182777777777779, \"variable\": \"E_dev\", \"value\": 0.8038824720063982}, {\"lambda\": 0.0012355555555555557, \"variable\": \"E_dev\", \"value\": 0.8064694218952291}, {\"lambda\": 1e-06, \"variable\": \"E_dev\", \"value\": 0.8415420527817628}, {\"lambda\": 0.0002067592592592593, \"variable\": \"E_dev\", \"value\": 0.805860510181062}, {\"lambda\": 0.0004125185185185186, \"variable\": \"E_dev\", \"value\": 0.7738325687296622}, {\"lambda\": 0.0002753456790123458, \"variable\": \"E_dev\", \"value\": 0.7945544166552684}, {\"lambda\": 0.00034393209876543217, \"variable\": \"E_dev\", \"value\": 0.8029839397267586}, {\"lambda\": 0.0004125185185185186, \"variable\": \"E_dev\", \"value\": 0.7738325687296622}, {\"lambda\": 0.00036679423868312766, \"variable\": \"E_dev\", \"value\": 0.8128189832053677}, {\"lambda\": 0.00038965637860082316, \"variable\": \"E_dev\", \"value\": 0.8059267640677305}, {\"lambda\": 0.0004125185185185186, \"variable\": \"E_dev\", \"value\": 0.7738325687296622}, {\"lambda\": 0.0003972770919067216, \"variable\": \"E_dev\", \"value\": 0.7957086271636273}, {\"lambda\": 0.0004048978052126201, \"variable\": \"E_dev\", \"value\": 0.781977906562428}, {\"lambda\": 0.0004125185185185186, \"variable\": \"E_dev\", \"value\": 0.7738325687296622}, {\"lambda\": 0.0004074380429812529, \"variable\": \"E_dev\", \"value\": 0.7697554957225099}, {\"lambda\": 0.00040997828074988577, \"variable\": \"E_dev\", \"value\": 0.7782780778616635}, {\"lambda\": 0.0004125185185185186, \"variable\": \"E_dev\", \"value\": 0.7738325687296622}]}};\n",
       "var opt = {};\n",
       "var type = \"vega-lite\";\n",
       "var id = \"b18b8831-a546-44df-bbf2-e8cdff828bed\";\n",
       "\n",
       "var output_area = this;\n",
       "\n",
       "require([\"nbextensions/jupyter-vega/index\"], function(vega) {\n",
       "  var target = document.createElement(\"div\");\n",
       "  target.id = id;\n",
       "  target.className = \"vega-embed\";\n",
       "\n",
       "  var style = document.createElement(\"style\");\n",
       "  style.textContent = [\n",
       "    \".vega-embed .error p {\",\n",
       "    \"  color: firebrick;\",\n",
       "    \"  font-size: 14px;\",\n",
       "    \"}\",\n",
       "  ].join(\"\\\\n\");\n",
       "\n",
       "  // element is a jQuery wrapped DOM element inside the output area\n",
       "  // see http://ipython.readthedocs.io/en/stable/api/generated/\\\n",
       "  // IPython.display.html#IPython.display.Javascript.__init__\n",
       "  element[0].appendChild(target);\n",
       "  element[0].appendChild(style);\n",
       "\n",
       "  vega.render(\"#\" + id, spec, type, opt, output_area);\n",
       "}, function (err) {\n",
       "  if (err.requireType !== \"scripterror\") {\n",
       "    throw(err);\n",
       "  }\n",
       "});\n"
      ],
      "text/plain": [
       "<vega.vegalite.VegaLite at 0x15a7a0f10>"
      ]
     },
     "metadata": {
      "jupyter-vega": "#b18b8831-a546-44df-bbf2-e8cdff828bed"
     },
     "output_type": "display_data"
    },
    {
     "data": {
      "text/plain": []
     },
     "execution_count": 10,
     "metadata": {},
     "output_type": "execute_result"
    },
    {
     "data": {
      "image/png": "[encoded data removed]"
     },
     "metadata": {
      "jupyter-vega": "#b18b8831-a546-44df-bbf2-e8cdff828bed"
     },
     "output_type": "display_data"
    }
   ],
   "source": [
    "ad = FasionMNISTAdapter({\"epochs\": 5, \"seed\": 1})\n",
    "_, lambda_hist = ad.tune_hyperparameters(\n",
    "    mlts.tf.LambdaRangeGenerator(start=0.000001, stop=0.1),\n",
    "    mlts.io.slice(ds_train, 0, 1024),\n",
    "    ds_dev,\n",
    ")\n",
    "alt.Chart(lambda_hist.melt(id_vars=\"lambda\")).mark_line().encode(\n",
    "    x = \"lambda\",\n",
    "    y = \"value\",\n",
    "    color = \"variable\"\n",
    ")"
   ]
  },
  {
   "cell_type": "code",
   "execution_count": 11,
   "metadata": {},
   "outputs": [
    {
     "data": {
      "text/html": [
       "<div>\n",
       "<style scoped>\n",
       "    .dataframe tbody tr th:only-of-type {\n",
       "        vertical-align: middle;\n",
       "    }\n",
       "\n",
       "    .dataframe tbody tr th {\n",
       "        vertical-align: top;\n",
       "    }\n",
       "\n",
       "    .dataframe thead th {\n",
       "        text-align: right;\n",
       "    }\n",
       "</style>\n",
       "<table border=\"1\" class=\"dataframe\">\n",
       "  <thead>\n",
       "    <tr style=\"text-align: right;\">\n",
       "      <th></th>\n",
       "      <th>hparam</th>\n",
       "    </tr>\n",
       "  </thead>\n",
       "  <tbody>\n",
       "    <tr>\n",
       "      <th>lambda</th>\n",
       "      <td>0.000407</td>\n",
       "    </tr>\n",
       "  </tbody>\n",
       "</table>\n",
       "</div>"
      ],
      "text/plain": [
       "          hparam\n",
       "lambda  0.000407"
      ]
     },
     "execution_count": 11,
     "metadata": {},
     "output_type": "execute_result"
    }
   ],
   "source": [
    "pd.DataFrame(ad.hparams, index=[\"hparam\"])[[\"lambda\"]].transpose()"
   ]
  },
  {
   "cell_type": "markdown",
   "metadata": {},
   "source": [
    "## Estimate the generalized error"
   ]
  },
  {
   "cell_type": "code",
   "execution_count": 12,
   "metadata": {},
   "outputs": [],
   "source": [
    "ad = FasionMNISTAdapter({\"epochs\": 10, \"seed\": 1}, hparams=ad.hparams, metrics=[\"accuracy\"])"
   ]
  },
  {
   "cell_type": "code",
   "execution_count": 13,
   "metadata": {},
   "outputs": [
    {
     "data": {
      "application/javascript": [
       "var spec = {\"config\": {\"view\": {\"width\": 400, \"height\": 300}, \"mark\": {\"tooltip\": null}}, \"data\": {\"name\": \"data-8fe31ee1ede71dc8c8b2c96ab62f9de7\"}, \"mark\": \"line\", \"encoding\": {\"color\": {\"type\": \"nominal\", \"field\": \"variable\"}, \"x\": {\"type\": \"quantitative\", \"field\": \"m\"}, \"y\": {\"type\": \"quantitative\", \"field\": \"value\"}}, \"$schema\": \"https://vega.github.io/schema/vega-lite/v3.3.0.json\", \"datasets\": {\"data-8fe31ee1ede71dc8c8b2c96ab62f9de7\": [{\"m\": 1, \"variable\": \"E_train\", \"value\": 0.06693381816148758}, {\"m\": 3997, \"variable\": \"E_train\", \"value\": 0.31748843527836357}, {\"m\": 7993, \"variable\": \"E_train\", \"value\": 0.31856546426362276}, {\"m\": 11990, \"variable\": \"E_train\", \"value\": 0.30556693182725325}, {\"m\": 15986, \"variable\": \"E_train\", \"value\": 0.29564764168419677}, {\"m\": 19982, \"variable\": \"E_train\", \"value\": 0.28089423237823175}, {\"m\": 23979, \"variable\": \"E_train\", \"value\": 0.2677629596820451}, {\"m\": 27975, \"variable\": \"E_train\", \"value\": 0.272416364037639}, {\"m\": 31971, \"variable\": \"E_train\", \"value\": 0.27597248480693387}, {\"m\": 35968, \"variable\": \"E_train\", \"value\": 0.2737937293568911}, {\"m\": 1, \"variable\": \"E_dev\", \"value\": 2.79527686824351}, {\"m\": 3997, \"variable\": \"E_dev\", \"value\": 0.4866704959355932}, {\"m\": 7993, \"variable\": \"E_dev\", \"value\": 0.4631081879786447}, {\"m\": 11990, \"variable\": \"E_dev\", \"value\": 0.4221379042922269}, {\"m\": 15986, \"variable\": \"E_dev\", \"value\": 0.40339182477649227}, {\"m\": 19982, \"variable\": \"E_dev\", \"value\": 0.3675973886715574}, {\"m\": 23979, \"variable\": \"E_dev\", \"value\": 0.3584612524818846}, {\"m\": 27975, \"variable\": \"E_dev\", \"value\": 0.353745470029994}, {\"m\": 31971, \"variable\": \"E_dev\", \"value\": 0.36159415542214396}, {\"m\": 35968, \"variable\": \"E_dev\", \"value\": 0.34388925813651916}]}};\n",
       "var opt = {};\n",
       "var type = \"vega-lite\";\n",
       "var id = \"2361131c-6d45-49d1-8d48-41bf8d463799\";\n",
       "\n",
       "var output_area = this;\n",
       "\n",
       "require([\"nbextensions/jupyter-vega/index\"], function(vega) {\n",
       "  var target = document.createElement(\"div\");\n",
       "  target.id = id;\n",
       "  target.className = \"vega-embed\";\n",
       "\n",
       "  var style = document.createElement(\"style\");\n",
       "  style.textContent = [\n",
       "    \".vega-embed .error p {\",\n",
       "    \"  color: firebrick;\",\n",
       "    \"  font-size: 14px;\",\n",
       "    \"}\",\n",
       "  ].join(\"\\\\n\");\n",
       "\n",
       "  // element is a jQuery wrapped DOM element inside the output area\n",
       "  // see http://ipython.readthedocs.io/en/stable/api/generated/\\\n",
       "  // IPython.display.html#IPython.display.Javascript.__init__\n",
       "  element[0].appendChild(target);\n",
       "  element[0].appendChild(style);\n",
       "\n",
       "  vega.render(\"#\" + id, spec, type, opt, output_area);\n",
       "}, function (err) {\n",
       "  if (err.requireType !== \"scripterror\") {\n",
       "    throw(err);\n",
       "  }\n",
       "});\n"
      ],
      "text/plain": [
       "<vega.vegalite.VegaLite at 0x16a8e1490>"
      ]
     },
     "metadata": {
      "jupyter-vega": "#2361131c-6d45-49d1-8d48-41bf8d463799"
     },
     "output_type": "display_data"
    },
    {
     "data": {
      "text/plain": []
     },
     "execution_count": 13,
     "metadata": {},
     "output_type": "execute_result"
    },
    {
     "data": {
      "image/png": "[encoded data removed]"
     },
     "metadata": {
      "jupyter-vega": "#2361131c-6d45-49d1-8d48-41bf8d463799"
     },
     "output_type": "display_data"
    }
   ],
   "source": [
    "m_hist = ad.analyze_dataset(ds_train, ds_dev)\n",
    "alt.Chart(m_hist.melt(id_vars=\"m\")).mark_line().encode(\n",
    "    x = \"m\",\n",
    "    y = \"value\",\n",
    "    color = \"variable\"\n",
    ")"
   ]
  },
  {
   "cell_type": "code",
   "execution_count": 14,
   "metadata": {},
   "outputs": [
    {
     "data": {
      "text/html": [
       "<div>\n",
       "<style scoped>\n",
       "    .dataframe tbody tr th:only-of-type {\n",
       "        vertical-align: middle;\n",
       "    }\n",
       "\n",
       "    .dataframe tbody tr th {\n",
       "        vertical-align: top;\n",
       "    }\n",
       "\n",
       "    .dataframe thead th {\n",
       "        text-align: right;\n",
       "    }\n",
       "</style>\n",
       "<table border=\"1\" class=\"dataframe\">\n",
       "  <thead>\n",
       "    <tr style=\"text-align: right;\">\n",
       "      <th></th>\n",
       "      <th>hparam</th>\n",
       "    </tr>\n",
       "  </thead>\n",
       "  <tbody>\n",
       "    <tr>\n",
       "      <th>lambda</th>\n",
       "      <td>0.000407</td>\n",
       "    </tr>\n",
       "  </tbody>\n",
       "</table>\n",
       "</div>"
      ],
      "text/plain": [
       "          hparam\n",
       "lambda  0.000407"
      ]
     },
     "execution_count": 14,
     "metadata": {},
     "output_type": "execute_result"
    }
   ],
   "source": [
    "pd.DataFrame(ad.hparams, index=[\"hparam\"]).transpose()"
   ]
  },
  {
   "cell_type": "code",
   "execution_count": 15,
   "metadata": {},
   "outputs": [
    {
     "name": "stdout",
     "output_type": "stream",
     "text": [
      "Model: \"sequential_124\"\n",
      "_________________________________________________________________\n",
      "Layer (type)                 Output Shape              Param #   \n",
      "=================================================================\n",
      "conv2d_248 (Conv2D)          (None, 26, 26, 16)        160       \n",
      "_________________________________________________________________\n",
      "max_pooling2d_248 (MaxPoolin (None, 13, 13, 16)        0         \n",
      "_________________________________________________________________\n",
      "conv2d_249 (Conv2D)          (None, 11, 11, 16)        2320      \n",
      "_________________________________________________________________\n",
      "max_pooling2d_249 (MaxPoolin (None, 5, 5, 16)          0         \n",
      "_________________________________________________________________\n",
      "flatten_124 (Flatten)        (None, 400)               0         \n",
      "_________________________________________________________________\n",
      "dense_372 (Dense)            (None, 16)                6416      \n",
      "_________________________________________________________________\n",
      "dense_373 (Dense)            (None, 16)                272       \n",
      "_________________________________________________________________\n",
      "dense_374 (Dense)            (None, 10)                170       \n",
      "=================================================================\n",
      "Total params: 9,338\n",
      "Trainable params: 9,338\n",
      "Non-trainable params: 0\n",
      "_________________________________________________________________\n"
     ]
    }
   ],
   "source": [
    "ad.fit(ds_train)\n",
    "ad.model.summary()"
   ]
  },
  {
   "cell_type": "code",
   "execution_count": 16,
   "metadata": {},
   "outputs": [
    {
     "data": {
      "application/javascript": [
       "var spec = {\"config\": {\"view\": {\"width\": 400, \"height\": 300}, \"mark\": {\"tooltip\": null}}, \"data\": {\"name\": \"data-e83ee3fcb33131c27808f8077441c707\"}, \"mark\": \"line\", \"encoding\": {\"x\": {\"type\": \"quantitative\", \"field\": \"epoch\"}, \"y\": {\"type\": \"quantitative\", \"field\": \"loss\"}}, \"$schema\": \"https://vega.github.io/schema/vega-lite/v3.3.0.json\", \"datasets\": {\"data-e83ee3fcb33131c27808f8077441c707\": [{\"index\": 0, \"epoch\": 0, \"loss\": 0.6829694144003544, \"accuracy\": 0.7694895267486572}, {\"index\": 1, \"epoch\": 1, \"loss\": 0.45124716297110207, \"accuracy\": 0.847475528717041}, {\"index\": 2, \"epoch\": 2, \"loss\": 0.4066621456361538, \"accuracy\": 0.8637955784797668}, {\"index\": 3, \"epoch\": 3, \"loss\": 0.37976865758091954, \"accuracy\": 0.8738878965377808}, {\"index\": 4, \"epoch\": 4, \"loss\": 0.3617708538774918, \"accuracy\": 0.8812833428382874}, {\"index\": 5, \"epoch\": 5, \"loss\": 0.3480198145496039, \"accuracy\": 0.8862878084182739}, {\"index\": 6, \"epoch\": 6, \"loss\": 0.3372642325694769, \"accuracy\": 0.8904025554656982}, {\"index\": 7, \"epoch\": 7, \"loss\": 0.3274322876580775, \"accuracy\": 0.894350528717041}, {\"index\": 8, \"epoch\": 8, \"loss\": 0.31966948839984966, \"accuracy\": 0.8984097242355347}, {\"index\": 9, \"epoch\": 9, \"loss\": 0.31227543785690837, \"accuracy\": 0.9005783200263977}]}};\n",
       "var opt = {};\n",
       "var type = \"vega-lite\";\n",
       "var id = \"c587d923-d204-48f3-a731-438f2654e514\";\n",
       "\n",
       "var output_area = this;\n",
       "\n",
       "require([\"nbextensions/jupyter-vega/index\"], function(vega) {\n",
       "  var target = document.createElement(\"div\");\n",
       "  target.id = id;\n",
       "  target.className = \"vega-embed\";\n",
       "\n",
       "  var style = document.createElement(\"style\");\n",
       "  style.textContent = [\n",
       "    \".vega-embed .error p {\",\n",
       "    \"  color: firebrick;\",\n",
       "    \"  font-size: 14px;\",\n",
       "    \"}\",\n",
       "  ].join(\"\\\\n\");\n",
       "\n",
       "  // element is a jQuery wrapped DOM element inside the output area\n",
       "  // see http://ipython.readthedocs.io/en/stable/api/generated/\\\n",
       "  // IPython.display.html#IPython.display.Javascript.__init__\n",
       "  element[0].appendChild(target);\n",
       "  element[0].appendChild(style);\n",
       "\n",
       "  vega.render(\"#\" + id, spec, type, opt, output_area);\n",
       "}, function (err) {\n",
       "  if (err.requireType !== \"scripterror\") {\n",
       "    throw(err);\n",
       "  }\n",
       "});\n"
      ],
      "text/plain": [
       "<vega.vegalite.VegaLite at 0x16885ec10>"
      ]
     },
     "metadata": {
      "jupyter-vega": "#c587d923-d204-48f3-a731-438f2654e514"
     },
     "output_type": "display_data"
    },
    {
     "data": {
      "text/plain": []
     },
     "execution_count": 16,
     "metadata": {},
     "output_type": "execute_result"
    },
    {
     "data": {
      "image/png": "[encoded data removed]"
     },
     "metadata": {
      "jupyter-vega": "#c587d923-d204-48f3-a731-438f2654e514"
     },
     "output_type": "display_data"
    }
   ],
   "source": [
    "alt.Chart(ad.metrics_history().reset_index()).mark_line().encode(\n",
    "    x = \"epoch\",\n",
    "    y = \"loss\",\n",
    ")"
   ]
  },
  {
   "cell_type": "code",
   "execution_count": 17,
   "metadata": {},
   "outputs": [
    {
     "data": {
      "text/html": [
       "<div>\n",
       "<style scoped>\n",
       "    .dataframe tbody tr th:only-of-type {\n",
       "        vertical-align: middle;\n",
       "    }\n",
       "\n",
       "    .dataframe tbody tr th {\n",
       "        vertical-align: top;\n",
       "    }\n",
       "\n",
       "    .dataframe thead th {\n",
       "        text-align: right;\n",
       "    }\n",
       "</style>\n",
       "<table border=\"1\" class=\"dataframe\">\n",
       "  <thead>\n",
       "    <tr style=\"text-align: right;\">\n",
       "      <th></th>\n",
       "      <th>train</th>\n",
       "      <th>dev</th>\n",
       "      <th>test</th>\n",
       "    </tr>\n",
       "  </thead>\n",
       "  <tbody>\n",
       "    <tr>\n",
       "      <th>loss</th>\n",
       "      <td>0.312275</td>\n",
       "      <td>0.378619</td>\n",
       "      <td>0.383631</td>\n",
       "    </tr>\n",
       "    <tr>\n",
       "      <th>accuracy</th>\n",
       "      <td>0.900578</td>\n",
       "      <td>0.875943</td>\n",
       "      <td>0.878597</td>\n",
       "    </tr>\n",
       "  </tbody>\n",
       "</table>\n",
       "</div>"
      ],
      "text/plain": [
       "             train       dev      test\n",
       "loss      0.312275  0.378619  0.383631\n",
       "accuracy  0.900578  0.875943  0.878597"
      ]
     },
     "execution_count": 17,
     "metadata": {},
     "output_type": "execute_result"
    }
   ],
   "source": [
    "ad.generalized_metrics(ds_dev, ds_test)"
   ]
  },
  {
   "cell_type": "code",
   "execution_count": null,
   "metadata": {},
   "outputs": [],
   "source": []
  }
 ],
 "metadata": {
  "kernelspec": {
   "display_name": "Python 3",
   "language": "python",
   "name": "python3"
  },
  "language_info": {
   "codemirror_mode": {
    "name": "ipython",
    "version": 3
   },
   "file_extension": ".py",
   "mimetype": "text/x-python",
   "name": "python",
   "nbconvert_exporter": "python",
   "pygments_lexer": "ipython3",
   "version": "3.7.4"
  }
 },
 "nbformat": 4,
 "nbformat_minor": 2
}
