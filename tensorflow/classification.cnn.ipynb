{
 "cells": [
  {
   "cell_type": "code",
   "execution_count": 1,
   "metadata": {},
   "outputs": [],
   "source": [
    "%%capture\n",
    "\n",
    "import pandas as pd\n",
    "import numpy as np\n",
    "import tensorflow as tf\n",
    "import mlts\n",
    "\n",
    "import altair as alt\n",
    "alt.renderers.enable('notebook')"
   ]
  },
  {
   "cell_type": "markdown",
   "metadata": {},
   "source": [
    "## Load data"
   ]
  },
  {
   "cell_type": "code",
   "execution_count": 2,
   "metadata": {},
   "outputs": [],
   "source": [
    "data = mlts.io.merge([\n",
    "    pd.read_csv('../data/fashion-mnist/fashion-mnist_train.csv'),\n",
    "    pd.read_csv('../data/fashion-mnist/fashion-mnist_train.csv'),\n",
    "])"
   ]
  },
  {
   "cell_type": "code",
   "execution_count": 3,
   "metadata": {},
   "outputs": [],
   "source": [
    "mlts.io.check(data)"
   ]
  },
  {
   "cell_type": "code",
   "execution_count": 4,
   "metadata": {},
   "outputs": [],
   "source": [
    "K = len(data.iloc[:, 0].value_counts())\n",
    "dss, mu, sigma = mlts.io.normalize(mlts.io.split(data, ycol=0, shape=(42048), seed=1))\n",
    "ds_train, ds_dev, ds_test = mlts.tf.to_dataset(mlts.io.reshape(dss, target_shape=(28, 28, 1)), batch_size=32)"
   ]
  },
  {
   "cell_type": "markdown",
   "metadata": {},
   "source": [
    "## Implement the model"
   ]
  },
  {
   "cell_type": "code",
   "execution_count": 5,
   "metadata": {},
   "outputs": [],
   "source": [
    "class FasionMNISTAdapter(mlts.tf.adapter.Model):\n",
    "    def __init__(self, *args, **kwargs):\n",
    "        super(FasionMNISTAdapter, self).__init__(*args, **kwargs)\n",
    "\n",
    "    @staticmethod\n",
    "    def model(options, hparams = {}):        \n",
    "        regularization = None\n",
    "        if \"lambda\" in hparams:\n",
    "            regularization = tf.keras.regularizers.l2(l=hparams[\"lambda\"])\n",
    "\n",
    "        return tf.keras.models.Sequential([\n",
    "            ## The reason of using 'InputLayer' is only to\n",
    "            ## show up a shape of each layer in `model.summary()`.\n",
    "            tf.keras.layers.InputLayer(input_shape=(28, 28, 1)),\n",
    "            tf.keras.layers.Conv2D(16, (3, 3), activation='relu'),\n",
    "            tf.keras.layers.MaxPooling2D(2, 2),\n",
    "            tf.keras.layers.Conv2D(32, (3, 3), activation='relu'),\n",
    "            tf.keras.layers.MaxPooling2D(2, 2),\n",
    "            tf.keras.layers.Conv2D(64, (3, 3), activation='relu'),\n",
    "            tf.keras.layers.MaxPooling2D(2, 2),\n",
    "            tf.keras.layers.Flatten(),\n",
    "            tf.keras.layers.Dense(\n",
    "                512,\n",
    "                activation=tf.nn.relu,\n",
    "                kernel_initializer=tf.keras.initializers.he_uniform(options.seed),\n",
    "                kernel_regularizer=regularization,\n",
    "            ),\n",
    "            tf.keras.layers.Dense(\n",
    "                K,\n",
    "                activation=tf.nn.softmax,\n",
    "                kernel_initializer=tf.keras.initializers.he_uniform(options.seed),\n",
    "                kernel_regularizer=regularization,\n",
    "            ),\n",
    "        ])\n",
    "    \n",
    "    @staticmethod\n",
    "    def loss(options):\n",
    "        return tf.keras.losses.SparseCategoricalCrossentropy()\n",
    "    \n",
    "    @staticmethod\n",
    "    def optimization(options, hparams, m, ds, metrics=[], callbacks=[]):\n",
    "        m.compile(\n",
    "            optimizer=tf.keras.optimizers.Adam(\n",
    "                learning_rate=hparams.get(\"alpha\", 0.001),\n",
    "                beta_1=hparams.get(\"beta_1\", 0.9),\n",
    "                beta_2=hparams.get(\"beta_2\", 0.999),\n",
    "            ),\n",
    "            loss=FasionMNISTAdapter.loss(options),\n",
    "            metrics=metrics,\n",
    "        )\n",
    "\n",
    "        if options.seed != None: tf.random.set_seed(options.seed)\n",
    "        m.fit(\n",
    "            ds,\n",
    "            epochs=options.epochs,\n",
    "            shuffle=False,\n",
    "            callbacks=callbacks,\n",
    "            verbose=options.verbose,\n",
    "        )\n",
    "        \n",
    "        return m"
   ]
  },
  {
   "cell_type": "code",
   "execution_count": 6,
   "metadata": {},
   "outputs": [
    {
     "name": "stdout",
     "output_type": "stream",
     "text": [
      "Model: \"sequential\"\n",
      "_________________________________________________________________\n",
      "Layer (type)                 Output Shape              Param #   \n",
      "=================================================================\n",
      "conv2d (Conv2D)              (None, 26, 26, 16)        160       \n",
      "_________________________________________________________________\n",
      "max_pooling2d (MaxPooling2D) (None, 13, 13, 16)        0         \n",
      "_________________________________________________________________\n",
      "conv2d_1 (Conv2D)            (None, 11, 11, 32)        4640      \n",
      "_________________________________________________________________\n",
      "max_pooling2d_1 (MaxPooling2 (None, 5, 5, 32)          0         \n",
      "_________________________________________________________________\n",
      "conv2d_2 (Conv2D)            (None, 3, 3, 64)          18496     \n",
      "_________________________________________________________________\n",
      "max_pooling2d_2 (MaxPooling2 (None, 1, 1, 64)          0         \n",
      "_________________________________________________________________\n",
      "flatten (Flatten)            (None, 64)                0         \n",
      "_________________________________________________________________\n",
      "dense (Dense)                (None, 512)               33280     \n",
      "_________________________________________________________________\n",
      "dense_1 (Dense)              (None, 10)                5130      \n",
      "=================================================================\n",
      "Total params: 61,706\n",
      "Trainable params: 61,706\n",
      "Non-trainable params: 0\n",
      "_________________________________________________________________\n"
     ]
    }
   ],
   "source": [
    "FasionMNISTAdapter.model(mlts.tf.adapter.Options(seed=1)).summary()"
   ]
  },
  {
   "cell_type": "markdown",
   "metadata": {},
   "source": [
    "## Analyze the dataset"
   ]
  },
  {
   "cell_type": "code",
   "execution_count": 7,
   "metadata": {},
   "outputs": [
    {
     "name": "stderr",
     "output_type": "stream",
     "text": [
      "WARNING: Logging before flag parsing goes to stderr.\n",
      "W0814 19:48:34.991662 4772906432 deprecation.py:323] From /Users/manifest/projects/github/machine-learning-notebook/venv/lib/python3.7/site-packages/tensorflow/python/ops/math_grad.py:1250: add_dispatch_support.<locals>.wrapper (from tensorflow.python.ops.array_ops) is deprecated and will be removed in a future version.\n",
      "Instructions for updating:\n",
      "Use tf.where in 2.0, which has the same broadcast rule as np.where\n"
     ]
    },
    {
     "data": {
      "application/javascript": [
       "var spec = {\"config\": {\"view\": {\"width\": 400, \"height\": 300}, \"mark\": {\"tooltip\": null}}, \"data\": {\"name\": \"data-5fc5430d56a5e4797dd197d62522bb39\"}, \"mark\": \"line\", \"encoding\": {\"color\": {\"type\": \"nominal\", \"field\": \"variable\"}, \"x\": {\"type\": \"quantitative\", \"field\": \"m_batch\"}, \"y\": {\"type\": \"quantitative\", \"field\": \"value\"}}, \"$schema\": \"https://vega.github.io/schema/vega-lite/v3.4.0.json\", \"datasets\": {\"data-5fc5430d56a5e4797dd197d62522bb39\": [{\"m_batch\": 1, \"variable\": \"E_train\", \"value\": 1.8195033073425293}, {\"m_batch\": 132, \"variable\": \"E_train\", \"value\": 0.4308841875330968}, {\"m_batch\": 263, \"variable\": \"E_train\", \"value\": 0.3835416195397141}, {\"m_batch\": 394, \"variable\": \"E_train\", \"value\": 0.3292831877237044}, {\"m_batch\": 525, \"variable\": \"E_train\", \"value\": 0.33131306473697936}, {\"m_batch\": 656, \"variable\": \"E_train\", \"value\": 0.30044288688521015}, {\"m_batch\": 787, \"variable\": \"E_train\", \"value\": 0.3231251434230138}, {\"m_batch\": 918, \"variable\": \"E_train\", \"value\": 0.3005665527547107}, {\"m_batch\": 1049, \"variable\": \"E_train\", \"value\": 0.2895493175624892}, {\"m_batch\": 1180, \"variable\": \"E_train\", \"value\": 0.2984150582924485}, {\"m_batch\": 1, \"variable\": \"E_dev\", \"value\": 2.2579526922381516}, {\"m_batch\": 132, \"variable\": \"E_dev\", \"value\": 0.6071986426592718}, {\"m_batch\": 263, \"variable\": \"E_dev\", \"value\": 0.5371490661451157}, {\"m_batch\": 394, \"variable\": \"E_dev\", \"value\": 0.46031574080599114}, {\"m_batch\": 525, \"variable\": \"E_dev\", \"value\": 0.4521134447121451}, {\"m_batch\": 656, \"variable\": \"E_dev\", \"value\": 0.4224377796318091}, {\"m_batch\": 787, \"variable\": \"E_dev\", \"value\": 0.4605460430871933}, {\"m_batch\": 918, \"variable\": \"E_dev\", \"value\": 0.4006233402389161}, {\"m_batch\": 1049, \"variable\": \"E_dev\", \"value\": 0.3929871352296983}, {\"m_batch\": 1180, \"variable\": \"E_dev\", \"value\": 0.40523092493626245}]}};\n",
       "var opt = {};\n",
       "var type = \"vega-lite\";\n",
       "var id = \"7b1c5c6e-48b9-4ec9-80a8-c074318e4482\";\n",
       "\n",
       "var output_area = this;\n",
       "\n",
       "require([\"nbextensions/jupyter-vega/index\"], function(vega) {\n",
       "  var target = document.createElement(\"div\");\n",
       "  target.id = id;\n",
       "  target.className = \"vega-embed\";\n",
       "\n",
       "  var style = document.createElement(\"style\");\n",
       "  style.textContent = [\n",
       "    \".vega-embed .error p {\",\n",
       "    \"  color: firebrick;\",\n",
       "    \"  font-size: 14px;\",\n",
       "    \"}\",\n",
       "  ].join(\"\\\\n\");\n",
       "\n",
       "  // element is a jQuery wrapped DOM element inside the output area\n",
       "  // see http://ipython.readthedocs.io/en/stable/api/generated/\\\n",
       "  // IPython.display.html#IPython.display.Javascript.__init__\n",
       "  element[0].appendChild(target);\n",
       "  element[0].appendChild(style);\n",
       "\n",
       "  vega.render(\"#\" + id, spec, type, opt, output_area);\n",
       "}, function (err) {\n",
       "  if (err.requireType !== \"scripterror\") {\n",
       "    throw(err);\n",
       "  }\n",
       "});\n"
      ],
      "text/plain": [
       "<vega.vegalite.VegaLite at 0x14ef958d0>"
      ]
     },
     "metadata": {
      "jupyter-vega": "#7b1c5c6e-48b9-4ec9-80a8-c074318e4482"
     },
     "output_type": "display_data"
    },
    {
     "data": {
      "image/png": "[encoded data removed]"
     },
     "metadata": {
      "jupyter-vega": "#7b1c5c6e-48b9-4ec9-80a8-c074318e4482"
     },
     "output_type": "display_data"
    },
    {
     "data": {
      "text/plain": []
     },
     "execution_count": 7,
     "metadata": {},
     "output_type": "execute_result"
    }
   ],
   "source": [
    "m_hist = FasionMNISTAdapter.analyze_dataset(mlts.tf.adapter.Options(epochs=5, seed=1), {}, ds_train, ds_dev)\n",
    "alt.Chart(m_hist.melt(id_vars=\"m_batch\")).mark_line().encode(\n",
    "    x = \"m_batch\",\n",
    "    y = \"value\",\n",
    "    color = \"variable\"\n",
    ")"
   ]
  },
  {
   "cell_type": "markdown",
   "metadata": {},
   "source": [
    "## Evaluate the model"
   ]
  },
  {
   "cell_type": "code",
   "execution_count": 8,
   "metadata": {},
   "outputs": [
    {
     "data": {
      "application/javascript": [
       "var spec = {\"config\": {\"view\": {\"width\": 400, \"height\": 300}, \"mark\": {\"tooltip\": null}}, \"data\": {\"name\": \"data-e70445adc2585775d9dd7191bc0dab26\"}, \"mark\": \"line\", \"encoding\": {\"x\": {\"type\": \"quantitative\", \"field\": \"epoch\"}, \"y\": {\"type\": \"quantitative\", \"field\": \"loss\"}}, \"$schema\": \"https://vega.github.io/schema/vega-lite/v3.4.0.json\", \"datasets\": {\"data-e70445adc2585775d9dd7191bc0dab26\": [{\"index\": 0, \"epoch\": 0, \"loss\": 0.6108172442452185, \"accuracy\": 0.7770405411720276}, {\"index\": 1, \"epoch\": 1, \"loss\": 0.42335427319985364, \"accuracy\": 0.8465563058853149}, {\"index\": 2, \"epoch\": 2, \"loss\": 0.363877933324971, \"accuracy\": 0.8667237162590027}, {\"index\": 3, \"epoch\": 3, \"loss\": 0.3260783243391385, \"accuracy\": 0.8800180554389954}, {\"index\": 4, \"epoch\": 4, \"loss\": 0.294920434112146, \"accuracy\": 0.8914098143577576}]}};\n",
       "var opt = {};\n",
       "var type = \"vega-lite\";\n",
       "var id = \"332a250b-dea4-4c92-98ae-f6969482a4d4\";\n",
       "\n",
       "var output_area = this;\n",
       "\n",
       "require([\"nbextensions/jupyter-vega/index\"], function(vega) {\n",
       "  var target = document.createElement(\"div\");\n",
       "  target.id = id;\n",
       "  target.className = \"vega-embed\";\n",
       "\n",
       "  var style = document.createElement(\"style\");\n",
       "  style.textContent = [\n",
       "    \".vega-embed .error p {\",\n",
       "    \"  color: firebrick;\",\n",
       "    \"  font-size: 14px;\",\n",
       "    \"}\",\n",
       "  ].join(\"\\\\n\");\n",
       "\n",
       "  // element is a jQuery wrapped DOM element inside the output area\n",
       "  // see http://ipython.readthedocs.io/en/stable/api/generated/\\\n",
       "  // IPython.display.html#IPython.display.Javascript.__init__\n",
       "  element[0].appendChild(target);\n",
       "  element[0].appendChild(style);\n",
       "\n",
       "  vega.render(\"#\" + id, spec, type, opt, output_area);\n",
       "}, function (err) {\n",
       "  if (err.requireType !== \"scripterror\") {\n",
       "    throw(err);\n",
       "  }\n",
       "});\n"
      ],
      "text/plain": [
       "<vega.vegalite.VegaLite at 0x14feaee50>"
      ]
     },
     "metadata": {
      "jupyter-vega": "#332a250b-dea4-4c92-98ae-f6969482a4d4"
     },
     "output_type": "display_data"
    },
    {
     "data": {
      "image/png": "[encoded data removed]"
     },
     "metadata": {
      "jupyter-vega": "#332a250b-dea4-4c92-98ae-f6969482a4d4"
     },
     "output_type": "display_data"
    },
    {
     "data": {
      "text/plain": []
     },
     "execution_count": 8,
     "metadata": {},
     "output_type": "execute_result"
    }
   ],
   "source": [
    "ad = FasionMNISTAdapter(mlts.tf.adapter.Options(epochs=5, seed=1))\n",
    "ad.fit(ds_train, metrics=[\"accuracy\"])\n",
    "alt.Chart(ad.metrics_history().reset_index()).mark_line().encode(\n",
    "    x = \"epoch\",\n",
    "    y = \"loss\",\n",
    ")"
   ]
  },
  {
   "cell_type": "code",
   "execution_count": 9,
   "metadata": {},
   "outputs": [
    {
     "data": {
      "text/html": [
       "<div>\n",
       "<style scoped>\n",
       "    .dataframe tbody tr th:only-of-type {\n",
       "        vertical-align: middle;\n",
       "    }\n",
       "\n",
       "    .dataframe tbody tr th {\n",
       "        vertical-align: top;\n",
       "    }\n",
       "\n",
       "    .dataframe thead th {\n",
       "        text-align: right;\n",
       "    }\n",
       "</style>\n",
       "<table border=\"1\" class=\"dataframe\">\n",
       "  <thead>\n",
       "    <tr style=\"text-align: right;\">\n",
       "      <th></th>\n",
       "      <th>train</th>\n",
       "      <th>dev</th>\n",
       "      <th>test</th>\n",
       "    </tr>\n",
       "  </thead>\n",
       "  <tbody>\n",
       "    <tr>\n",
       "      <th>loss</th>\n",
       "      <td>0.29492</td>\n",
       "      <td>0.363404</td>\n",
       "      <td>0.376648</td>\n",
       "    </tr>\n",
       "    <tr>\n",
       "      <th>accuracy</th>\n",
       "      <td>0.89141</td>\n",
       "      <td>0.871604</td>\n",
       "      <td>0.865728</td>\n",
       "    </tr>\n",
       "  </tbody>\n",
       "</table>\n",
       "</div>"
      ],
      "text/plain": [
       "            train       dev      test\n",
       "loss      0.29492  0.363404  0.376648\n",
       "accuracy  0.89141  0.871604  0.865728"
      ]
     },
     "execution_count": 9,
     "metadata": {},
     "output_type": "execute_result"
    }
   ],
   "source": [
    "ad.generalized_metrics(ds_dev, ds_test)"
   ]
  },
  {
   "cell_type": "markdown",
   "metadata": {},
   "source": [
    "## Tune hyperparameters"
   ]
  },
  {
   "cell_type": "code",
   "execution_count": 10,
   "metadata": {},
   "outputs": [
    {
     "data": {
      "application/javascript": [
       "var spec = {\"config\": {\"view\": {\"width\": 400, \"height\": 300}, \"mark\": {\"tooltip\": null}}, \"data\": {\"name\": \"data-ce8be4c87b474b2dc761c9d8fc66d3f5\"}, \"mark\": \"line\", \"encoding\": {\"color\": {\"type\": \"nominal\", \"field\": \"variable\"}, \"x\": {\"type\": \"quantitative\", \"field\": \"lambda\"}, \"y\": {\"type\": \"quantitative\", \"field\": \"value\"}}, \"$schema\": \"https://vega.github.io/schema/vega-lite/v3.4.0.json\", \"datasets\": {\"data-ce8be4c87b474b2dc761c9d8fc66d3f5\": [{\"lambda\": 0.0001, \"variable\": \"E_train\", \"value\": 0.1293999155634083}, {\"lambda\": 0.033400000000000006, \"variable\": \"E_train\", \"value\": 0.3853540399670601}, {\"lambda\": 0.06670000000000001, \"variable\": \"E_train\", \"value\": 0.3961358134448528}, {\"lambda\": 0.1, \"variable\": \"E_train\", \"value\": 0.41847114816308023}, {\"lambda\": 0.07780000000000001, \"variable\": \"E_train\", \"value\": 0.4035760037600994}, {\"lambda\": 0.0889, \"variable\": \"E_train\", \"value\": 0.4124340635538101}, {\"lambda\": 0.07410000000000001, \"variable\": \"E_train\", \"value\": 0.4062492552399635}, {\"lambda\": 0.0815, \"variable\": \"E_train\", \"value\": 0.4136463491618633}, {\"lambda\": 0.07533333333333334, \"variable\": \"E_train\", \"value\": 0.40887887343764306}, {\"lambda\": 0.08026666666666668, \"variable\": \"E_train\", \"value\": 0.41787427470088007}, {\"lambda\": 0.07615555555555556, \"variable\": \"E_train\", \"value\": 0.4120286451280117}, {\"lambda\": 0.07944444444444446, \"variable\": \"E_train\", \"value\": 0.41544412180781365}, {\"lambda\": 0.07670370370370372, \"variable\": \"E_train\", \"value\": 0.4111566731333733}, {\"lambda\": 0.0788962962962963, \"variable\": \"E_train\", \"value\": 0.41895880937576296}, {\"lambda\": 0.07706913580246914, \"variable\": \"E_train\", \"value\": 0.4000794821977615}, {\"lambda\": 0.07853086419753087, \"variable\": \"E_train\", \"value\": 0.4043219542503357}, {\"lambda\": 0.0773127572016461, \"variable\": \"E_train\", \"value\": 0.4101713548600674}, {\"lambda\": 0.07828724279835392, \"variable\": \"E_train\", \"value\": 0.40319358691573143}, {\"lambda\": 0.07796241426611798, \"variable\": \"E_train\", \"value\": 0.40847632706165315}, {\"lambda\": 0.07861207133058985, \"variable\": \"E_train\", \"value\": 0.410685721039772}, {\"lambda\": 0.07807069044352996, \"variable\": \"E_train\", \"value\": 0.40452662110328674}, {\"lambda\": 0.07850379515317787, \"variable\": \"E_train\", \"value\": 0.40525159254670146}, {\"lambda\": 0.0001, \"variable\": \"E_dev\", \"value\": 1.0649843255176823}, {\"lambda\": 0.033400000000000006, \"variable\": \"E_dev\", \"value\": 0.66189998578518}, {\"lambda\": 0.06670000000000001, \"variable\": \"E_dev\", \"value\": 0.5952294298731688}, {\"lambda\": 0.1, \"variable\": \"E_dev\", \"value\": 0.5914219540695772}, {\"lambda\": 0.07780000000000001, \"variable\": \"E_dev\", \"value\": 0.5885965999559308}, {\"lambda\": 0.0889, \"variable\": \"E_dev\", \"value\": 0.5919364399098336}, {\"lambda\": 0.07410000000000001, \"variable\": \"E_dev\", \"value\": 0.595877191593461}, {\"lambda\": 0.0815, \"variable\": \"E_dev\", \"value\": 0.6129645288836026}, {\"lambda\": 0.07533333333333334, \"variable\": \"E_dev\", \"value\": 0.5989680541745315}, {\"lambda\": 0.08026666666666668, \"variable\": \"E_dev\", \"value\": 0.6124617793986983}, {\"lambda\": 0.07615555555555556, \"variable\": \"E_dev\", \"value\": 0.5983343589390423}, {\"lambda\": 0.07944444444444446, \"variable\": \"E_dev\", \"value\": 0.6068196335794233}, {\"lambda\": 0.07670370370370372, \"variable\": \"E_dev\", \"value\": 0.5960742989753155}, {\"lambda\": 0.0788962962962963, \"variable\": \"E_dev\", \"value\": 0.6103643617520096}, {\"lambda\": 0.07706913580246914, \"variable\": \"E_dev\", \"value\": 0.5923131565358621}, {\"lambda\": 0.07853086419753087, \"variable\": \"E_dev\", \"value\": 0.591055803899224}, {\"lambda\": 0.0773127572016461, \"variable\": \"E_dev\", \"value\": 0.6019883867062575}, {\"lambda\": 0.07828724279835392, \"variable\": \"E_dev\", \"value\": 0.5867246362968539}, {\"lambda\": 0.07796241426611798, \"variable\": \"E_dev\", \"value\": 0.5905184794402292}, {\"lambda\": 0.07861207133058985, \"variable\": \"E_dev\", \"value\": 0.5937303230694845}, {\"lambda\": 0.07807069044352996, \"variable\": \"E_dev\", \"value\": 0.5925640537278026}, {\"lambda\": 0.07850379515317787, \"variable\": \"E_dev\", \"value\": 0.5952523640284302}]}};\n",
       "var opt = {};\n",
       "var type = \"vega-lite\";\n",
       "var id = \"02468401-16c4-4dad-a151-e4aaeb3f01b0\";\n",
       "\n",
       "var output_area = this;\n",
       "\n",
       "require([\"nbextensions/jupyter-vega/index\"], function(vega) {\n",
       "  var target = document.createElement(\"div\");\n",
       "  target.id = id;\n",
       "  target.className = \"vega-embed\";\n",
       "\n",
       "  var style = document.createElement(\"style\");\n",
       "  style.textContent = [\n",
       "    \".vega-embed .error p {\",\n",
       "    \"  color: firebrick;\",\n",
       "    \"  font-size: 14px;\",\n",
       "    \"}\",\n",
       "  ].join(\"\\\\n\");\n",
       "\n",
       "  // element is a jQuery wrapped DOM element inside the output area\n",
       "  // see http://ipython.readthedocs.io/en/stable/api/generated/\\\n",
       "  // IPython.display.html#IPython.display.Javascript.__init__\n",
       "  element[0].appendChild(target);\n",
       "  element[0].appendChild(style);\n",
       "\n",
       "  vega.render(\"#\" + id, spec, type, opt, output_area);\n",
       "}, function (err) {\n",
       "  if (err.requireType !== \"scripterror\") {\n",
       "    throw(err);\n",
       "  }\n",
       "});\n"
      ],
      "text/plain": [
       "<vega.vegalite.VegaLite at 0x187361d90>"
      ]
     },
     "metadata": {
      "jupyter-vega": "#02468401-16c4-4dad-a151-e4aaeb3f01b0"
     },
     "output_type": "display_data"
    },
    {
     "data": {
      "text/plain": []
     },
     "execution_count": 10,
     "metadata": {},
     "output_type": "execute_result"
    },
    {
     "data": {
      "image/png": "[encoded data removed]"
     },
     "metadata": {
      "jupyter-vega": "#02468401-16c4-4dad-a151-e4aaeb3f01b0"
     },
     "output_type": "display_data"
    }
   ],
   "source": [
    "ad = FasionMNISTAdapter(mlts.tf.adapter.Options(epochs=30, seed=1))\n",
    "_, lambda_hist = ad.tune_hyperparameters(\n",
    "    mlts.tf.generator.LambdaRange(start=0.0001, stop=0.1),\n",
    "    ds_train.take(100),\n",
    "    ds_dev,\n",
    ")\n",
    "alt.Chart(lambda_hist.melt(id_vars=\"lambda\")).mark_line().encode(\n",
    "    x = \"lambda\",\n",
    "    y = \"value\",\n",
    "    color = \"variable\"\n",
    ")"
   ]
  },
  {
   "cell_type": "code",
   "execution_count": 11,
   "metadata": {},
   "outputs": [
    {
     "data": {
      "text/html": [
       "<div>\n",
       "<style scoped>\n",
       "    .dataframe tbody tr th:only-of-type {\n",
       "        vertical-align: middle;\n",
       "    }\n",
       "\n",
       "    .dataframe tbody tr th {\n",
       "        vertical-align: top;\n",
       "    }\n",
       "\n",
       "    .dataframe thead th {\n",
       "        text-align: right;\n",
       "    }\n",
       "</style>\n",
       "<table border=\"1\" class=\"dataframe\">\n",
       "  <thead>\n",
       "    <tr style=\"text-align: right;\">\n",
       "      <th></th>\n",
       "      <th>hparam</th>\n",
       "    </tr>\n",
       "  </thead>\n",
       "  <tbody>\n",
       "    <tr>\n",
       "      <th>lambda</th>\n",
       "      <td>0.078287</td>\n",
       "    </tr>\n",
       "  </tbody>\n",
       "</table>\n",
       "</div>"
      ],
      "text/plain": [
       "          hparam\n",
       "lambda  0.078287"
      ]
     },
     "execution_count": 11,
     "metadata": {},
     "output_type": "execute_result"
    }
   ],
   "source": [
    "pd.DataFrame(ad.hparams, index=[\"hparam\"])[[\"lambda\"]].transpose()"
   ]
  },
  {
   "cell_type": "markdown",
   "metadata": {},
   "source": [
    "## Estimate the generalized error"
   ]
  },
  {
   "cell_type": "code",
   "execution_count": 12,
   "metadata": {},
   "outputs": [],
   "source": [
    "ad = FasionMNISTAdapter(mlts.tf.adapter.Options(epochs=100, seed=1), hparams=ad.hparams)"
   ]
  },
  {
   "cell_type": "code",
   "execution_count": 14,
   "metadata": {},
   "outputs": [],
   "source": [
    "pd.DataFrame(ad.hparams, index=[\"hparam\"]).transpose()"
   ]
  },
  {
   "cell_type": "code",
   "execution_count": 15,
   "metadata": {},
   "outputs": [
    {
     "name": "stdout",
     "output_type": "stream",
     "text": [
      "Model: \"sequential_99\"\n",
      "_________________________________________________________________\n",
      "Layer (type)                 Output Shape              Param #   \n",
      "=================================================================\n",
      "conv2d_297 (Conv2D)          (None, 26, 26, 16)        160       \n",
      "_________________________________________________________________\n",
      "max_pooling2d_297 (MaxPoolin (None, 13, 13, 16)        0         \n",
      "_________________________________________________________________\n",
      "conv2d_298 (Conv2D)          (None, 11, 11, 32)        4640      \n",
      "_________________________________________________________________\n",
      "max_pooling2d_298 (MaxPoolin (None, 5, 5, 32)          0         \n",
      "_________________________________________________________________\n",
      "conv2d_299 (Conv2D)          (None, 3, 3, 64)          18496     \n",
      "_________________________________________________________________\n",
      "max_pooling2d_299 (MaxPoolin (None, 1, 1, 64)          0         \n",
      "_________________________________________________________________\n",
      "flatten_99 (Flatten)         (None, 64)                0         \n",
      "_________________________________________________________________\n",
      "dense_198 (Dense)            (None, 512)               33280     \n",
      "_________________________________________________________________\n",
      "dense_199 (Dense)            (None, 10)                5130      \n",
      "=================================================================\n",
      "Total params: 61,706\n",
      "Trainable params: 61,706\n",
      "Non-trainable params: 0\n",
      "_________________________________________________________________\n"
     ]
    }
   ],
   "source": [
    "ad.fit(ds_train, metrics=[\"accuracy\"])\n",
    "ad.m.summary()"
   ]
  },
  {
   "cell_type": "code",
   "execution_count": 16,
   "metadata": {},
   "outputs": [
    {
     "data": {
      "application/javascript": [
       "var spec = {\"config\": {\"view\": {\"width\": 400, \"height\": 300}, \"mark\": {\"tooltip\": null}}, \"data\": {\"name\": \"data-fb08a0438e58520a82bac0d909976fca\"}, \"mark\": \"line\", \"encoding\": {\"x\": {\"type\": \"quantitative\", \"field\": \"epoch\"}, \"y\": {\"type\": \"quantitative\", \"field\": \"loss\"}}, \"$schema\": \"https://vega.github.io/schema/vega-lite/v3.4.0.json\", \"datasets\": {\"data-fb08a0438e58520a82bac0d909976fca\": [{\"index\": 0, \"epoch\": 0, \"loss\": 6.649837086008382, \"accuracy\": 0.7169901132583618}, {\"index\": 1, \"epoch\": 1, \"loss\": 0.7088300350548833, \"accuracy\": 0.7791333794593811}, {\"index\": 2, \"epoch\": 2, \"loss\": 0.6319213350001536, \"accuracy\": 0.80186927318573}, {\"index\": 3, \"epoch\": 3, \"loss\": 0.5844624478999338, \"accuracy\": 0.8167808055877686}, {\"index\": 4, \"epoch\": 4, \"loss\": 0.5498215030748369, \"accuracy\": 0.8280774354934692}, {\"index\": 5, \"epoch\": 5, \"loss\": 0.5228150980249388, \"accuracy\": 0.8366628885269165}, {\"index\": 6, \"epoch\": 6, \"loss\": 0.5016824406553259, \"accuracy\": 0.8427273631095886}, {\"index\": 7, \"epoch\": 7, \"loss\": 0.48349210757144145, \"accuracy\": 0.8483875393867493}, {\"index\": 8, \"epoch\": 8, \"loss\": 0.4699295342444829, \"accuracy\": 0.8525970578193665}, {\"index\": 9, \"epoch\": 9, \"loss\": 0.45641450857236143, \"accuracy\": 0.8551655411720276}, {\"index\": 10, \"epoch\": 10, \"loss\": 0.44558807961427277, \"accuracy\": 0.8591609597206116}, {\"index\": 11, \"epoch\": 11, \"loss\": 0.4352509825741319, \"accuracy\": 0.8624429106712341}, {\"index\": 12, \"epoch\": 12, \"loss\": 0.42606163907178096, \"accuracy\": 0.8654394745826721}, {\"index\": 13, \"epoch\": 13, \"loss\": 0.41625761422165636, \"accuracy\": 0.8692446947097778}, {\"index\": 14, \"epoch\": 14, \"loss\": 0.4078677480464838, \"accuracy\": 0.8722412586212158}, {\"index\": 15, \"epoch\": 15, \"loss\": 0.4002609339342814, \"accuracy\": 0.8746670484542847}, {\"index\": 16, \"epoch\": 16, \"loss\": 0.3938628899747197, \"accuracy\": 0.8767598867416382}, {\"index\": 17, \"epoch\": 17, \"loss\": 0.3864181917075697, \"accuracy\": 0.8796613216400146}, {\"index\": 18, \"epoch\": 18, \"loss\": 0.3799369333416813, \"accuracy\": 0.8818255066871643}, {\"index\": 19, \"epoch\": 19, \"loss\": 0.3737826068152757, \"accuracy\": 0.883942186832428}, {\"index\": 20, \"epoch\": 20, \"loss\": 0.3679270742849491, \"accuracy\": 0.8859874606132507}, {\"index\": 21, \"epoch\": 21, \"loss\": 0.36256064008496125, \"accuracy\": 0.8879138231277466}, {\"index\": 22, \"epoch\": 22, \"loss\": 0.3575752323813725, \"accuracy\": 0.8896737098693848}, {\"index\": 23, \"epoch\": 23, \"loss\": 0.3528857588019545, \"accuracy\": 0.8917665481567383}, {\"index\": 24, \"epoch\": 24, \"loss\": 0.34772784114337585, \"accuracy\": 0.8932648301124573}, {\"index\": 25, \"epoch\": 25, \"loss\": 0.343105431141465, \"accuracy\": 0.8954527974128723}, {\"index\": 26, \"epoch\": 26, \"loss\": 0.3390116669872671, \"accuracy\": 0.8967370390892029}, {\"index\": 27, \"epoch\": 27, \"loss\": 0.3337574011137315, \"accuracy\": 0.8984732031822205}, {\"index\": 28, \"epoch\": 28, \"loss\": 0.32988757983167605, \"accuracy\": 0.8995434045791626}, {\"index\": 29, \"epoch\": 29, \"loss\": 0.32565100813111575, \"accuracy\": 0.9015173316001892}, {\"index\": 30, \"epoch\": 30, \"loss\": 0.3219007040732618, \"accuracy\": 0.9033723473548889}, {\"index\": 31, \"epoch\": 31, \"loss\": 0.31840620161554406, \"accuracy\": 0.9049657583236694}, {\"index\": 32, \"epoch\": 32, \"loss\": 0.31470628819872076, \"accuracy\": 0.9061310887336731}, {\"index\": 33, \"epoch\": 33, \"loss\": 0.3113951643126559, \"accuracy\": 0.9076769351959229}, {\"index\": 34, \"epoch\": 34, \"loss\": 0.3078354772299392, \"accuracy\": 0.9089136123657227}, {\"index\": 35, \"epoch\": 35, \"loss\": 0.30437020422774547, \"accuracy\": 0.9107686281204224}, {\"index\": 36, \"epoch\": 36, \"loss\": 0.30142235376587195, \"accuracy\": 0.9116723537445068}, {\"index\": 37, \"epoch\": 37, \"loss\": 0.298071756272873, \"accuracy\": 0.9128139019012451}, {\"index\": 38, \"epoch\": 38, \"loss\": 0.2951771411732905, \"accuracy\": 0.9138127565383911}, {\"index\": 39, \"epoch\": 39, \"loss\": 0.291893881971025, \"accuracy\": 0.9153586626052856}, {\"index\": 40, \"epoch\": 40, \"loss\": 0.2891709775560432, \"accuracy\": 0.9159532189369202}, {\"index\": 41, \"epoch\": 41, \"loss\": 0.2865484871333139, \"accuracy\": 0.9168331623077393}, {\"index\": 42, \"epoch\": 42, \"loss\": 0.28368395223329057, \"accuracy\": 0.9180936217308044}, {\"index\": 43, \"epoch\": 43, \"loss\": 0.2813277097143902, \"accuracy\": 0.9185454845428467}, {\"index\": 44, \"epoch\": 44, \"loss\": 0.27880248308884864, \"accuracy\": 0.920067548751831}, {\"index\": 45, \"epoch\": 45, \"loss\": 0.27659001476393624, \"accuracy\": 0.9209237098693848}, {\"index\": 46, \"epoch\": 46, \"loss\": 0.27376813286152785, \"accuracy\": 0.9228500723838806}, {\"index\": 47, \"epoch\": 47, \"loss\": 0.2715446412381879, \"accuracy\": 0.9228500723838806}, {\"index\": 48, \"epoch\": 48, \"loss\": 0.26906374537441285, \"accuracy\": 0.924372136592865}, {\"index\": 49, \"epoch\": 49, \"loss\": 0.267082821526756, \"accuracy\": 0.9246337413787842}, {\"index\": 50, \"epoch\": 50, \"loss\": 0.26524190256539365, \"accuracy\": 0.9255850315093994}, {\"index\": 51, \"epoch\": 51, \"loss\": 0.2630147689973292, \"accuracy\": 0.9261082410812378}, {\"index\": 52, \"epoch\": 52, \"loss\": 0.26064985345827935, \"accuracy\": 0.9274638295173645}, {\"index\": 53, \"epoch\": 53, \"loss\": 0.25874007973519453, \"accuracy\": 0.9272260069847107}, {\"index\": 54, \"epoch\": 54, \"loss\": 0.2568350261420329, \"accuracy\": 0.9287005066871643}, {\"index\": 55, \"epoch\": 55, \"loss\": 0.2548451511248878, \"accuracy\": 0.9292950630187988}, {\"index\": 56, \"epoch\": 56, \"loss\": 0.253021343601258, \"accuracy\": 0.9302939772605896}, {\"index\": 57, \"epoch\": 57, \"loss\": 0.2506171860639998, \"accuracy\": 0.9313641786575317}, {\"index\": 58, \"epoch\": 58, \"loss\": 0.24924641572041054, \"accuracy\": 0.9316971302032471}, {\"index\": 59, \"epoch\": 59, \"loss\": 0.24735899899534802, \"accuracy\": 0.9320300817489624}, {\"index\": 60, \"epoch\": 60, \"loss\": 0.24523846872003474, \"accuracy\": 0.9336948394775391}, {\"index\": 61, \"epoch\": 61, \"loss\": 0.24283577563578498, \"accuracy\": 0.9345272183418274}, {\"index\": 62, \"epoch\": 62, \"loss\": 0.24086009416746224, \"accuracy\": 0.9355260729789734}, {\"index\": 63, \"epoch\": 63, \"loss\": 0.23882178447947836, \"accuracy\": 0.9361206293106079}, {\"index\": 64, \"epoch\": 64, \"loss\": 0.23714924209058014, \"accuracy\": 0.9366200566291809}, {\"index\": 65, \"epoch\": 65, \"loss\": 0.23546961704595085, \"accuracy\": 0.9370957016944885}, {\"index\": 66, \"epoch\": 66, \"loss\": 0.23408784016490528, \"accuracy\": 0.9375}, {\"index\": 67, \"epoch\": 67, \"loss\": 0.2323844186887939, \"accuracy\": 0.9379280805587769}, {\"index\": 68, \"epoch\": 68, \"loss\": 0.22999783230256543, \"accuracy\": 0.939307451248169}, {\"index\": 69, \"epoch\": 69, \"loss\": 0.227847950331742, \"accuracy\": 0.939687967300415}, {\"index\": 70, \"epoch\": 70, \"loss\": 0.22691565523805773, \"accuracy\": 0.9397355318069458}, {\"index\": 71, \"epoch\": 71, \"loss\": 0.22468074683604627, \"accuracy\": 0.9414240717887878}, {\"index\": 72, \"epoch\": 72, \"loss\": 0.22358325779256574, \"accuracy\": 0.94218510389328}, {\"index\": 73, \"epoch\": 73, \"loss\": 0.22137639514784382, \"accuracy\": 0.9427558779716492}, {\"index\": 74, \"epoch\": 74, \"loss\": 0.22059260770009442, \"accuracy\": 0.9427320957183838}, {\"index\": 75, \"epoch\": 75, \"loss\": 0.21786724658940934, \"accuracy\": 0.9434455633163452}, {\"index\": 76, \"epoch\": 76, \"loss\": 0.21644245198101394, \"accuracy\": 0.9447773694992065}, {\"index\": 77, \"epoch\": 77, \"loss\": 0.2152875434817063, \"accuracy\": 0.9454908967018127}, {\"index\": 78, \"epoch\": 78, \"loss\": 0.21371533836789508, \"accuracy\": 0.9460141062736511}, {\"index\": 79, \"epoch\": 79, \"loss\": 0.2131258525957936, \"accuracy\": 0.9462519288063049}, {\"index\": 80, \"epoch\": 80, \"loss\": 0.2143124412699876, \"accuracy\": 0.9460854530334473}, {\"index\": 81, \"epoch\": 81, \"loss\": 0.21098504879170266, \"accuracy\": 0.9471080899238586}, {\"index\": 82, \"epoch\": 82, \"loss\": 0.20847131417358303, \"accuracy\": 0.9484874606132507}, {\"index\": 83, \"epoch\": 83, \"loss\": 0.20797897583579636, \"accuracy\": 0.94843989610672}, {\"index\": 84, \"epoch\": 84, \"loss\": 0.20614610696594193, \"accuracy\": 0.9490344524383545}, {\"index\": 85, \"epoch\": 85, \"loss\": 0.20630054122837801, \"accuracy\": 0.9483685493469238}, {\"index\": 86, \"epoch\": 86, \"loss\": 0.20347624720333646, \"accuracy\": 0.9501997828483582}, {\"index\": 87, \"epoch\": 87, \"loss\": 0.20228616971823088, \"accuracy\": 0.9511035084724426}, {\"index\": 88, \"epoch\": 88, \"loss\": 0.20212337047802895, \"accuracy\": 0.9512224197387695}, {\"index\": 89, \"epoch\": 89, \"loss\": 0.2022721423927689, \"accuracy\": 0.9501522183418274}, {\"index\": 90, \"epoch\": 90, \"loss\": 0.199446011867652, \"accuracy\": 0.951816976070404}, {\"index\": 91, \"epoch\": 91, \"loss\": 0.1979122255110895, \"accuracy\": 0.9525066614151001}, {\"index\": 92, \"epoch\": 92, \"loss\": 0.19883328041450166, \"accuracy\": 0.9522212743759155}, {\"index\": 93, \"epoch\": 93, \"loss\": 0.19586735720571863, \"accuracy\": 0.9527444839477539}, {\"index\": 94, \"epoch\": 94, \"loss\": 0.1988661566854113, \"accuracy\": 0.9515791535377502}, {\"index\": 95, \"epoch\": 95, \"loss\": 0.19460750640549979, \"accuracy\": 0.9539573788642883}, {\"index\": 96, \"epoch\": 96, \"loss\": 0.19438335705474813, \"accuracy\": 0.9538860321044922}, {\"index\": 97, \"epoch\": 97, \"loss\": 0.19262365351007227, \"accuracy\": 0.954813539981842}, {\"index\": 98, \"epoch\": 98, \"loss\": 0.19229394417182405, \"accuracy\": 0.9543378949165344}, {\"index\": 99, \"epoch\": 99, \"loss\": 0.1901909702938033, \"accuracy\": 0.955812394618988}]}};\n",
       "var opt = {};\n",
       "var type = \"vega-lite\";\n",
       "var id = \"a7673058-93be-40f5-8acf-a8eecb40d602\";\n",
       "\n",
       "var output_area = this;\n",
       "\n",
       "require([\"nbextensions/jupyter-vega/index\"], function(vega) {\n",
       "  var target = document.createElement(\"div\");\n",
       "  target.id = id;\n",
       "  target.className = \"vega-embed\";\n",
       "\n",
       "  var style = document.createElement(\"style\");\n",
       "  style.textContent = [\n",
       "    \".vega-embed .error p {\",\n",
       "    \"  color: firebrick;\",\n",
       "    \"  font-size: 14px;\",\n",
       "    \"}\",\n",
       "  ].join(\"\\\\n\");\n",
       "\n",
       "  // element is a jQuery wrapped DOM element inside the output area\n",
       "  // see http://ipython.readthedocs.io/en/stable/api/generated/\\\n",
       "  // IPython.display.html#IPython.display.Javascript.__init__\n",
       "  element[0].appendChild(target);\n",
       "  element[0].appendChild(style);\n",
       "\n",
       "  vega.render(\"#\" + id, spec, type, opt, output_area);\n",
       "}, function (err) {\n",
       "  if (err.requireType !== \"scripterror\") {\n",
       "    throw(err);\n",
       "  }\n",
       "});\n"
      ],
      "text/plain": [
       "<vega.vegalite.VegaLite at 0x188830290>"
      ]
     },
     "metadata": {
      "jupyter-vega": "#a7673058-93be-40f5-8acf-a8eecb40d602"
     },
     "output_type": "display_data"
    },
    {
     "data": {
      "text/plain": []
     },
     "execution_count": 16,
     "metadata": {},
     "output_type": "execute_result"
    },
    {
     "data": {
      "image/png": "[encoded data removed]"
     },
     "metadata": {
      "jupyter-vega": "#a7673058-93be-40f5-8acf-a8eecb40d602"
     },
     "output_type": "display_data"
    }
   ],
   "source": [
    "alt.Chart(ad.metrics_history().reset_index()).mark_line().encode(\n",
    "    x = \"epoch\",\n",
    "    y = \"loss\",\n",
    ")"
   ]
  },
  {
   "cell_type": "code",
   "execution_count": 17,
   "metadata": {},
   "outputs": [
    {
     "data": {
      "text/html": [
       "<div>\n",
       "<style scoped>\n",
       "    .dataframe tbody tr th:only-of-type {\n",
       "        vertical-align: middle;\n",
       "    }\n",
       "\n",
       "    .dataframe tbody tr th {\n",
       "        vertical-align: top;\n",
       "    }\n",
       "\n",
       "    .dataframe thead th {\n",
       "        text-align: right;\n",
       "    }\n",
       "</style>\n",
       "<table border=\"1\" class=\"dataframe\">\n",
       "  <thead>\n",
       "    <tr style=\"text-align: right;\">\n",
       "      <th></th>\n",
       "      <th>train</th>\n",
       "      <th>dev</th>\n",
       "      <th>test</th>\n",
       "    </tr>\n",
       "  </thead>\n",
       "  <tbody>\n",
       "    <tr>\n",
       "      <th>loss</th>\n",
       "      <td>0.190191</td>\n",
       "      <td>0.577074</td>\n",
       "      <td>0.597122</td>\n",
       "    </tr>\n",
       "    <tr>\n",
       "      <th>accuracy</th>\n",
       "      <td>0.955812</td>\n",
       "      <td>0.865950</td>\n",
       "      <td>0.861958</td>\n",
       "    </tr>\n",
       "  </tbody>\n",
       "</table>\n",
       "</div>"
      ],
      "text/plain": [
       "             train       dev      test\n",
       "loss      0.190191  0.577074  0.597122\n",
       "accuracy  0.955812  0.865950  0.861958"
      ]
     },
     "execution_count": 17,
     "metadata": {},
     "output_type": "execute_result"
    }
   ],
   "source": [
    "ad.generalized_metrics(ds_dev, ds_test)"
   ]
  },
  {
   "cell_type": "code",
   "execution_count": null,
   "metadata": {},
   "outputs": [],
   "source": []
  }
 ],
 "metadata": {
  "kernelspec": {
   "display_name": "Python 3",
   "language": "python",
   "name": "python3"
  },
  "language_info": {
   "codemirror_mode": {
    "name": "ipython",
    "version": 3
   },
   "file_extension": ".py",
   "mimetype": "text/x-python",
   "name": "python",
   "nbconvert_exporter": "python",
   "pygments_lexer": "ipython3",
   "version": "3.7.4"
  }
 },
 "nbformat": 4,
 "nbformat_minor": 2
}
