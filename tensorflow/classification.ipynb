{
 "cells": [
  {
   "cell_type": "code",
   "execution_count": 1,
   "metadata": {},
   "outputs": [
    {
     "data": {
      "text/plain": [
       "RendererRegistry.enable('notebook')"
      ]
     },
     "execution_count": 1,
     "metadata": {},
     "output_type": "execute_result"
    }
   ],
   "source": [
    "import pandas as pd\n",
    "import numpy as np\n",
    "import tensorflow as tf\n",
    "import mlts\n",
    "\n",
    "import altair as alt\n",
    "alt.renderers.enable('notebook')"
   ]
  },
  {
   "cell_type": "code",
   "execution_count": 2,
   "metadata": {},
   "outputs": [],
   "source": [
    "data = mlts.io.merge([\n",
    "    pd.read_csv('../data/fashion-mnist/fashion-mnist_train.csv'),\n",
    "    pd.read_csv('../data/fashion-mnist/fashion-mnist_train.csv')\n",
    "])"
   ]
  },
  {
   "cell_type": "code",
   "execution_count": 3,
   "metadata": {},
   "outputs": [],
   "source": [
    "mlts.io.check(data)"
   ]
  },
  {
   "cell_type": "code",
   "execution_count": 4,
   "metadata": {},
   "outputs": [],
   "source": [
    "K = len(data.iloc[:, 0].value_counts())\n",
    "ds_train, ds_dev, ds_test, mu, sigma = \\\n",
    "    mlts.io.normalize(mlts.io.split(data, ycol=0, shape=(36086)))"
   ]
  },
  {
   "cell_type": "code",
   "execution_count": null,
   "metadata": {},
   "outputs": [],
   "source": []
  },
  {
   "cell_type": "code",
   "execution_count": null,
   "metadata": {},
   "outputs": [],
   "source": []
  },
  {
   "cell_type": "code",
   "execution_count": null,
   "metadata": {},
   "outputs": [],
   "source": []
  },
  {
   "cell_type": "code",
   "execution_count": 5,
   "metadata": {},
   "outputs": [],
   "source": [
    "class ClassificationModel(tf.keras.Model):\n",
    "    def __init__(self, hparams, K):\n",
    "        super(ClassificationModel, self).__init__(name='classification')\n",
    "        \n",
    "        lambd = hparams[\"lambda\"]\n",
    "        regularization = None\n",
    "        if (lambd != 0.):\n",
    "            regularization = tf.keras.regularizers.l2(l=lambd)\n",
    "        \n",
    "        self.l1 = tf.keras.layers.Dense(\n",
    "            128,\n",
    "            activation=tf.nn.relu,\n",
    "            kernel_regularizer=regularization\n",
    "        )\n",
    "        self.l2 = tf.keras.layers.Dense(\n",
    "            K,\n",
    "            activation=tf.nn.softmax,\n",
    "            kernel_regularizer=regularization\n",
    "        )\n",
    "\n",
    "    def call(self, X):\n",
    "        A = self.l1(X)\n",
    "        A = self.l2(A)\n",
    "        return A"
   ]
  },
  {
   "cell_type": "code",
   "execution_count": 6,
   "metadata": {},
   "outputs": [],
   "source": [
    "class FasionMNISTAdapter(mlts.tf.ModelAdapter):\n",
    "    def __init__(self, hparams):\n",
    "        super().__init__(hparams)\n",
    "\n",
    "    @staticmethod\n",
    "    def build_model(hparams, metrics = []):\n",
    "        model = ClassificationModel(hparams=hparams, K=10)\n",
    "        model.compile(\n",
    "            optimizer='adam',\n",
    "            loss='sparse_categorical_crossentropy',\n",
    "            metrics=metrics)\n",
    "        \n",
    "        return model\n",
    "    \n",
    "    @staticmethod\n",
    "    def estimate_parameters(hparams, model, ds, epochs, callbacks=[]):\n",
    "        batch_size = hparams[\"batch_size\"]\n",
    "        X, y = ds\n",
    "        \n",
    "        model.fit(\n",
    "            tf.data.Dataset.from_tensor_slices(ds).batch(batch_size),\n",
    "            epochs=epochs,\n",
    "            shuffle=False,\n",
    "            callbacks=callbacks\n",
    "        )\n",
    "        \n",
    "        return model"
   ]
  },
  {
   "cell_type": "code",
   "execution_count": null,
   "metadata": {},
   "outputs": [],
   "source": []
  },
  {
   "cell_type": "code",
   "execution_count": null,
   "metadata": {},
   "outputs": [],
   "source": []
  },
  {
   "cell_type": "code",
   "execution_count": null,
   "metadata": {},
   "outputs": [],
   "source": []
  },
  {
   "cell_type": "code",
   "execution_count": 7,
   "metadata": {},
   "outputs": [
    {
     "name": "stderr",
     "output_type": "stream",
     "text": [
      "WARNING: Logging before flag parsing goes to stderr.\n",
      "W0721 21:26:16.290833 4471154112 deprecation.py:323] From /Users/manifest/projects/github/machine-learning-notebook/venv/lib/python3.7/site-packages/tensorflow/python/ops/math_grad.py:1250: add_dispatch_support.<locals>.wrapper (from tensorflow.python.ops.array_ops) is deprecated and will be removed in a future version.\n",
      "Instructions for updating:\n",
      "Use tf.where in 2.0, which has the same broadcast rule as np.where\n"
     ]
    },
    {
     "name": "stdout",
     "output_type": "stream",
     "text": [
      "1/1 [==============================] - 1s 562ms/step - loss: 8.5753\n",
      "36086/36086 [==============================] - 1s 35us/sample - loss: 3.4076\n",
      "12000/12000 [==============================] - 0s 29us/sample - loss: 3.3845\n",
      "126/126 [==============================] - 1s 7ms/step - loss: 2.6199\n",
      "36086/36086 [==============================] - 1s 33us/sample - loss: 0.5160\n",
      "12000/12000 [==============================] - 0s 31us/sample - loss: 0.5392\n",
      "251/251 [==============================] - 1s 6ms/step - loss: 2.1542\n",
      "36086/36086 [==============================] - 1s 33us/sample - loss: 0.4872\n",
      "12000/12000 [==============================] - 0s 30us/sample - loss: 0.5084\n",
      "376/376 [==============================] - 2s 5ms/step - loss: 1.8316\n",
      "36086/36086 [==============================] - 1s 36us/sample - loss: 0.4563\n",
      "12000/12000 [==============================] - 1s 52us/sample - loss: 0.4791\n",
      "502/502 [==============================] - 2s 4ms/step - loss: 1.5975\n",
      "36086/36086 [==============================] - 1s 39us/sample - loss: 0.4535\n",
      "12000/12000 [==============================] - 0s 38us/sample - loss: 0.4872\n",
      "627/627 [==============================] - 2s 4ms/step - loss: 1.4528A: 0s - loss: 1.460\n",
      "36086/36086 [==============================] - 1s 37us/sample - loss: 0.4657\n",
      "12000/12000 [==============================] - 0s 31us/sample - loss: 0.4958\n",
      "752/752 [==============================] - 3s 4ms/step - loss: 1.3258\n",
      "36086/36086 [==============================] - 1s 33us/sample - loss: 0.4547\n",
      "12000/12000 [==============================] - 0s 30us/sample - loss: 0.4682\n",
      "878/878 [==============================] - 3s 4ms/step - loss: 1.2105\n",
      "36086/36086 [==============================] - 1s 39us/sample - loss: 0.4501\n",
      "12000/12000 [==============================] - 0s 30us/sample - loss: 0.4736\n",
      "1003/1003 [==============================] - 3s 3ms/step - loss: 1.1614\n",
      "36086/36086 [==============================] - 1s 33us/sample - loss: 0.4610\n",
      "12000/12000 [==============================] - 0s 30us/sample - loss: 0.4840\n",
      "1128/1128 [==============================] - 3s 3ms/step - loss: 1.1119\n",
      "36086/36086 [==============================] - 1s 38us/sample - loss: 0.4660\n",
      "12000/12000 [==============================] - 0s 30us/sample - loss: 0.4849\n"
     ]
    }
   ],
   "source": [
    "hparams = {\"lambda\": 0.01, \"batch_size\": 32}\n",
    "ad = FasionMNISTAdapter(hparams)\n",
    "m_hist = ad.analyze_training_examples(ds_train, ds_dev, epochs=1)"
   ]
  },
  {
   "cell_type": "code",
   "execution_count": 8,
   "metadata": {},
   "outputs": [
    {
     "data": {
      "application/javascript": [
       "var spec = {\"config\": {\"view\": {\"width\": 400, \"height\": 300}, \"mark\": {\"tooltip\": null}}, \"data\": {\"name\": \"data-a79540ac781ca9d8d883849f8c320f57\"}, \"mark\": \"line\", \"encoding\": {\"color\": {\"type\": \"nominal\", \"field\": \"variable\"}, \"x\": {\"type\": \"quantitative\", \"field\": \"m\"}, \"y\": {\"type\": \"quantitative\", \"field\": \"value\"}}, \"$schema\": \"https://vega.github.io/schema/vega-lite/v3.3.0.json\", \"datasets\": {\"data-a79540ac781ca9d8d883849f8c320f57\": [{\"m\": 1, \"variable\": \"E_train\", \"value\": 3.4075883533065423}, {\"m\": 4010, \"variable\": \"E_train\", \"value\": 0.5160374057047383}, {\"m\": 8020, \"variable\": \"E_train\", \"value\": 0.4872320460668875}, {\"m\": 12029, \"variable\": \"E_train\", \"value\": 0.4563367591195638}, {\"m\": 16039, \"variable\": \"E_train\", \"value\": 0.4535284313919999}, {\"m\": 20048, \"variable\": \"E_train\", \"value\": 0.4656893818437622}, {\"m\": 24058, \"variable\": \"E_train\", \"value\": 0.45467382542940926}, {\"m\": 28067, \"variable\": \"E_train\", \"value\": 0.45005531987850167}, {\"m\": 32077, \"variable\": \"E_train\", \"value\": 0.4609958442146235}, {\"m\": 36087, \"variable\": \"E_train\", \"value\": 0.46603577268719343}, {\"m\": 1, \"variable\": \"E_dev\", \"value\": 3.384511370668809}, {\"m\": 4010, \"variable\": \"E_dev\", \"value\": 0.5392175776444562}, {\"m\": 8020, \"variable\": \"E_dev\", \"value\": 0.5084263647023434}, {\"m\": 12029, \"variable\": \"E_dev\", \"value\": 0.47910618031122437}, {\"m\": 16039, \"variable\": \"E_dev\", \"value\": 0.4872151960147252}, {\"m\": 20048, \"variable\": \"E_dev\", \"value\": 0.4958201544359858}, {\"m\": 24058, \"variable\": \"E_dev\", \"value\": 0.4681824082659215}, {\"m\": 28067, \"variable\": \"E_dev\", \"value\": 0.4736479636875489}, {\"m\": 32077, \"variable\": \"E_dev\", \"value\": 0.4839540848134728}, {\"m\": 36087, \"variable\": \"E_dev\", \"value\": 0.4849333152873769}]}};\n",
       "var opt = {};\n",
       "var type = \"vega-lite\";\n",
       "var id = \"be6dc7a0-b990-4fc0-aa22-1ea36f452cf5\";\n",
       "\n",
       "var output_area = this;\n",
       "\n",
       "require([\"nbextensions/jupyter-vega/index\"], function(vega) {\n",
       "  var target = document.createElement(\"div\");\n",
       "  target.id = id;\n",
       "  target.className = \"vega-embed\";\n",
       "\n",
       "  var style = document.createElement(\"style\");\n",
       "  style.textContent = [\n",
       "    \".vega-embed .error p {\",\n",
       "    \"  color: firebrick;\",\n",
       "    \"  font-size: 14px;\",\n",
       "    \"}\",\n",
       "  ].join(\"\\\\n\");\n",
       "\n",
       "  // element is a jQuery wrapped DOM element inside the output area\n",
       "  // see http://ipython.readthedocs.io/en/stable/api/generated/\\\n",
       "  // IPython.display.html#IPython.display.Javascript.__init__\n",
       "  element[0].appendChild(target);\n",
       "  element[0].appendChild(style);\n",
       "\n",
       "  vega.render(\"#\" + id, spec, type, opt, output_area);\n",
       "}, function (err) {\n",
       "  if (err.requireType !== \"scripterror\") {\n",
       "    throw(err);\n",
       "  }\n",
       "});\n"
      ],
      "text/plain": [
       "<vega.vegalite.VegaLite at 0x146c2cf10>"
      ]
     },
     "metadata": {
      "jupyter-vega": "#be6dc7a0-b990-4fc0-aa22-1ea36f452cf5"
     },
     "output_type": "display_data"
    },
    {
     "data": {
      "text/plain": []
     },
     "execution_count": 8,
     "metadata": {},
     "output_type": "execute_result"
    },
    {
     "data": {
      "image/png": "[encoded data removed]"
     },
     "metadata": {
      "jupyter-vega": "#be6dc7a0-b990-4fc0-aa22-1ea36f452cf5"
     },
     "output_type": "display_data"
    }
   ],
   "source": [
    "alt.Chart(m_hist.melt(id_vars='m')).mark_line().encode(\n",
    "    x = 'm',\n",
    "    y = 'value',\n",
    "    color = 'variable'\n",
    ")"
   ]
  },
  {
   "cell_type": "code",
   "execution_count": null,
   "metadata": {},
   "outputs": [],
   "source": []
  },
  {
   "cell_type": "code",
   "execution_count": null,
   "metadata": {},
   "outputs": [],
   "source": []
  },
  {
   "cell_type": "code",
   "execution_count": null,
   "metadata": {},
   "outputs": [],
   "source": []
  },
  {
   "cell_type": "code",
   "execution_count": 9,
   "metadata": {},
   "outputs": [
    {
     "name": "stdout",
     "output_type": "stream",
     "text": [
      "Epoch 1/10\n",
      "1128/1128 [==============================] - 3s 3ms/step - loss: 1.1027\n",
      "Epoch 2/10\n",
      "1128/1128 [==============================] - 3s 2ms/step - loss: 0.6573\n",
      "Epoch 3/10\n",
      "1128/1128 [==============================] - 3s 3ms/step - loss: 0.6474\n",
      "Epoch 4/10\n",
      "1128/1128 [==============================] - 3s 3ms/step - loss: 0.6384\n",
      "Epoch 5/10\n",
      "1128/1128 [==============================] - 3s 2ms/step - loss: 0.6299\n",
      "Epoch 6/10\n",
      "1128/1128 [==============================] - 3s 3ms/step - loss: 0.6233A\n",
      "Epoch 7/10\n",
      "1128/1128 [==============================] - 3s 3ms/step - loss: 0.6193\n",
      "Epoch 8/10\n",
      "1128/1128 [==============================] - 3s 3ms/step - loss: 0.6151\n",
      "Epoch 9/10\n",
      "1128/1128 [==============================] - 3s 2ms/step - loss: 0.6116\n",
      "Epoch 10/10\n",
      "1128/1128 [==============================] - 2s 2ms/step - loss: 0.6085\n",
      "12000/12000 [==============================] - 0s 20us/sample - loss: 0.6231\n",
      "12000/12000 [==============================] - 0s 30us/sample - loss: 0.6285\n"
     ]
    },
    {
     "data": {
      "text/plain": [
       "(0.6085458425333711, 0.6231134693622589, 0.62846249071757)"
      ]
     },
     "execution_count": 9,
     "metadata": {},
     "output_type": "execute_result"
    }
   ],
   "source": [
    "ad.fit(ds_train, epochs=10)\n",
    "E_train = ad.model.history.history[\"loss\"][-1]\n",
    "E_dev = ad.evaluate(ds_dev)\n",
    "E_test = ad.evaluate(ds_test)\n",
    "(E_train, E_dev, E_test)"
   ]
  },
  {
   "cell_type": "code",
   "execution_count": null,
   "metadata": {},
   "outputs": [],
   "source": []
  },
  {
   "cell_type": "code",
   "execution_count": null,
   "metadata": {},
   "outputs": [],
   "source": []
  },
  {
   "cell_type": "code",
   "execution_count": null,
   "metadata": {},
   "outputs": [],
   "source": []
  },
  {
   "cell_type": "code",
   "execution_count": null,
   "metadata": {},
   "outputs": [],
   "source": []
  }
 ],
 "metadata": {
  "kernelspec": {
   "display_name": "Python 3",
   "language": "python",
   "name": "python3"
  },
  "language_info": {
   "codemirror_mode": {
    "name": "ipython",
    "version": 3
   },
   "file_extension": ".py",
   "mimetype": "text/x-python",
   "name": "python",
   "nbconvert_exporter": "python",
   "pygments_lexer": "ipython3",
   "version": "3.7.4"
  }
 },
 "nbformat": 4,
 "nbformat_minor": 2
}
