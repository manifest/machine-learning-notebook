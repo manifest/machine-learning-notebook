{
 "cells": [
  {
   "cell_type": "code",
   "execution_count": null,
   "metadata": {},
   "outputs": [],
   "source": [
    "import pandas as pd\n",
    "import numpy as np\n",
    "import tensorflow as tf\n",
    "import mlts\n",
    "\n",
    "import altair as alt\n",
    "alt.renderers.enable('notebook')"
   ]
  },
  {
   "cell_type": "markdown",
   "metadata": {},
   "source": [
    "## Load data"
   ]
  },
  {
   "cell_type": "code",
   "execution_count": 2,
   "metadata": {},
   "outputs": [],
   "source": [
    "data = mlts.io.merge([\n",
    "    pd.read_csv('../data/fashion-mnist/fashion-mnist_train.csv'),\n",
    "    pd.read_csv('../data/fashion-mnist/fashion-mnist_train.csv')\n",
    "])"
   ]
  },
  {
   "cell_type": "code",
   "execution_count": 3,
   "metadata": {},
   "outputs": [],
   "source": [
    "mlts.io.check(data)"
   ]
  },
  {
   "cell_type": "code",
   "execution_count": 4,
   "metadata": {},
   "outputs": [],
   "source": [
    "K = len(data.iloc[:, 0].value_counts())\n",
    "ds_train, ds_dev, ds_test, mu, sigma = \\\n",
    "    mlts.io.normalize(mlts.io.split(data, ycol=0, shape=(35968), seed=1))"
   ]
  },
  {
   "cell_type": "markdown",
   "metadata": {},
   "source": [
    "## Implement the model"
   ]
  },
  {
   "cell_type": "code",
   "execution_count": 5,
   "metadata": {},
   "outputs": [],
   "source": [
    "class ClassificationModel(tf.keras.Model):\n",
    "    def __init__(self, hparams, K):\n",
    "        super(ClassificationModel, self).__init__(name='classification')\n",
    "        \n",
    "        regularization = None\n",
    "        if \"lambda\" in hparams:\n",
    "            regularization = tf.keras.regularizers.l2(l=hparams[\"lambda\"])\n",
    "        \n",
    "        self.l1 = tf.keras.layers.Dense(\n",
    "            128,\n",
    "            activation=tf.nn.relu,\n",
    "            kernel_regularizer=regularization\n",
    "        )\n",
    "        self.l2 = tf.keras.layers.Dense(\n",
    "            K,\n",
    "            activation=tf.nn.softmax,\n",
    "            kernel_regularizer=regularization\n",
    "        )\n",
    "\n",
    "    def call(self, X):\n",
    "        A = self.l1(X)\n",
    "        A = self.l2(A)\n",
    "        return A"
   ]
  },
  {
   "cell_type": "code",
   "execution_count": 6,
   "metadata": {},
   "outputs": [],
   "source": [
    "class FasionMNISTAdapter(mlts.tf.ModelAdapter):\n",
    "    def __init__(self, *args, **kwargs):\n",
    "        super(FasionMNISTAdapter, self).__init__(*args, **kwargs)\n",
    "\n",
    "    @staticmethod\n",
    "    def build_model(hparams, metrics = []):\n",
    "        model = ClassificationModel(hparams=hparams, K=10)\n",
    "        model.compile(\n",
    "            optimizer='adam',\n",
    "            loss='sparse_categorical_crossentropy',\n",
    "            metrics=metrics,\n",
    "        )\n",
    "        \n",
    "        return model\n",
    "    \n",
    "    @staticmethod\n",
    "    def estimate_parameters(options, model, ds, callbacks=[]):\n",
    "        X, y = ds\n",
    "        \n",
    "        mlts.tf.ModelAdapter.verify_options(options)\n",
    "        if options[\"seed\"] != None: tf.random.set_seed(options[\"seed\"])\n",
    "        model.fit(\n",
    "            tf.data.Dataset.from_tensor_slices(ds).batch(options[\"batch_size\"]),\n",
    "            epochs=options[\"epochs\"],\n",
    "            shuffle=False,\n",
    "            callbacks=callbacks,\n",
    "            verbose=options[\"verbose\"],\n",
    "        )\n",
    "        \n",
    "        return model"
   ]
  },
  {
   "cell_type": "markdown",
   "metadata": {},
   "source": [
    "## Analyze the dataset"
   ]
  },
  {
   "cell_type": "code",
   "execution_count": 7,
   "metadata": {},
   "outputs": [
    {
     "name": "stderr",
     "output_type": "stream",
     "text": [
      "WARNING: Logging before flag parsing goes to stderr.\n",
      "W0805 12:36:39.135201 4352738752 deprecation.py:323] From /Users/manifest/projects/github/machine-learning-notebook/venv/lib/python3.7/site-packages/tensorflow/python/ops/math_grad.py:1250: add_dispatch_support.<locals>.wrapper (from tensorflow.python.ops.array_ops) is deprecated and will be removed in a future version.\n",
      "Instructions for updating:\n",
      "Use tf.where in 2.0, which has the same broadcast rule as np.where\n"
     ]
    }
   ],
   "source": [
    "ad = FasionMNISTAdapter({\"epochs\": 5, \"seed\": 1})\n",
    "m_hist = ad.analyze_dataset(ds_train, ds_dev)"
   ]
  },
  {
   "cell_type": "code",
   "execution_count": 8,
   "metadata": {},
   "outputs": [
    {
     "data": {
      "application/javascript": [
       "var spec = {\"config\": {\"view\": {\"width\": 400, \"height\": 300}, \"mark\": {\"tooltip\": null}}, \"data\": {\"name\": \"data-e313f2f463f74d19f3975a2c986f34b6\"}, \"mark\": \"line\", \"encoding\": {\"color\": {\"type\": \"nominal\", \"field\": \"variable\"}, \"x\": {\"type\": \"quantitative\", \"field\": \"m\"}, \"y\": {\"type\": \"quantitative\", \"field\": \"value\"}}, \"$schema\": \"https://vega.github.io/schema/vega-lite/v3.3.0.json\", \"datasets\": {\"data-e313f2f463f74d19f3975a2c986f34b6\": [{\"m\": 1, \"variable\": \"E_train\", \"value\": 1.9262879504822195e-05}, {\"m\": 3997, \"variable\": \"E_train\", \"value\": 0.16834360163175183}, {\"m\": 7993, \"variable\": \"E_train\", \"value\": 0.1769471747406438}, {\"m\": 11990, \"variable\": \"E_train\", \"value\": 0.19937348099779004}, {\"m\": 15986, \"variable\": \"E_train\", \"value\": 0.23719765588510672}, {\"m\": 19982, \"variable\": \"E_train\", \"value\": 0.23965344889510887}, {\"m\": 23979, \"variable\": \"E_train\", \"value\": 0.22723398617596632}, {\"m\": 27975, \"variable\": \"E_train\", \"value\": 0.21938886006553174}, {\"m\": 31971, \"variable\": \"E_train\", \"value\": 0.23274997911022066}, {\"m\": 35968, \"variable\": \"E_train\", \"value\": 0.228992178524481}, {\"m\": 1, \"variable\": \"E_dev\", \"value\": 2.700477152133641}, {\"m\": 3997, \"variable\": \"E_dev\", \"value\": 0.5372672713345295}, {\"m\": 7993, \"variable\": \"E_dev\", \"value\": 0.47803682512910234}, {\"m\": 11990, \"variable\": \"E_dev\", \"value\": 0.4499168028070297}, {\"m\": 15986, \"variable\": \"E_dev\", \"value\": 0.4756972172406878}, {\"m\": 19982, \"variable\": \"E_dev\", \"value\": 0.46048347348238633}, {\"m\": 23979, \"variable\": \"E_dev\", \"value\": 0.41675486452418575}, {\"m\": 27975, \"variable\": \"E_dev\", \"value\": 0.40709296539024975}, {\"m\": 31971, \"variable\": \"E_dev\", \"value\": 0.41329220629219615}, {\"m\": 35968, \"variable\": \"E_dev\", \"value\": 0.40763001220391176}]}};\n",
       "var opt = {};\n",
       "var type = \"vega-lite\";\n",
       "var id = \"3fac5988-561c-4248-aad9-4a94b563d640\";\n",
       "\n",
       "var output_area = this;\n",
       "\n",
       "require([\"nbextensions/jupyter-vega/index\"], function(vega) {\n",
       "  var target = document.createElement(\"div\");\n",
       "  target.id = id;\n",
       "  target.className = \"vega-embed\";\n",
       "\n",
       "  var style = document.createElement(\"style\");\n",
       "  style.textContent = [\n",
       "    \".vega-embed .error p {\",\n",
       "    \"  color: firebrick;\",\n",
       "    \"  font-size: 14px;\",\n",
       "    \"}\",\n",
       "  ].join(\"\\\\n\");\n",
       "\n",
       "  // element is a jQuery wrapped DOM element inside the output area\n",
       "  // see http://ipython.readthedocs.io/en/stable/api/generated/\\\n",
       "  // IPython.display.html#IPython.display.Javascript.__init__\n",
       "  element[0].appendChild(target);\n",
       "  element[0].appendChild(style);\n",
       "\n",
       "  vega.render(\"#\" + id, spec, type, opt, output_area);\n",
       "}, function (err) {\n",
       "  if (err.requireType !== \"scripterror\") {\n",
       "    throw(err);\n",
       "  }\n",
       "});\n"
      ],
      "text/plain": [
       "<vega.vegalite.VegaLite at 0x124831f50>"
      ]
     },
     "metadata": {
      "jupyter-vega": "#3fac5988-561c-4248-aad9-4a94b563d640"
     },
     "output_type": "display_data"
    },
    {
     "data": {
      "text/plain": []
     },
     "execution_count": 8,
     "metadata": {},
     "output_type": "execute_result"
    },
    {
     "data": {
      "image/png": "[encoded data removed]"
     },
     "metadata": {
      "jupyter-vega": "#3fac5988-561c-4248-aad9-4a94b563d640"
     },
     "output_type": "display_data"
    }
   ],
   "source": [
    "alt.Chart(m_hist.melt(id_vars='m')).mark_line().encode(\n",
    "    x = 'm',\n",
    "    y = 'value',\n",
    "    color = 'variable'\n",
    ")"
   ]
  },
  {
   "cell_type": "markdown",
   "metadata": {},
   "source": [
    "## Evaluate the model"
   ]
  },
  {
   "cell_type": "code",
   "execution_count": 9,
   "metadata": {},
   "outputs": [],
   "source": [
    "ad = FasionMNISTAdapter({\"epochs\": 5, \"seed\": 1}, metrics=[\"accuracy\"])\n",
    "ad.fit(ds_train)"
   ]
  },
  {
   "cell_type": "code",
   "execution_count": 10,
   "metadata": {},
   "outputs": [
    {
     "data": {
      "application/javascript": [
       "var spec = {\"config\": {\"view\": {\"width\": 400, \"height\": 300}, \"mark\": {\"tooltip\": null}}, \"data\": {\"name\": \"data-1dad946b8a3db7b1bdbbdccbd5092541\"}, \"mark\": \"line\", \"encoding\": {\"x\": {\"type\": \"quantitative\", \"field\": \"epoch\"}, \"y\": {\"type\": \"quantitative\", \"field\": \"loss\"}}, \"$schema\": \"https://vega.github.io/schema/vega-lite/v3.3.0.json\", \"datasets\": {\"data-1dad946b8a3db7b1bdbbdccbd5092541\": [{\"index\": 0, \"epoch\": 0, \"loss\": 0.4840822557842498, \"accuracy\": 0.8308496475219727}, {\"index\": 1, \"epoch\": 1, \"loss\": 0.3455580629381845, \"accuracy\": 0.8745273351669312}, {\"index\": 2, \"epoch\": 2, \"loss\": 0.3017198857768469, \"accuracy\": 0.890625}, {\"index\": 3, \"epoch\": 3, \"loss\": 0.2676598143654468, \"accuracy\": 0.903719961643219}, {\"index\": 4, \"epoch\": 4, \"loss\": 0.23995135130619238, \"accuracy\": 0.911893904209137}]}};\n",
       "var opt = {};\n",
       "var type = \"vega-lite\";\n",
       "var id = \"cda8f566-3dea-475f-97d4-22bcaa468a75\";\n",
       "\n",
       "var output_area = this;\n",
       "\n",
       "require([\"nbextensions/jupyter-vega/index\"], function(vega) {\n",
       "  var target = document.createElement(\"div\");\n",
       "  target.id = id;\n",
       "  target.className = \"vega-embed\";\n",
       "\n",
       "  var style = document.createElement(\"style\");\n",
       "  style.textContent = [\n",
       "    \".vega-embed .error p {\",\n",
       "    \"  color: firebrick;\",\n",
       "    \"  font-size: 14px;\",\n",
       "    \"}\",\n",
       "  ].join(\"\\\\n\");\n",
       "\n",
       "  // element is a jQuery wrapped DOM element inside the output area\n",
       "  // see http://ipython.readthedocs.io/en/stable/api/generated/\\\n",
       "  // IPython.display.html#IPython.display.Javascript.__init__\n",
       "  element[0].appendChild(target);\n",
       "  element[0].appendChild(style);\n",
       "\n",
       "  vega.render(\"#\" + id, spec, type, opt, output_area);\n",
       "}, function (err) {\n",
       "  if (err.requireType !== \"scripterror\") {\n",
       "    throw(err);\n",
       "  }\n",
       "});\n"
      ],
      "text/plain": [
       "<vega.vegalite.VegaLite at 0x126c78bd0>"
      ]
     },
     "metadata": {
      "jupyter-vega": "#cda8f566-3dea-475f-97d4-22bcaa468a75"
     },
     "output_type": "display_data"
    },
    {
     "data": {
      "text/plain": []
     },
     "execution_count": 10,
     "metadata": {},
     "output_type": "execute_result"
    },
    {
     "data": {
      "image/png": "[encoded data removed]"
     },
     "metadata": {
      "jupyter-vega": "#cda8f566-3dea-475f-97d4-22bcaa468a75"
     },
     "output_type": "display_data"
    }
   ],
   "source": [
    "alt.Chart(ad.metrics_history().reset_index()).mark_line().encode(\n",
    "    x = 'epoch',\n",
    "    y = 'loss',\n",
    ")"
   ]
  },
  {
   "cell_type": "code",
   "execution_count": 11,
   "metadata": {},
   "outputs": [
    {
     "name": "stdout",
     "output_type": "stream",
     "text": [
      "Set error\n",
      "  training:      0.24\n",
      "  development:      0.41\n",
      "  testing:      0.40\n",
      "Accuracy\n",
      "  training: 0.91\n",
      "  development: 0.87\n",
      "  testing: 0.87\n"
     ]
    }
   ],
   "source": [
    "E_train = ad.metric(\"loss\")\n",
    "Acc_train = ad.metric(\"accuracy\")\n",
    "E_dev, Acc_dev = ad.evaluate(ds_dev)\n",
    "E_test, Acc_test = ad.evaluate(ds_test)\n",
    "\n",
    "print(\"Set error\\n  training: {:9.2f}\\n  development: {:9.2f}\\n  testing: {:9.2f}\"\n",
    "      .format(E_train, E_dev, E_test))\n",
    "\n",
    "print(\"Accuracy\\n  training: {:1.2f}\\n  development: {:1.2f}\\n  testing: {:1.2f}\"\n",
    "      .format(Acc_train, Acc_dev, Acc_test))"
   ]
  },
  {
   "cell_type": "markdown",
   "metadata": {},
   "source": [
    "## Tune hyperparameters"
   ]
  },
  {
   "cell_type": "code",
   "execution_count": 12,
   "metadata": {},
   "outputs": [],
   "source": [
    "ad = FasionMNISTAdapter({\"epochs\": 5, \"seed\": 1})\n",
    "_, lambda_hist = ad.tune_hyperparameters(\n",
    "    mlts.tf.LambdaRangeGenerator(start=0.00001, stop=0.1),\n",
    "    mlts.io.slice(ds_train, 0, 1024),\n",
    "    ds_dev,\n",
    ")"
   ]
  },
  {
   "cell_type": "code",
   "execution_count": 13,
   "metadata": {},
   "outputs": [
    {
     "data": {
      "text/plain": [
       "0.018447926383173302"
      ]
     },
     "execution_count": 13,
     "metadata": {},
     "output_type": "execute_result"
    }
   ],
   "source": [
    "ad.hparams[\"lambda\"]"
   ]
  },
  {
   "cell_type": "code",
   "execution_count": 14,
   "metadata": {},
   "outputs": [
    {
     "data": {
      "application/javascript": [
       "var spec = {\"config\": {\"view\": {\"width\": 400, \"height\": 300}, \"mark\": {\"tooltip\": null}}, \"data\": {\"name\": \"data-320742e35fbcffa34480459d10711b8e\"}, \"mark\": \"line\", \"encoding\": {\"color\": {\"type\": \"nominal\", \"field\": \"variable\"}, \"x\": {\"type\": \"quantitative\", \"field\": \"lambda\"}, \"y\": {\"type\": \"quantitative\", \"field\": \"value\"}}, \"$schema\": \"https://vega.github.io/schema/vega-lite/v3.3.0.json\", \"datasets\": {\"data-320742e35fbcffa34480459d10711b8e\": [{\"lambda\": 1e-05, \"variable\": \"E_train\", \"value\": 0.172440817701485}, {\"lambda\": 0.05000500000000001, \"variable\": \"E_train\", \"value\": 0.45790430248723624}, {\"lambda\": 0.1, \"variable\": \"E_train\", \"value\": 0.6530621700237589}, {\"lambda\": 0.016675000000000002, \"variable\": \"E_train\", \"value\": 0.271194843590862}, {\"lambda\": 0.050005000000000015, \"variable\": \"E_train\", \"value\": 0.45790430248723624}, {\"lambda\": 0.08333500000000002, \"variable\": \"E_train\", \"value\": 0.5918077758942673}, {\"lambda\": 0.016675000000000002, \"variable\": \"E_train\", \"value\": 0.271194843590862}, {\"lambda\": 0.027785000000000008, \"variable\": \"E_train\", \"value\": 0.3408987013224021}, {\"lambda\": 0.03889500000000001, \"variable\": \"E_train\", \"value\": 0.4014381212800515}, {\"lambda\": 0.016675000000000002, \"variable\": \"E_train\", \"value\": 0.271194843590862}, {\"lambda\": 0.02037833333333334, \"variable\": \"E_train\", \"value\": 0.29569438077275834}, {\"lambda\": 0.02408166666666667, \"variable\": \"E_train\", \"value\": 0.3215807371372428}, {\"lambda\": 0.01790944444444445, \"variable\": \"E_train\", \"value\": 0.2786628279720773}, {\"lambda\": 0.02037833333333334, \"variable\": \"E_train\", \"value\": 0.29569438077275834}, {\"lambda\": 0.022847222222222227, \"variable\": \"E_train\", \"value\": 0.312152617942715}, {\"lambda\": 0.01790944444444445, \"variable\": \"E_train\", \"value\": 0.2786628279720773}, {\"lambda\": 0.018732407407407413, \"variable\": \"E_train\", \"value\": 0.284624001238992}, {\"lambda\": 0.019555370370370376, \"variable\": \"E_train\", \"value\": 0.29051811069330213}, {\"lambda\": 0.01790944444444445, \"variable\": \"E_train\", \"value\": 0.2786628279720773}, {\"lambda\": 0.01818376543209877, \"variable\": \"E_train\", \"value\": 0.28075413589513243}, {\"lambda\": 0.018458086419753092, \"variable\": \"E_train\", \"value\": 0.2818128457947928}, {\"lambda\": 0.018275205761316877, \"variable\": \"E_train\", \"value\": 0.2820234938340569}, {\"lambda\": 0.018366646090534983, \"variable\": \"E_train\", \"value\": 0.28135069579817795}, {\"lambda\": 0.018458086419753092, \"variable\": \"E_train\", \"value\": 0.2818128457947928}, {\"lambda\": 0.018397126200274352, \"variable\": \"E_train\", \"value\": 0.283400171390209}, {\"lambda\": 0.018427606310013722, \"variable\": \"E_train\", \"value\": 0.28323974147595266}, {\"lambda\": 0.018458086419753092, \"variable\": \"E_train\", \"value\": 0.2818128457947928}, {\"lambda\": 0.018437766346593512, \"variable\": \"E_train\", \"value\": 0.2810373807204014}, {\"lambda\": 0.018447926383173302, \"variable\": \"E_train\", \"value\": 0.28088115340564457}, {\"lambda\": 0.018458086419753092, \"variable\": \"E_train\", \"value\": 0.2818128457947928}, {\"lambda\": 1e-05, \"variable\": \"E_dev\", \"value\": 0.6464520813355802}, {\"lambda\": 0.05000500000000001, \"variable\": \"E_dev\", \"value\": 0.6448283802870005}, {\"lambda\": 0.1, \"variable\": \"E_dev\", \"value\": 0.7553362657193773}, {\"lambda\": 0.016675000000000002, \"variable\": \"E_dev\", \"value\": 0.5992311553714975}, {\"lambda\": 0.050005000000000015, \"variable\": \"E_dev\", \"value\": 0.6448283802870005}, {\"lambda\": 0.08333500000000002, \"variable\": \"E_dev\", \"value\": 0.714273391514005}, {\"lambda\": 0.016675000000000002, \"variable\": \"E_dev\", \"value\": 0.5992311553714975}, {\"lambda\": 0.027785000000000008, \"variable\": \"E_dev\", \"value\": 0.6069714991791404}, {\"lambda\": 0.03889500000000001, \"variable\": \"E_dev\", \"value\": 0.6226960417199549}, {\"lambda\": 0.016675000000000002, \"variable\": \"E_dev\", \"value\": 0.5992311553714975}, {\"lambda\": 0.02037833333333334, \"variable\": \"E_dev\", \"value\": 0.5985957532269132}, {\"lambda\": 0.02408166666666667, \"variable\": \"E_dev\", \"value\": 0.6060803856602802}, {\"lambda\": 0.01790944444444445, \"variable\": \"E_dev\", \"value\": 0.5964895469152917}, {\"lambda\": 0.02037833333333334, \"variable\": \"E_dev\", \"value\": 0.5985957532269132}, {\"lambda\": 0.022847222222222227, \"variable\": \"E_dev\", \"value\": 0.6031342431784589}, {\"lambda\": 0.01790944444444445, \"variable\": \"E_dev\", \"value\": 0.5964895469152917}, {\"lambda\": 0.018732407407407413, \"variable\": \"E_dev\", \"value\": 0.5992258963765356}, {\"lambda\": 0.019555370370370376, \"variable\": \"E_dev\", \"value\": 0.5996947714009304}, {\"lambda\": 0.01790944444444445, \"variable\": \"E_dev\", \"value\": 0.5964895469152917}, {\"lambda\": 0.01818376543209877, \"variable\": \"E_dev\", \"value\": 0.597874782719742}, {\"lambda\": 0.018458086419753092, \"variable\": \"E_dev\", \"value\": 0.5961544003072982}, {\"lambda\": 0.018275205761316877, \"variable\": \"E_dev\", \"value\": 0.59774305109301}, {\"lambda\": 0.018366646090534983, \"variable\": \"E_dev\", \"value\": 0.5964617940749841}, {\"lambda\": 0.018458086419753092, \"variable\": \"E_dev\", \"value\": 0.5961544003072982}, {\"lambda\": 0.018397126200274352, \"variable\": \"E_dev\", \"value\": 0.5987036985217018}, {\"lambda\": 0.018427606310013722, \"variable\": \"E_dev\", \"value\": 0.5985259998731313}, {\"lambda\": 0.018458086419753092, \"variable\": \"E_dev\", \"value\": 0.5961544003072982}, {\"lambda\": 0.018437766346593512, \"variable\": \"E_dev\", \"value\": 0.5950898311771151}, {\"lambda\": 0.018447926383173302, \"variable\": \"E_dev\", \"value\": 0.5947808598565971}, {\"lambda\": 0.018458086419753092, \"variable\": \"E_dev\", \"value\": 0.5961544003072982}]}};\n",
       "var opt = {};\n",
       "var type = \"vega-lite\";\n",
       "var id = \"3dd9c2a9-0270-4da4-bae2-ed3ff9ed39e6\";\n",
       "\n",
       "var output_area = this;\n",
       "\n",
       "require([\"nbextensions/jupyter-vega/index\"], function(vega) {\n",
       "  var target = document.createElement(\"div\");\n",
       "  target.id = id;\n",
       "  target.className = \"vega-embed\";\n",
       "\n",
       "  var style = document.createElement(\"style\");\n",
       "  style.textContent = [\n",
       "    \".vega-embed .error p {\",\n",
       "    \"  color: firebrick;\",\n",
       "    \"  font-size: 14px;\",\n",
       "    \"}\",\n",
       "  ].join(\"\\\\n\");\n",
       "\n",
       "  // element is a jQuery wrapped DOM element inside the output area\n",
       "  // see http://ipython.readthedocs.io/en/stable/api/generated/\\\n",
       "  // IPython.display.html#IPython.display.Javascript.__init__\n",
       "  element[0].appendChild(target);\n",
       "  element[0].appendChild(style);\n",
       "\n",
       "  vega.render(\"#\" + id, spec, type, opt, output_area);\n",
       "}, function (err) {\n",
       "  if (err.requireType !== \"scripterror\") {\n",
       "    throw(err);\n",
       "  }\n",
       "});\n"
      ],
      "text/plain": [
       "<vega.vegalite.VegaLite at 0x153397d90>"
      ]
     },
     "metadata": {
      "jupyter-vega": "#3dd9c2a9-0270-4da4-bae2-ed3ff9ed39e6"
     },
     "output_type": "display_data"
    },
    {
     "data": {
      "text/plain": []
     },
     "execution_count": 14,
     "metadata": {},
     "output_type": "execute_result"
    },
    {
     "data": {
      "image/png": "[encoded data removed]"
     },
     "metadata": {
      "jupyter-vega": "#3dd9c2a9-0270-4da4-bae2-ed3ff9ed39e6"
     },
     "output_type": "display_data"
    }
   ],
   "source": [
    "alt.Chart(lambda_hist.melt(id_vars='lambda')).mark_line().encode(\n",
    "    x = 'lambda',\n",
    "    y = 'value',\n",
    "    color = 'variable'\n",
    ")"
   ]
  },
  {
   "cell_type": "markdown",
   "metadata": {},
   "source": [
    "## Estimate the generalized error"
   ]
  },
  {
   "cell_type": "code",
   "execution_count": 15,
   "metadata": {},
   "outputs": [],
   "source": [
    "ad = FasionMNISTAdapter({\"epochs\": 10, \"seed\": 1}, hparams=ad.hparams, metrics=[\"accuracy\"])"
   ]
  },
  {
   "cell_type": "code",
   "execution_count": 16,
   "metadata": {},
   "outputs": [],
   "source": [
    "m_hist = ad.analyze_dataset(ds_train, ds_dev)"
   ]
  },
  {
   "cell_type": "code",
   "execution_count": 17,
   "metadata": {},
   "outputs": [
    {
     "data": {
      "application/javascript": [
       "var spec = {\"config\": {\"view\": {\"width\": 400, \"height\": 300}, \"mark\": {\"tooltip\": null}}, \"data\": {\"name\": \"data-911e846ce39fc8ca9f22d107da86775b\"}, \"mark\": \"line\", \"encoding\": {\"color\": {\"type\": \"nominal\", \"field\": \"variable\"}, \"x\": {\"type\": \"quantitative\", \"field\": \"m\"}, \"y\": {\"type\": \"quantitative\", \"field\": \"value\"}}, \"$schema\": \"https://vega.github.io/schema/vega-lite/v3.3.0.json\", \"datasets\": {\"data-911e846ce39fc8ca9f22d107da86775b\": [{\"m\": 1, \"variable\": \"E_train\", \"value\": 9.64088826549414e-07}, {\"m\": 3997, \"variable\": \"E_train\", \"value\": 0.40289612475236336}, {\"m\": 7993, \"variable\": \"E_train\", \"value\": 0.4467422775933064}, {\"m\": 11990, \"variable\": \"E_train\", \"value\": 0.4774873895215176}, {\"m\": 15986, \"variable\": \"E_train\", \"value\": 0.49487656591705365}, {\"m\": 19982, \"variable\": \"E_train\", \"value\": 0.4911613727306183}, {\"m\": 23979, \"variable\": \"E_train\", \"value\": 0.4933416312021585}, {\"m\": 27975, \"variable\": \"E_train\", \"value\": 0.4906716299700761}, {\"m\": 31971, \"variable\": \"E_train\", \"value\": 0.4834714898358549}, {\"m\": 35968, \"variable\": \"E_train\", \"value\": 0.4928158983568526}, {\"m\": 1, \"variable\": \"E_dev\", \"value\": 2.8043727537037197}, {\"m\": 3997, \"variable\": \"E_dev\", \"value\": 0.5217105407718127}, {\"m\": 7993, \"variable\": \"E_dev\", \"value\": 0.5045325718310186}, {\"m\": 11990, \"variable\": \"E_dev\", \"value\": 0.5209156367233188}, {\"m\": 15986, \"variable\": \"E_dev\", \"value\": 0.5360780458385662}, {\"m\": 19982, \"variable\": \"E_dev\", \"value\": 0.5193810900511023}, {\"m\": 23979, \"variable\": \"E_dev\", \"value\": 0.5101611474175428}, {\"m\": 27975, \"variable\": \"E_dev\", \"value\": 0.5124873637984309}, {\"m\": 31971, \"variable\": \"E_dev\", \"value\": 0.5021634264606937}, {\"m\": 35968, \"variable\": \"E_dev\", \"value\": 0.5087774228456898}]}};\n",
       "var opt = {};\n",
       "var type = \"vega-lite\";\n",
       "var id = \"9490492b-e95f-4ac3-8399-5b37c81509c8\";\n",
       "\n",
       "var output_area = this;\n",
       "\n",
       "require([\"nbextensions/jupyter-vega/index\"], function(vega) {\n",
       "  var target = document.createElement(\"div\");\n",
       "  target.id = id;\n",
       "  target.className = \"vega-embed\";\n",
       "\n",
       "  var style = document.createElement(\"style\");\n",
       "  style.textContent = [\n",
       "    \".vega-embed .error p {\",\n",
       "    \"  color: firebrick;\",\n",
       "    \"  font-size: 14px;\",\n",
       "    \"}\",\n",
       "  ].join(\"\\\\n\");\n",
       "\n",
       "  // element is a jQuery wrapped DOM element inside the output area\n",
       "  // see http://ipython.readthedocs.io/en/stable/api/generated/\\\n",
       "  // IPython.display.html#IPython.display.Javascript.__init__\n",
       "  element[0].appendChild(target);\n",
       "  element[0].appendChild(style);\n",
       "\n",
       "  vega.render(\"#\" + id, spec, type, opt, output_area);\n",
       "}, function (err) {\n",
       "  if (err.requireType !== \"scripterror\") {\n",
       "    throw(err);\n",
       "  }\n",
       "});\n"
      ],
      "text/plain": [
       "<vega.vegalite.VegaLite at 0x156f6b5d0>"
      ]
     },
     "metadata": {
      "jupyter-vega": "#9490492b-e95f-4ac3-8399-5b37c81509c8"
     },
     "output_type": "display_data"
    },
    {
     "data": {
      "text/plain": []
     },
     "execution_count": 17,
     "metadata": {},
     "output_type": "execute_result"
    },
    {
     "data": {
      "image/png": "[encoded data removed]"
     },
     "metadata": {
      "jupyter-vega": "#9490492b-e95f-4ac3-8399-5b37c81509c8"
     },
     "output_type": "display_data"
    }
   ],
   "source": [
    "alt.Chart(m_hist.melt(id_vars='m')).mark_line().encode(\n",
    "    x = 'm',\n",
    "    y = 'value',\n",
    "    color = 'variable'\n",
    ")"
   ]
  },
  {
   "cell_type": "code",
   "execution_count": 18,
   "metadata": {},
   "outputs": [],
   "source": [
    "ad.fit(ds_train)"
   ]
  },
  {
   "cell_type": "code",
   "execution_count": 19,
   "metadata": {},
   "outputs": [
    {
     "data": {
      "application/javascript": [
       "var spec = {\"config\": {\"view\": {\"width\": 400, \"height\": 300}, \"mark\": {\"tooltip\": null}}, \"data\": {\"name\": \"data-75fc9c813cc64e63f14cf4f18fb2c2b0\"}, \"mark\": \"line\", \"encoding\": {\"x\": {\"type\": \"quantitative\", \"field\": \"epoch\"}, \"y\": {\"type\": \"quantitative\", \"field\": \"loss\"}}, \"$schema\": \"https://vega.github.io/schema/vega-lite/v3.3.0.json\", \"datasets\": {\"data-75fc9c813cc64e63f14cf4f18fb2c2b0\": [{\"index\": 0, \"epoch\": 0, \"loss\": 1.256507688463795, \"accuracy\": 0.8099421858787537}, {\"index\": 1, \"epoch\": 1, \"loss\": 0.7564120068881011, \"accuracy\": 0.8151690363883972}, {\"index\": 2, \"epoch\": 2, \"loss\": 0.7468776227740631, \"accuracy\": 0.8164201378822327}, {\"index\": 3, \"epoch\": 3, \"loss\": 0.7363547372277097, \"accuracy\": 0.818143904209137}, {\"index\": 4, \"epoch\": 4, \"loss\": 0.7272558301899357, \"accuracy\": 0.8213412165641785}, {\"index\": 5, \"epoch\": 5, \"loss\": 0.7202713097382695, \"accuracy\": 0.8226479291915894}, {\"index\": 6, \"epoch\": 6, \"loss\": 0.7148682908337312, \"accuracy\": 0.8242326378822327}, {\"index\": 7, \"epoch\": 7, \"loss\": 0.7107005357424135, \"accuracy\": 0.8249276876449585}, {\"index\": 8, \"epoch\": 8, \"loss\": 0.7078050386651131, \"accuracy\": 0.8263178467750549}, {\"index\": 9, \"epoch\": 9, \"loss\": 0.7055930770217737, \"accuracy\": 0.8270128965377808}]}};\n",
       "var opt = {};\n",
       "var type = \"vega-lite\";\n",
       "var id = \"90e775b2-5201-453a-bc41-3339593346d9\";\n",
       "\n",
       "var output_area = this;\n",
       "\n",
       "require([\"nbextensions/jupyter-vega/index\"], function(vega) {\n",
       "  var target = document.createElement(\"div\");\n",
       "  target.id = id;\n",
       "  target.className = \"vega-embed\";\n",
       "\n",
       "  var style = document.createElement(\"style\");\n",
       "  style.textContent = [\n",
       "    \".vega-embed .error p {\",\n",
       "    \"  color: firebrick;\",\n",
       "    \"  font-size: 14px;\",\n",
       "    \"}\",\n",
       "  ].join(\"\\\\n\");\n",
       "\n",
       "  // element is a jQuery wrapped DOM element inside the output area\n",
       "  // see http://ipython.readthedocs.io/en/stable/api/generated/\\\n",
       "  // IPython.display.html#IPython.display.Javascript.__init__\n",
       "  element[0].appendChild(target);\n",
       "  element[0].appendChild(style);\n",
       "\n",
       "  vega.render(\"#\" + id, spec, type, opt, output_area);\n",
       "}, function (err) {\n",
       "  if (err.requireType !== \"scripterror\") {\n",
       "    throw(err);\n",
       "  }\n",
       "});\n"
      ],
      "text/plain": [
       "<vega.vegalite.VegaLite at 0x15c9270d0>"
      ]
     },
     "metadata": {
      "jupyter-vega": "#90e775b2-5201-453a-bc41-3339593346d9"
     },
     "output_type": "display_data"
    },
    {
     "data": {
      "text/plain": []
     },
     "execution_count": 19,
     "metadata": {},
     "output_type": "execute_result"
    },
    {
     "data": {
      "image/png": "[encoded data removed]"
     },
     "metadata": {
      "jupyter-vega": "#90e775b2-5201-453a-bc41-3339593346d9"
     },
     "output_type": "display_data"
    }
   ],
   "source": [
    "alt.Chart(ad.metrics_history().reset_index()).mark_line().encode(\n",
    "    x = 'epoch',\n",
    "    y = 'loss',\n",
    ")"
   ]
  },
  {
   "cell_type": "code",
   "execution_count": 20,
   "metadata": {},
   "outputs": [
    {
     "name": "stdout",
     "output_type": "stream",
     "text": [
      "Set error\n",
      "  training:      0.71\n",
      "  development:      0.71\n",
      "  testing:      0.72\n",
      "Accuracy\n",
      "  training: 0.83\n",
      "  development: 0.81\n",
      "  testing: 0.81\n"
     ]
    }
   ],
   "source": [
    "E_train = ad.metric(\"loss\")\n",
    "Acc_train = ad.metric(\"accuracy\")\n",
    "E_dev, Acc_dev = ad.evaluate(ds_dev)\n",
    "E_test, Acc_test = ad.evaluate(ds_test)\n",
    "\n",
    "print(\"Set error\\n  training: {:9.2f}\\n  development: {:9.2f}\\n  testing: {:9.2f}\"\n",
    "      .format(E_train, E_dev, E_test))\n",
    "\n",
    "print(\"Accuracy\\n  training: {:1.2f}\\n  development: {:1.2f}\\n  testing: {:1.2f}\"\n",
    "      .format(Acc_train, Acc_dev, Acc_test))"
   ]
  },
  {
   "cell_type": "code",
   "execution_count": null,
   "metadata": {},
   "outputs": [],
   "source": []
  }
 ],
 "metadata": {
  "kernelspec": {
   "display_name": "Python 3",
   "language": "python",
   "name": "python3"
  },
  "language_info": {
   "codemirror_mode": {
    "name": "ipython",
    "version": 3
   },
   "file_extension": ".py",
   "mimetype": "text/x-python",
   "name": "python",
   "nbconvert_exporter": "python",
   "pygments_lexer": "ipython3",
   "version": "3.7.4"
  }
 },
 "nbformat": 4,
 "nbformat_minor": 2
}
