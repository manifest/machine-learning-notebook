{
 "cells": [
  {
   "cell_type": "code",
   "execution_count": 1,
   "metadata": {},
   "outputs": [],
   "source": [
    "%%capture\n",
    "\n",
    "import pandas as pd\n",
    "import numpy as np\n",
    "import tensorflow as tf\n",
    "import mlts\n",
    "\n",
    "import altair as alt\n",
    "alt.renderers.enable('notebook')"
   ]
  },
  {
   "cell_type": "markdown",
   "metadata": {},
   "source": [
    "## Load data"
   ]
  },
  {
   "cell_type": "code",
   "execution_count": 2,
   "metadata": {},
   "outputs": [],
   "source": [
    "data = mlts.io.merge([\n",
    "    pd.read_csv('../data/fashion-mnist/fashion-mnist_train.csv'),\n",
    "    pd.read_csv('../data/fashion-mnist/fashion-mnist_train.csv'),\n",
    "])"
   ]
  },
  {
   "cell_type": "code",
   "execution_count": 3,
   "metadata": {},
   "outputs": [],
   "source": [
    "mlts.io.check(data)"
   ]
  },
  {
   "cell_type": "code",
   "execution_count": 4,
   "metadata": {},
   "outputs": [],
   "source": [
    "K = len(data.iloc[:, 0].value_counts())\n",
    "dss, mu, sigma = mlts.io.normalize(mlts.io.split(data, ycol=0, shape=(42048), seed=1))\n",
    "ds_train, ds_dev, ds_test = mlts.tf.to_dataset(dss, batch_size=32)"
   ]
  },
  {
   "cell_type": "markdown",
   "metadata": {},
   "source": [
    "## Implement the model"
   ]
  },
  {
   "cell_type": "code",
   "execution_count": 5,
   "metadata": {},
   "outputs": [],
   "source": [
    "class FasionMNISTAdapter(mlts.tf.adapter.Model):\n",
    "    def __init__(self, *args, **kwargs):\n",
    "        super(FasionMNISTAdapter, self).__init__(*args, **kwargs)\n",
    "\n",
    "    @staticmethod\n",
    "    def model(options, hparams = {}):\n",
    "        regularization = None\n",
    "        if \"lambda\" in hparams:\n",
    "            regularization = tf.keras.regularizers.l2(l=hparams[\"lambda\"])\n",
    "\n",
    "        return tf.keras.models.Sequential([\n",
    "            ## The reason of using 'InputLayer' is only to\n",
    "            ## show up a shape of each layer in `model.summary()`.\n",
    "            tf.keras.layers.InputLayer(input_shape=(784)),\n",
    "            tf.keras.layers.Dense(\n",
    "                16,\n",
    "                activation=tf.nn.relu,\n",
    "                kernel_initializer=tf.keras.initializers.he_uniform(options.seed),\n",
    "                kernel_regularizer=regularization,\n",
    "            ),\n",
    "            tf.keras.layers.Dense(\n",
    "                16,\n",
    "                activation=tf.nn.relu,\n",
    "                kernel_initializer=tf.keras.initializers.he_uniform(options.seed),\n",
    "                kernel_regularizer=regularization,\n",
    "            ),\n",
    "            tf.keras.layers.Dense(\n",
    "                K,\n",
    "                activation=tf.nn.softmax,\n",
    "                kernel_initializer=tf.keras.initializers.he_uniform(options.seed),\n",
    "                kernel_regularizer=regularization,\n",
    "            )\n",
    "        ])\n",
    "    \n",
    "    @staticmethod\n",
    "    def loss(options):\n",
    "        return tf.keras.losses.SparseCategoricalCrossentropy()\n",
    "    \n",
    "    @staticmethod\n",
    "    def optimization(options, hparams, m, ds, metrics = [], callbacks=[]):\n",
    "        m.compile(\n",
    "            optimizer=tf.keras.optimizers.Adam(\n",
    "                learning_rate=hparams.get(\"alpha\", 0.001),\n",
    "                beta_1=hparams.get(\"beta_1\", 0.9),\n",
    "                beta_2=hparams.get(\"beta_2\", 0.999),\n",
    "            ),\n",
    "            loss=FasionMNISTAdapter.loss(options),\n",
    "            metrics=metrics,\n",
    "        )\n",
    "\n",
    "        if options.seed != None: tf.random.set_seed(options.seed)\n",
    "        m.fit(\n",
    "            ds,\n",
    "            epochs=options.epochs,\n",
    "            shuffle=False,\n",
    "            callbacks=callbacks,\n",
    "            verbose=options.verbose,\n",
    "        )\n",
    "        \n",
    "        return m"
   ]
  },
  {
   "cell_type": "code",
   "execution_count": 6,
   "metadata": {},
   "outputs": [
    {
     "name": "stdout",
     "output_type": "stream",
     "text": [
      "Model: \"sequential\"\n",
      "_________________________________________________________________\n",
      "Layer (type)                 Output Shape              Param #   \n",
      "=================================================================\n",
      "dense (Dense)                (None, 16)                12560     \n",
      "_________________________________________________________________\n",
      "dense_1 (Dense)              (None, 16)                272       \n",
      "_________________________________________________________________\n",
      "dense_2 (Dense)              (None, 10)                170       \n",
      "=================================================================\n",
      "Total params: 13,002\n",
      "Trainable params: 13,002\n",
      "Non-trainable params: 0\n",
      "_________________________________________________________________\n"
     ]
    }
   ],
   "source": [
    "FasionMNISTAdapter.model(mlts.tf.adapter.Options(seed=1)).summary()"
   ]
  },
  {
   "cell_type": "markdown",
   "metadata": {},
   "source": [
    "## Analyze the dataset"
   ]
  },
  {
   "cell_type": "code",
   "execution_count": 7,
   "metadata": {},
   "outputs": [
    {
     "name": "stderr",
     "output_type": "stream",
     "text": [
      "WARNING: Logging before flag parsing goes to stderr.\n",
      "W0810 18:11:19.050493 4743009728 deprecation.py:323] From /Users/manifest/projects/github/machine-learning-notebook/venv/lib/python3.7/site-packages/tensorflow/python/ops/math_grad.py:1250: add_dispatch_support.<locals>.wrapper (from tensorflow.python.ops.array_ops) is deprecated and will be removed in a future version.\n",
      "Instructions for updating:\n",
      "Use tf.where in 2.0, which has the same broadcast rule as np.where\n"
     ]
    },
    {
     "data": {
      "application/javascript": [
       "var spec = {\"config\": {\"view\": {\"width\": 400, \"height\": 300}, \"mark\": {\"tooltip\": null}}, \"data\": {\"name\": \"data-294ccb0baf1f45760b7a65e3bfa4c282\"}, \"mark\": \"line\", \"encoding\": {\"color\": {\"type\": \"nominal\", \"field\": \"variable\"}, \"x\": {\"type\": \"quantitative\", \"field\": \"m_batch\"}, \"y\": {\"type\": \"quantitative\", \"field\": \"value\"}}, \"$schema\": \"https://vega.github.io/schema/vega-lite/v3.4.0.json\", \"datasets\": {\"data-294ccb0baf1f45760b7a65e3bfa4c282\": [{\"m_batch\": 1, \"variable\": \"E_train\", \"value\": 1.580649971961975}, {\"m_batch\": 132, \"variable\": \"E_train\", \"value\": 0.33358023547087656}, {\"m_batch\": 263, \"variable\": \"E_train\", \"value\": 0.3102946561892223}, {\"m_batch\": 394, \"variable\": \"E_train\", \"value\": 0.327451086683473}, {\"m_batch\": 525, \"variable\": \"E_train\", \"value\": 0.3226314099487804}, {\"m_batch\": 656, \"variable\": \"E_train\", \"value\": 0.3183980105194922}, {\"m_batch\": 787, \"variable\": \"E_train\", \"value\": 0.33413989320302706}, {\"m_batch\": 918, \"variable\": \"E_train\", \"value\": 0.3199964796146276}, {\"m_batch\": 1049, \"variable\": \"E_train\", \"value\": 0.32620178341325745}, {\"m_batch\": 1180, \"variable\": \"E_train\", \"value\": 0.34750002537996083}, {\"m_batch\": 1, \"variable\": \"E_dev\", \"value\": 2.4214027570494525}, {\"m_batch\": 132, \"variable\": \"E_dev\", \"value\": 0.5563904900394433}, {\"m_batch\": 263, \"variable\": \"E_dev\", \"value\": 0.48672063120290743}, {\"m_batch\": 394, \"variable\": \"E_dev\", \"value\": 0.4741597072822405}, {\"m_batch\": 525, \"variable\": \"E_dev\", \"value\": 0.4585189086959717}, {\"m_batch\": 656, \"variable\": \"E_dev\", \"value\": 0.44582142799775654}, {\"m_batch\": 787, \"variable\": \"E_dev\", \"value\": 0.4544109588766352}, {\"m_batch\": 918, \"variable\": \"E_dev\", \"value\": 0.4246274455060773}, {\"m_batch\": 1049, \"variable\": \"E_dev\", \"value\": 0.42096813020448315}, {\"m_batch\": 1180, \"variable\": \"E_dev\", \"value\": 0.4338914737607359}]}};\n",
       "var opt = {};\n",
       "var type = \"vega-lite\";\n",
       "var id = \"e9242a24-0396-4c46-84af-22ee205b88ed\";\n",
       "\n",
       "var output_area = this;\n",
       "\n",
       "require([\"nbextensions/jupyter-vega/index\"], function(vega) {\n",
       "  var target = document.createElement(\"div\");\n",
       "  target.id = id;\n",
       "  target.className = \"vega-embed\";\n",
       "\n",
       "  var style = document.createElement(\"style\");\n",
       "  style.textContent = [\n",
       "    \".vega-embed .error p {\",\n",
       "    \"  color: firebrick;\",\n",
       "    \"  font-size: 14px;\",\n",
       "    \"}\",\n",
       "  ].join(\"\\\\n\");\n",
       "\n",
       "  // element is a jQuery wrapped DOM element inside the output area\n",
       "  // see http://ipython.readthedocs.io/en/stable/api/generated/\\\n",
       "  // IPython.display.html#IPython.display.Javascript.__init__\n",
       "  element[0].appendChild(target);\n",
       "  element[0].appendChild(style);\n",
       "\n",
       "  vega.render(\"#\" + id, spec, type, opt, output_area);\n",
       "}, function (err) {\n",
       "  if (err.requireType !== \"scripterror\") {\n",
       "    throw(err);\n",
       "  }\n",
       "});\n"
      ],
      "text/plain": [
       "<vega.vegalite.VegaLite at 0x14a4d0f10>"
      ]
     },
     "metadata": {
      "jupyter-vega": "#e9242a24-0396-4c46-84af-22ee205b88ed"
     },
     "output_type": "display_data"
    },
    {
     "data": {
      "text/plain": []
     },
     "execution_count": 7,
     "metadata": {},
     "output_type": "execute_result"
    },
    {
     "data": {
      "image/png": "[encoded data removed]"
     },
     "metadata": {
      "jupyter-vega": "#e9242a24-0396-4c46-84af-22ee205b88ed"
     },
     "output_type": "display_data"
    }
   ],
   "source": [
    "m_hist = FasionMNISTAdapter.analyze_dataset(mlts.tf.adapter.Options(epochs=5, seed=1), {}, ds_train, ds_dev)\n",
    "alt.Chart(m_hist.melt(id_vars=\"m_batch\")).mark_line().encode(\n",
    "    x = \"m_batch\",\n",
    "    y = \"value\",\n",
    "    color = \"variable\"\n",
    ")"
   ]
  },
  {
   "cell_type": "markdown",
   "metadata": {},
   "source": [
    "## Evaluate the model"
   ]
  },
  {
   "cell_type": "code",
   "execution_count": 8,
   "metadata": {},
   "outputs": [
    {
     "data": {
      "application/javascript": [
       "var spec = {\"config\": {\"view\": {\"width\": 400, \"height\": 300}, \"mark\": {\"tooltip\": null}}, \"data\": {\"name\": \"data-485f61de534fc670483419bb7f9c9d7d\"}, \"mark\": \"line\", \"encoding\": {\"x\": {\"type\": \"quantitative\", \"field\": \"epoch\"}, \"y\": {\"type\": \"quantitative\", \"field\": \"loss\"}}, \"$schema\": \"https://vega.github.io/schema/vega-lite/v3.4.0.json\", \"datasets\": {\"data-485f61de534fc670483419bb7f9c9d7d\": [{\"index\": 0, \"epoch\": 0, \"loss\": 0.5739276378587047, \"accuracy\": 0.800561249256134}, {\"index\": 1, \"epoch\": 1, \"loss\": 0.4013903765589044, \"accuracy\": 0.8551655411720276}, {\"index\": 2, \"epoch\": 2, \"loss\": 0.367965258425456, \"accuracy\": 0.8672945499420166}, {\"index\": 3, \"epoch\": 3, \"loss\": 0.3486441827493988, \"accuracy\": 0.8740724921226501}, {\"index\": 4, \"epoch\": 4, \"loss\": 0.33330683588777504, \"accuracy\": 0.8793997168540955}]}};\n",
       "var opt = {};\n",
       "var type = \"vega-lite\";\n",
       "var id = \"73d34825-ae8d-4865-8cb3-1ca7e2732c5d\";\n",
       "\n",
       "var output_area = this;\n",
       "\n",
       "require([\"nbextensions/jupyter-vega/index\"], function(vega) {\n",
       "  var target = document.createElement(\"div\");\n",
       "  target.id = id;\n",
       "  target.className = \"vega-embed\";\n",
       "\n",
       "  var style = document.createElement(\"style\");\n",
       "  style.textContent = [\n",
       "    \".vega-embed .error p {\",\n",
       "    \"  color: firebrick;\",\n",
       "    \"  font-size: 14px;\",\n",
       "    \"}\",\n",
       "  ].join(\"\\\\n\");\n",
       "\n",
       "  // element is a jQuery wrapped DOM element inside the output area\n",
       "  // see http://ipython.readthedocs.io/en/stable/api/generated/\\\n",
       "  // IPython.display.html#IPython.display.Javascript.__init__\n",
       "  element[0].appendChild(target);\n",
       "  element[0].appendChild(style);\n",
       "\n",
       "  vega.render(\"#\" + id, spec, type, opt, output_area);\n",
       "}, function (err) {\n",
       "  if (err.requireType !== \"scripterror\") {\n",
       "    throw(err);\n",
       "  }\n",
       "});\n"
      ],
      "text/plain": [
       "<vega.vegalite.VegaLite at 0x14a951110>"
      ]
     },
     "metadata": {
      "jupyter-vega": "#73d34825-ae8d-4865-8cb3-1ca7e2732c5d"
     },
     "output_type": "display_data"
    },
    {
     "data": {
      "text/plain": []
     },
     "execution_count": 8,
     "metadata": {},
     "output_type": "execute_result"
    },
    {
     "data": {
      "image/png": "[encoded data removed]"
     },
     "metadata": {
      "jupyter-vega": "#73d34825-ae8d-4865-8cb3-1ca7e2732c5d"
     },
     "output_type": "display_data"
    }
   ],
   "source": [
    "ad = FasionMNISTAdapter(mlts.tf.adapter.Options(epochs=5, seed=1))\n",
    "ad.fit(ds_train, metrics=[\"accuracy\"])\n",
    "alt.Chart(ad.metrics_history().reset_index()).mark_line().encode(\n",
    "    x = \"epoch\",\n",
    "    y = \"loss\",\n",
    ")"
   ]
  },
  {
   "cell_type": "code",
   "execution_count": 9,
   "metadata": {},
   "outputs": [
    {
     "data": {
      "text/html": [
       "<div>\n",
       "<style scoped>\n",
       "    .dataframe tbody tr th:only-of-type {\n",
       "        vertical-align: middle;\n",
       "    }\n",
       "\n",
       "    .dataframe tbody tr th {\n",
       "        vertical-align: top;\n",
       "    }\n",
       "\n",
       "    .dataframe thead th {\n",
       "        text-align: right;\n",
       "    }\n",
       "</style>\n",
       "<table border=\"1\" class=\"dataframe\">\n",
       "  <thead>\n",
       "    <tr style=\"text-align: right;\">\n",
       "      <th></th>\n",
       "      <th>train</th>\n",
       "      <th>dev</th>\n",
       "      <th>test</th>\n",
       "    </tr>\n",
       "  </thead>\n",
       "  <tbody>\n",
       "    <tr>\n",
       "      <th>loss</th>\n",
       "      <td>0.333307</td>\n",
       "      <td>0.402230</td>\n",
       "      <td>0.405489</td>\n",
       "    </tr>\n",
       "    <tr>\n",
       "      <th>accuracy</th>\n",
       "      <td>0.879400</td>\n",
       "      <td>0.858188</td>\n",
       "      <td>0.855971</td>\n",
       "    </tr>\n",
       "  </tbody>\n",
       "</table>\n",
       "</div>"
      ],
      "text/plain": [
       "             train       dev      test\n",
       "loss      0.333307  0.402230  0.405489\n",
       "accuracy  0.879400  0.858188  0.855971"
      ]
     },
     "execution_count": 9,
     "metadata": {},
     "output_type": "execute_result"
    }
   ],
   "source": [
    "ad.generalized_metrics(ds_dev, ds_test)"
   ]
  },
  {
   "cell_type": "markdown",
   "metadata": {},
   "source": [
    "## Tune hyperparameters"
   ]
  },
  {
   "cell_type": "code",
   "execution_count": 10,
   "metadata": {},
   "outputs": [
    {
     "data": {
      "application/javascript": [
       "var spec = {\"config\": {\"view\": {\"width\": 400, \"height\": 300}, \"mark\": {\"tooltip\": null}}, \"data\": {\"name\": \"data-266242d206cc1b633aa3c28831b6bfe8\"}, \"mark\": \"line\", \"encoding\": {\"color\": {\"type\": \"nominal\", \"field\": \"variable\"}, \"x\": {\"type\": \"quantitative\", \"field\": \"lambda\"}, \"y\": {\"type\": \"quantitative\", \"field\": \"value\"}}, \"$schema\": \"https://vega.github.io/schema/vega-lite/v3.4.0.json\", \"datasets\": {\"data-266242d206cc1b633aa3c28831b6bfe8\": [{\"lambda\": 1e-06, \"variable\": \"E_train\", \"value\": 0.36741658627986906}, {\"lambda\": 0.0500005, \"variable\": \"E_train\", \"value\": 0.638854350745678}, {\"lambda\": 0.1, \"variable\": \"E_train\", \"value\": 0.8971824377775193}, {\"lambda\": 1e-06, \"variable\": \"E_train\", \"value\": 0.36741658627986906}, {\"lambda\": 0.016667500000000002, \"variable\": \"E_train\", \"value\": 0.44746419712901114}, {\"lambda\": 0.033334, \"variable\": \"E_train\", \"value\": 0.5447665441036225}, {\"lambda\": 0.005556500000000001, \"variable\": \"E_train\", \"value\": 0.38409453868865967}, {\"lambda\": 0.016667500000000002, \"variable\": \"E_train\", \"value\": 0.44746419712901114}, {\"lambda\": 0.027778500000000005, \"variable\": \"E_train\", \"value\": 0.5129265782237052}, {\"lambda\": 0.005556500000000001, \"variable\": \"E_train\", \"value\": 0.38409453868865967}, {\"lambda\": 0.009260166666666668, \"variable\": \"E_train\", \"value\": 0.40193879246711733}, {\"lambda\": 0.012963833333333336, \"variable\": \"E_train\", \"value\": 0.42498607993125914}, {\"lambda\": 0.006791055555555557, \"variable\": \"E_train\", \"value\": 0.3910655099153519}, {\"lambda\": 0.009260166666666668, \"variable\": \"E_train\", \"value\": 0.40193879246711733}, {\"lambda\": 0.01172927777777778, \"variable\": \"E_train\", \"value\": 0.42111565202474593}, {\"lambda\": 0.007614092592592594, \"variable\": \"E_train\", \"value\": 0.40445238187909127}, {\"lambda\": 0.009260166666666668, \"variable\": \"E_train\", \"value\": 0.40193879246711733}, {\"lambda\": 0.010906240740740742, \"variable\": \"E_train\", \"value\": 0.414478534758091}, {\"lambda\": 0.008162783950617286, \"variable\": \"E_train\", \"value\": 0.4019224801659584}, {\"lambda\": 0.009260166666666668, \"variable\": \"E_train\", \"value\": 0.40193879246711733}, {\"lambda\": 0.01035754938271605, \"variable\": \"E_train\", \"value\": 0.41228708818554877}, {\"lambda\": 0.008528578189300414, \"variable\": \"E_train\", \"value\": 0.4011571006476879}, {\"lambda\": 0.009260166666666668, \"variable\": \"E_train\", \"value\": 0.40193879246711733}, {\"lambda\": 0.009991755144032922, \"variable\": \"E_train\", \"value\": 0.41117633059620856}, {\"lambda\": 0.008772441015089165, \"variable\": \"E_train\", \"value\": 0.40302272960543634}, {\"lambda\": 0.009260166666666668, \"variable\": \"E_train\", \"value\": 0.40193879246711733}, {\"lambda\": 0.009747892318244172, \"variable\": \"E_train\", \"value\": 0.4112499402463436}, {\"lambda\": 0.008935016232281667, \"variable\": \"E_train\", \"value\": 0.4055274607241154}, {\"lambda\": 0.009260166666666668, \"variable\": \"E_train\", \"value\": 0.40193879246711733}, {\"lambda\": 0.00958531710105167, \"variable\": \"E_train\", \"value\": 0.4104454642534256}, {\"lambda\": 1e-06, \"variable\": \"E_dev\", \"value\": 0.5758559006854151}, {\"lambda\": 0.0500005, \"variable\": \"E_dev\", \"value\": 0.6829446579547639}, {\"lambda\": 0.1, \"variable\": \"E_dev\", \"value\": 0.9082268267235858}, {\"lambda\": 1e-06, \"variable\": \"E_dev\", \"value\": 0.5758559006854151}, {\"lambda\": 0.016667500000000002, \"variable\": \"E_dev\", \"value\": 0.567206084464036}, {\"lambda\": 0.033334, \"variable\": \"E_dev\", \"value\": 0.6121358552828748}, {\"lambda\": 0.005556500000000001, \"variable\": \"E_dev\", \"value\": 0.5551871450234812}, {\"lambda\": 0.016667500000000002, \"variable\": \"E_dev\", \"value\": 0.567206084464036}, {\"lambda\": 0.027778500000000005, \"variable\": \"E_dev\", \"value\": 0.592202420934295}, {\"lambda\": 0.005556500000000001, \"variable\": \"E_dev\", \"value\": 0.5551871450234812}, {\"lambda\": 0.009260166666666668, \"variable\": \"E_dev\", \"value\": 0.5513360810512347}, {\"lambda\": 0.012963833333333336, \"variable\": \"E_dev\", \"value\": 0.5552362220507141}, {\"lambda\": 0.006791055555555557, \"variable\": \"E_dev\", \"value\": 0.5538769287737548}, {\"lambda\": 0.009260166666666668, \"variable\": \"E_dev\", \"value\": 0.5513360810512347}, {\"lambda\": 0.01172927777777778, \"variable\": \"E_dev\", \"value\": 0.5584729294827644}, {\"lambda\": 0.007614092592592594, \"variable\": \"E_dev\", \"value\": 0.5662093962549318}, {\"lambda\": 0.009260166666666668, \"variable\": \"E_dev\", \"value\": 0.5513360810512347}, {\"lambda\": 0.010906240740740742, \"variable\": \"E_dev\", \"value\": 0.5561403919619026}, {\"lambda\": 0.008162783950617286, \"variable\": \"E_dev\", \"value\": 0.5550886777275843}, {\"lambda\": 0.009260166666666668, \"variable\": \"E_dev\", \"value\": 0.5513360810512347}, {\"lambda\": 0.01035754938271605, \"variable\": \"E_dev\", \"value\": 0.5580430264379961}, {\"lambda\": 0.008528578189300414, \"variable\": \"E_dev\", \"value\": 0.554776038948103}, {\"lambda\": 0.009260166666666668, \"variable\": \"E_dev\", \"value\": 0.5513360810512347}, {\"lambda\": 0.009991755144032922, \"variable\": \"E_dev\", \"value\": 0.5568035739533445}, {\"lambda\": 0.008772441015089165, \"variable\": \"E_dev\", \"value\": 0.555707925336158}, {\"lambda\": 0.009260166666666668, \"variable\": \"E_dev\", \"value\": 0.5513360810512347}, {\"lambda\": 0.009747892318244172, \"variable\": \"E_dev\", \"value\": 0.5585890417086318}, {\"lambda\": 0.008935016232281667, \"variable\": \"E_dev\", \"value\": 0.5572939915120179}, {\"lambda\": 0.009260166666666668, \"variable\": \"E_dev\", \"value\": 0.5513360810512347}, {\"lambda\": 0.00958531710105167, \"variable\": \"E_dev\", \"value\": 0.5587781537720498}]}};\n",
       "var opt = {};\n",
       "var type = \"vega-lite\";\n",
       "var id = \"cf30fbf2-9015-47a8-beb6-43b37970f02a\";\n",
       "\n",
       "var output_area = this;\n",
       "\n",
       "require([\"nbextensions/jupyter-vega/index\"], function(vega) {\n",
       "  var target = document.createElement(\"div\");\n",
       "  target.id = id;\n",
       "  target.className = \"vega-embed\";\n",
       "\n",
       "  var style = document.createElement(\"style\");\n",
       "  style.textContent = [\n",
       "    \".vega-embed .error p {\",\n",
       "    \"  color: firebrick;\",\n",
       "    \"  font-size: 14px;\",\n",
       "    \"}\",\n",
       "  ].join(\"\\\\n\");\n",
       "\n",
       "  // element is a jQuery wrapped DOM element inside the output area\n",
       "  // see http://ipython.readthedocs.io/en/stable/api/generated/\\\n",
       "  // IPython.display.html#IPython.display.Javascript.__init__\n",
       "  element[0].appendChild(target);\n",
       "  element[0].appendChild(style);\n",
       "\n",
       "  vega.render(\"#\" + id, spec, type, opt, output_area);\n",
       "}, function (err) {\n",
       "  if (err.requireType !== \"scripterror\") {\n",
       "    throw(err);\n",
       "  }\n",
       "});\n"
      ],
      "text/plain": [
       "<vega.vegalite.VegaLite at 0x180d52890>"
      ]
     },
     "metadata": {
      "jupyter-vega": "#cf30fbf2-9015-47a8-beb6-43b37970f02a"
     },
     "output_type": "display_data"
    },
    {
     "data": {
      "text/plain": []
     },
     "execution_count": 10,
     "metadata": {},
     "output_type": "execute_result"
    },
    {
     "data": {
      "image/png": "[encoded data removed]"
     },
     "metadata": {
      "jupyter-vega": "#cf30fbf2-9015-47a8-beb6-43b37970f02a"
     },
     "output_type": "display_data"
    }
   ],
   "source": [
    "ad = FasionMNISTAdapter(mlts.tf.adapter.Options(epochs=5, seed=1))\n",
    "_, lambda_hist = ad.tune_hyperparameters(\n",
    "    mlts.tf.generator.LambdaRange(start=0.000001, stop=0.1),\n",
    "    ds_train.take(100),\n",
    "    ds_dev,\n",
    ")\n",
    "alt.Chart(lambda_hist.melt(id_vars=\"lambda\")).mark_line().encode(\n",
    "    x = \"lambda\",\n",
    "    y = \"value\",\n",
    "    color = \"variable\"\n",
    ")"
   ]
  },
  {
   "cell_type": "code",
   "execution_count": 11,
   "metadata": {},
   "outputs": [
    {
     "data": {
      "text/html": [
       "<div>\n",
       "<style scoped>\n",
       "    .dataframe tbody tr th:only-of-type {\n",
       "        vertical-align: middle;\n",
       "    }\n",
       "\n",
       "    .dataframe tbody tr th {\n",
       "        vertical-align: top;\n",
       "    }\n",
       "\n",
       "    .dataframe thead th {\n",
       "        text-align: right;\n",
       "    }\n",
       "</style>\n",
       "<table border=\"1\" class=\"dataframe\">\n",
       "  <thead>\n",
       "    <tr style=\"text-align: right;\">\n",
       "      <th></th>\n",
       "      <th>hparam</th>\n",
       "    </tr>\n",
       "  </thead>\n",
       "  <tbody>\n",
       "    <tr>\n",
       "      <th>lambda</th>\n",
       "      <td>0.00926</td>\n",
       "    </tr>\n",
       "  </tbody>\n",
       "</table>\n",
       "</div>"
      ],
      "text/plain": [
       "         hparam\n",
       "lambda  0.00926"
      ]
     },
     "execution_count": 11,
     "metadata": {},
     "output_type": "execute_result"
    }
   ],
   "source": [
    "pd.DataFrame(ad.hparams, index=[\"hparam\"])[[\"lambda\"]].transpose()"
   ]
  },
  {
   "cell_type": "markdown",
   "metadata": {},
   "source": [
    "## Estimate the generalized error"
   ]
  },
  {
   "cell_type": "code",
   "execution_count": 12,
   "metadata": {},
   "outputs": [],
   "source": [
    "ad = FasionMNISTAdapter(mlts.tf.adapter.Options(epochs=10, seed=1), hparams=ad.hparams)"
   ]
  },
  {
   "cell_type": "code",
   "execution_count": 13,
   "metadata": {},
   "outputs": [
    {
     "data": {
      "application/javascript": [
       "var spec = {\"config\": {\"view\": {\"width\": 400, \"height\": 300}, \"mark\": {\"tooltip\": null}}, \"data\": {\"name\": \"data-12f66df4d397677ecad6b7f66fbaa5ed\"}, \"mark\": \"line\", \"encoding\": {\"color\": {\"type\": \"nominal\", \"field\": \"variable\"}, \"x\": {\"type\": \"quantitative\", \"field\": \"m_batch\"}, \"y\": {\"type\": \"quantitative\", \"field\": \"value\"}}, \"$schema\": \"https://vega.github.io/schema/vega-lite/v3.4.0.json\", \"datasets\": {\"data-12f66df4d397677ecad6b7f66fbaa5ed\": [{\"m_batch\": 1, \"variable\": \"E_train\", \"value\": 1.0797460079193115}, {\"m_batch\": 132, \"variable\": \"E_train\", \"value\": 0.33091082694855606}, {\"m_batch\": 263, \"variable\": \"E_train\", \"value\": 0.3681005977179161}, {\"m_batch\": 394, \"variable\": \"E_train\", \"value\": 0.40084601677765097}, {\"m_batch\": 525, \"variable\": \"E_train\", \"value\": 0.41300436334950585}, {\"m_batch\": 656, \"variable\": \"E_train\", \"value\": 0.4113743878537562}, {\"m_batch\": 787, \"variable\": \"E_train\", \"value\": 0.45784752733598366}, {\"m_batch\": 918, \"variable\": \"E_train\", \"value\": 0.4335898208332477}, {\"m_batch\": 1049, \"variable\": \"E_train\", \"value\": 0.43374828609315635}, {\"m_batch\": 1180, \"variable\": \"E_train\", \"value\": 0.445457144750882}, {\"m_batch\": 1, \"variable\": \"E_dev\", \"value\": 2.304295244369101}, {\"m_batch\": 132, \"variable\": \"E_dev\", \"value\": 0.5162495216420779}, {\"m_batch\": 263, \"variable\": \"E_dev\", \"value\": 0.4703919264547368}, {\"m_batch\": 394, \"variable\": \"E_dev\", \"value\": 0.4675050046004302}, {\"m_batch\": 525, \"variable\": \"E_dev\", \"value\": 0.46083470592473413}, {\"m_batch\": 656, \"variable\": \"E_dev\", \"value\": 0.454524798067749}, {\"m_batch\": 787, \"variable\": \"E_dev\", \"value\": 0.49466797947249513}, {\"m_batch\": 918, \"variable\": \"E_dev\", \"value\": 0.46317363947841295}, {\"m_batch\": 1049, \"variable\": \"E_dev\", \"value\": 0.4625294353839354}, {\"m_batch\": 1180, \"variable\": \"E_dev\", \"value\": 0.4699863211535816}]}};\n",
       "var opt = {};\n",
       "var type = \"vega-lite\";\n",
       "var id = \"f298a1c1-f6ef-4d97-a489-ef44e2dfd9a0\";\n",
       "\n",
       "var output_area = this;\n",
       "\n",
       "require([\"nbextensions/jupyter-vega/index\"], function(vega) {\n",
       "  var target = document.createElement(\"div\");\n",
       "  target.id = id;\n",
       "  target.className = \"vega-embed\";\n",
       "\n",
       "  var style = document.createElement(\"style\");\n",
       "  style.textContent = [\n",
       "    \".vega-embed .error p {\",\n",
       "    \"  color: firebrick;\",\n",
       "    \"  font-size: 14px;\",\n",
       "    \"}\",\n",
       "  ].join(\"\\\\n\");\n",
       "\n",
       "  // element is a jQuery wrapped DOM element inside the output area\n",
       "  // see http://ipython.readthedocs.io/en/stable/api/generated/\\\n",
       "  // IPython.display.html#IPython.display.Javascript.__init__\n",
       "  element[0].appendChild(target);\n",
       "  element[0].appendChild(style);\n",
       "\n",
       "  vega.render(\"#\" + id, spec, type, opt, output_area);\n",
       "}, function (err) {\n",
       "  if (err.requireType !== \"scripterror\") {\n",
       "    throw(err);\n",
       "  }\n",
       "});\n"
      ],
      "text/plain": [
       "<vega.vegalite.VegaLite at 0x1892eef50>"
      ]
     },
     "metadata": {
      "jupyter-vega": "#f298a1c1-f6ef-4d97-a489-ef44e2dfd9a0"
     },
     "output_type": "display_data"
    },
    {
     "data": {
      "text/plain": []
     },
     "execution_count": 13,
     "metadata": {},
     "output_type": "execute_result"
    },
    {
     "data": {
      "image/png": "[encoded data removed]"
     },
     "metadata": {
      "jupyter-vega": "#f298a1c1-f6ef-4d97-a489-ef44e2dfd9a0"
     },
     "output_type": "display_data"
    }
   ],
   "source": [
    "m_hist = FasionMNISTAdapter.analyze_dataset(ad.options, ad.hparams, ds_train, ds_dev)\n",
    "alt.Chart(m_hist.melt(id_vars=\"m_batch\")).mark_line().encode(\n",
    "    x = \"m_batch\",\n",
    "    y = \"value\",\n",
    "    color = \"variable\"\n",
    ")"
   ]
  },
  {
   "cell_type": "code",
   "execution_count": 14,
   "metadata": {},
   "outputs": [
    {
     "data": {
      "text/html": [
       "<div>\n",
       "<style scoped>\n",
       "    .dataframe tbody tr th:only-of-type {\n",
       "        vertical-align: middle;\n",
       "    }\n",
       "\n",
       "    .dataframe tbody tr th {\n",
       "        vertical-align: top;\n",
       "    }\n",
       "\n",
       "    .dataframe thead th {\n",
       "        text-align: right;\n",
       "    }\n",
       "</style>\n",
       "<table border=\"1\" class=\"dataframe\">\n",
       "  <thead>\n",
       "    <tr style=\"text-align: right;\">\n",
       "      <th></th>\n",
       "      <th>hparam</th>\n",
       "    </tr>\n",
       "  </thead>\n",
       "  <tbody>\n",
       "    <tr>\n",
       "      <th>lambda</th>\n",
       "      <td>0.00926</td>\n",
       "    </tr>\n",
       "  </tbody>\n",
       "</table>\n",
       "</div>"
      ],
      "text/plain": [
       "         hparam\n",
       "lambda  0.00926"
      ]
     },
     "execution_count": 14,
     "metadata": {},
     "output_type": "execute_result"
    }
   ],
   "source": [
    "pd.DataFrame(ad.hparams, index=[\"hparam\"]).transpose()"
   ]
  },
  {
   "cell_type": "code",
   "execution_count": 15,
   "metadata": {},
   "outputs": [
    {
     "name": "stdout",
     "output_type": "stream",
     "text": [
      "Model: \"sequential_123\"\n",
      "_________________________________________________________________\n",
      "Layer (type)                 Output Shape              Param #   \n",
      "=================================================================\n",
      "dense_369 (Dense)            (None, 16)                12560     \n",
      "_________________________________________________________________\n",
      "dense_370 (Dense)            (None, 16)                272       \n",
      "_________________________________________________________________\n",
      "dense_371 (Dense)            (None, 10)                170       \n",
      "=================================================================\n",
      "Total params: 13,002\n",
      "Trainable params: 13,002\n",
      "Non-trainable params: 0\n",
      "_________________________________________________________________\n"
     ]
    }
   ],
   "source": [
    "ad.fit(ds_train, metrics=[\"accuracy\"])\n",
    "ad.m.summary()"
   ]
  },
  {
   "cell_type": "code",
   "execution_count": 16,
   "metadata": {},
   "outputs": [
    {
     "data": {
      "application/javascript": [
       "var spec = {\"config\": {\"view\": {\"width\": 400, \"height\": 300}, \"mark\": {\"tooltip\": null}}, \"data\": {\"name\": \"data-fd40d81c5773fa981c3a93e13bb27e92\"}, \"mark\": \"line\", \"encoding\": {\"x\": {\"type\": \"quantitative\", \"field\": \"epoch\"}, \"y\": {\"type\": \"quantitative\", \"field\": \"loss\"}}, \"$schema\": \"https://vega.github.io/schema/vega-lite/v3.4.0.json\", \"datasets\": {\"data-fd40d81c5773fa981c3a93e13bb27e92\": [{\"index\": 0, \"epoch\": 0, \"loss\": 1.0271524804186423, \"accuracy\": 0.799062967300415}, {\"index\": 1, \"epoch\": 1, \"loss\": 0.7283552931550794, \"accuracy\": 0.8411577343940735}, {\"index\": 2, \"epoch\": 2, \"loss\": 0.6982978960241175, \"accuracy\": 0.8428462743759155}, {\"index\": 3, \"epoch\": 3, \"loss\": 0.6863762057716625, \"accuracy\": 0.8423706293106079}, {\"index\": 4, \"epoch\": 4, \"loss\": 0.6798711200010831, \"accuracy\": 0.8424657583236694}, {\"index\": 5, \"epoch\": 5, \"loss\": 0.6749996480785729, \"accuracy\": 0.8424657583236694}, {\"index\": 6, \"epoch\": 6, \"loss\": 0.6714475781315175, \"accuracy\": 0.8428462743759155}, {\"index\": 7, \"epoch\": 7, \"loss\": 0.6684752955828628, \"accuracy\": 0.8431078791618347}, {\"index\": 8, \"epoch\": 8, \"loss\": 0.6662792042011176, \"accuracy\": 0.8425133228302002}, {\"index\": 9, \"epoch\": 9, \"loss\": 0.6646252491339882, \"accuracy\": 0.842751145362854}]}};\n",
       "var opt = {};\n",
       "var type = \"vega-lite\";\n",
       "var id = \"43261c74-b3e0-4abe-9d09-336e8c57fc54\";\n",
       "\n",
       "var output_area = this;\n",
       "\n",
       "require([\"nbextensions/jupyter-vega/index\"], function(vega) {\n",
       "  var target = document.createElement(\"div\");\n",
       "  target.id = id;\n",
       "  target.className = \"vega-embed\";\n",
       "\n",
       "  var style = document.createElement(\"style\");\n",
       "  style.textContent = [\n",
       "    \".vega-embed .error p {\",\n",
       "    \"  color: firebrick;\",\n",
       "    \"  font-size: 14px;\",\n",
       "    \"}\",\n",
       "  ].join(\"\\\\n\");\n",
       "\n",
       "  // element is a jQuery wrapped DOM element inside the output area\n",
       "  // see http://ipython.readthedocs.io/en/stable/api/generated/\\\n",
       "  // IPython.display.html#IPython.display.Javascript.__init__\n",
       "  element[0].appendChild(target);\n",
       "  element[0].appendChild(style);\n",
       "\n",
       "  vega.render(\"#\" + id, spec, type, opt, output_area);\n",
       "}, function (err) {\n",
       "  if (err.requireType !== \"scripterror\") {\n",
       "    throw(err);\n",
       "  }\n",
       "});\n"
      ],
      "text/plain": [
       "<vega.vegalite.VegaLite at 0x187d62390>"
      ]
     },
     "metadata": {
      "jupyter-vega": "#43261c74-b3e0-4abe-9d09-336e8c57fc54"
     },
     "output_type": "display_data"
    },
    {
     "data": {
      "image/png": "[encoded data removed]"
     },
     "metadata": {
      "jupyter-vega": "#43261c74-b3e0-4abe-9d09-336e8c57fc54"
     },
     "output_type": "display_data"
    },
    {
     "data": {
      "text/plain": []
     },
     "execution_count": 16,
     "metadata": {},
     "output_type": "execute_result"
    }
   ],
   "source": [
    "alt.Chart(ad.metrics_history().reset_index()).mark_line().encode(\n",
    "    x = \"epoch\",\n",
    "    y = \"loss\",\n",
    ")"
   ]
  },
  {
   "cell_type": "code",
   "execution_count": 17,
   "metadata": {},
   "outputs": [
    {
     "data": {
      "text/html": [
       "<div>\n",
       "<style scoped>\n",
       "    .dataframe tbody tr th:only-of-type {\n",
       "        vertical-align: middle;\n",
       "    }\n",
       "\n",
       "    .dataframe tbody tr th {\n",
       "        vertical-align: top;\n",
       "    }\n",
       "\n",
       "    .dataframe thead th {\n",
       "        text-align: right;\n",
       "    }\n",
       "</style>\n",
       "<table border=\"1\" class=\"dataframe\">\n",
       "  <thead>\n",
       "    <tr style=\"text-align: right;\">\n",
       "      <th></th>\n",
       "      <th>train</th>\n",
       "      <th>dev</th>\n",
       "      <th>test</th>\n",
       "    </tr>\n",
       "  </thead>\n",
       "  <tbody>\n",
       "    <tr>\n",
       "      <th>loss</th>\n",
       "      <td>0.664625</td>\n",
       "      <td>0.671127</td>\n",
       "      <td>0.674550</td>\n",
       "    </tr>\n",
       "    <tr>\n",
       "      <th>accuracy</th>\n",
       "      <td>0.842751</td>\n",
       "      <td>0.840891</td>\n",
       "      <td>0.839561</td>\n",
       "    </tr>\n",
       "  </tbody>\n",
       "</table>\n",
       "</div>"
      ],
      "text/plain": [
       "             train       dev      test\n",
       "loss      0.664625  0.671127  0.674550\n",
       "accuracy  0.842751  0.840891  0.839561"
      ]
     },
     "execution_count": 17,
     "metadata": {},
     "output_type": "execute_result"
    }
   ],
   "source": [
    "ad.generalized_metrics(ds_dev, ds_test)"
   ]
  },
  {
   "cell_type": "code",
   "execution_count": null,
   "metadata": {},
   "outputs": [],
   "source": []
  }
 ],
 "metadata": {
  "kernelspec": {
   "display_name": "Python 3",
   "language": "python",
   "name": "python3"
  },
  "language_info": {
   "codemirror_mode": {
    "name": "ipython",
    "version": 3
   },
   "file_extension": ".py",
   "mimetype": "text/x-python",
   "name": "python",
   "nbconvert_exporter": "python",
   "pygments_lexer": "ipython3",
   "version": "3.7.4"
  }
 },
 "nbformat": 4,
 "nbformat_minor": 2
}
