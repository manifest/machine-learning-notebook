{
 "cells": [
  {
   "cell_type": "code",
   "execution_count": null,
   "metadata": {},
   "outputs": [],
   "source": [
    "import pandas as pd\n",
    "import numpy as np\n",
    "import tensorflow as tf\n",
    "import mlts\n",
    "\n",
    "import altair as alt\n",
    "alt.renderers.enable('notebook')"
   ]
  },
  {
   "cell_type": "markdown",
   "metadata": {},
   "source": [
    "## Load data"
   ]
  },
  {
   "cell_type": "code",
   "execution_count": 2,
   "metadata": {},
   "outputs": [],
   "source": [
    "data = mlts.io.merge([\n",
    "    pd.read_csv('../data/fashion-mnist/fashion-mnist_train.csv'),\n",
    "    pd.read_csv('../data/fashion-mnist/fashion-mnist_train.csv')\n",
    "])"
   ]
  },
  {
   "cell_type": "code",
   "execution_count": 3,
   "metadata": {},
   "outputs": [],
   "source": [
    "mlts.io.check(data)"
   ]
  },
  {
   "cell_type": "code",
   "execution_count": 4,
   "metadata": {},
   "outputs": [],
   "source": [
    "K = len(data.iloc[:, 0].value_counts())\n",
    "ds_train, ds_dev, ds_test, mu, sigma = \\\n",
    "    mlts.io.normalize(mlts.io.split(data, ycol=0, shape=(35968), seed=1))"
   ]
  },
  {
   "cell_type": "markdown",
   "metadata": {},
   "source": [
    "## Implement the model"
   ]
  },
  {
   "cell_type": "code",
   "execution_count": 5,
   "metadata": {},
   "outputs": [],
   "source": [
    "class FasionMNISTAdapter(mlts.tf.ModelAdapter):\n",
    "    def __init__(self, *args, **kwargs):\n",
    "        super(FasionMNISTAdapter, self).__init__(*args, **kwargs)\n",
    "\n",
    "    @staticmethod\n",
    "    def build_model(options, hparams = {}, metrics = []):\n",
    "        regularization = None\n",
    "        if \"lambda\" in hparams:\n",
    "            regularization = tf.keras.regularizers.l2(l=hparams[\"lambda\"])\n",
    "\n",
    "        model = tf.keras.models.Sequential([\n",
    "            ## The reason of using 'InputLayer' is only to\n",
    "            ## show up a shape of each layer in `model.summary()`.\n",
    "            tf.keras.layers.InputLayer(input_shape=(784)),\n",
    "            tf.keras.layers.Dense(\n",
    "                16,\n",
    "                activation=tf.nn.relu,\n",
    "                kernel_initializer=tf.keras.initializers.he_uniform(options[\"seed\"]),\n",
    "                kernel_regularizer=regularization,\n",
    "            ),\n",
    "            tf.keras.layers.Dense(\n",
    "                16,\n",
    "                activation=tf.nn.relu,\n",
    "                kernel_initializer=tf.keras.initializers.he_uniform(options[\"seed\"]),\n",
    "                kernel_regularizer=regularization,\n",
    "            ),\n",
    "            tf.keras.layers.Dense(\n",
    "                K,\n",
    "                activation=tf.nn.softmax,\n",
    "                kernel_initializer=tf.keras.initializers.he_uniform(options[\"seed\"]),\n",
    "                kernel_regularizer=regularization,\n",
    "            )\n",
    "        ])\n",
    "        model.compile(\n",
    "            optimizer=tf.keras.optimizers.Adam(\n",
    "                learning_rate=hparams.get(\"alpha\", 0.001),\n",
    "                beta_1=hparams.get(\"beta_1\", 0.9),\n",
    "                beta_2=hparams.get(\"beta_2\", 0.999),\n",
    "            ),\n",
    "            loss='sparse_categorical_crossentropy',\n",
    "            metrics=metrics,\n",
    "        )\n",
    "        \n",
    "        return model\n",
    "    \n",
    "    @staticmethod\n",
    "    def estimate_parameters(options, model, ds, callbacks=[]):\n",
    "        mlts.tf.ModelAdapter.verify_options(options)\n",
    "        if options[\"seed\"] != None: tf.random.set_seed(options[\"seed\"])\n",
    "        model.fit(\n",
    "            tf.data.Dataset.from_tensor_slices(ds).batch(options[\"batch_size\"]),\n",
    "            epochs=options[\"epochs\"],\n",
    "            shuffle=False,\n",
    "            callbacks=callbacks,\n",
    "            verbose=options[\"verbose\"],\n",
    "        )\n",
    "        \n",
    "        return model"
   ]
  },
  {
   "cell_type": "code",
   "execution_count": 6,
   "metadata": {},
   "outputs": [
    {
     "name": "stdout",
     "output_type": "stream",
     "text": [
      "Model: \"sequential\"\n",
      "_________________________________________________________________\n",
      "Layer (type)                 Output Shape              Param #   \n",
      "=================================================================\n",
      "dense (Dense)                (None, 16)                12560     \n",
      "_________________________________________________________________\n",
      "dense_1 (Dense)              (None, 16)                272       \n",
      "_________________________________________________________________\n",
      "dense_2 (Dense)              (None, 10)                170       \n",
      "=================================================================\n",
      "Total params: 13,002\n",
      "Trainable params: 13,002\n",
      "Non-trainable params: 0\n",
      "_________________________________________________________________\n"
     ]
    }
   ],
   "source": [
    "model = FasionMNISTAdapter.build_model({\"seed\": 1})\n",
    "model.build(ds_train[0].shape)\n",
    "model.summary()"
   ]
  },
  {
   "cell_type": "markdown",
   "metadata": {},
   "source": [
    "## Analyze the dataset"
   ]
  },
  {
   "cell_type": "code",
   "execution_count": 7,
   "metadata": {},
   "outputs": [
    {
     "name": "stderr",
     "output_type": "stream",
     "text": [
      "WARNING: Logging before flag parsing goes to stderr.\n",
      "W0806 11:43:49.535557 4569732544 deprecation.py:323] From /Users/manifest/projects/github/machine-learning-notebook/venv/lib/python3.7/site-packages/tensorflow/python/ops/math_grad.py:1250: add_dispatch_support.<locals>.wrapper (from tensorflow.python.ops.array_ops) is deprecated and will be removed in a future version.\n",
      "Instructions for updating:\n",
      "Use tf.where in 2.0, which has the same broadcast rule as np.where\n"
     ]
    },
    {
     "data": {
      "application/javascript": [
       "var spec = {\"config\": {\"view\": {\"width\": 400, \"height\": 300}, \"mark\": {\"tooltip\": null}}, \"data\": {\"name\": \"data-80b65be8544f526d442025f1e5f0f354\"}, \"mark\": \"line\", \"encoding\": {\"color\": {\"type\": \"nominal\", \"field\": \"variable\"}, \"x\": {\"type\": \"quantitative\", \"field\": \"m\"}, \"y\": {\"type\": \"quantitative\", \"field\": \"value\"}}, \"$schema\": \"https://vega.github.io/schema/vega-lite/v3.3.0.json\", \"datasets\": {\"data-80b65be8544f526d442025f1e5f0f354\": [{\"m\": 1, \"variable\": \"E_train\", \"value\": 0.018817126750946045}, {\"m\": 3997, \"variable\": \"E_train\", \"value\": 0.3211102704271723}, {\"m\": 7993, \"variable\": \"E_train\", \"value\": 0.3308397481621363}, {\"m\": 11990, \"variable\": \"E_train\", \"value\": 0.31489799676386887}, {\"m\": 15986, \"variable\": \"E_train\", \"value\": 0.3236248553475957}, {\"m\": 19982, \"variable\": \"E_train\", \"value\": 0.32598053012425426}, {\"m\": 23979, \"variable\": \"E_train\", \"value\": 0.3228175393226293}, {\"m\": 27975, \"variable\": \"E_train\", \"value\": 0.3127880958934465}, {\"m\": 31971, \"variable\": \"E_train\", \"value\": 0.31959354337828594}, {\"m\": 35968, \"variable\": \"E_train\", \"value\": 0.3222564289087821}, {\"m\": 1, \"variable\": \"E_dev\", \"value\": 2.908324468530265}, {\"m\": 3997, \"variable\": \"E_dev\", \"value\": 0.5437001861518804}, {\"m\": 7993, \"variable\": \"E_dev\", \"value\": 0.5114684418883032}, {\"m\": 11990, \"variable\": \"E_dev\", \"value\": 0.45695174135807115}, {\"m\": 15986, \"variable\": \"E_dev\", \"value\": 0.45977892394445063}, {\"m\": 19982, \"variable\": \"E_dev\", \"value\": 0.44216340664597786}, {\"m\": 23979, \"variable\": \"E_dev\", \"value\": 0.42565830117513986}, {\"m\": 27975, \"variable\": \"E_dev\", \"value\": 0.41373405850035444}, {\"m\": 31971, \"variable\": \"E_dev\", \"value\": 0.40772414495373793}, {\"m\": 35968, \"variable\": \"E_dev\", \"value\": 0.411120109177909}]}};\n",
       "var opt = {};\n",
       "var type = \"vega-lite\";\n",
       "var id = \"bed31611-4690-4804-bb7b-bcead605e963\";\n",
       "\n",
       "var output_area = this;\n",
       "\n",
       "require([\"nbextensions/jupyter-vega/index\"], function(vega) {\n",
       "  var target = document.createElement(\"div\");\n",
       "  target.id = id;\n",
       "  target.className = \"vega-embed\";\n",
       "\n",
       "  var style = document.createElement(\"style\");\n",
       "  style.textContent = [\n",
       "    \".vega-embed .error p {\",\n",
       "    \"  color: firebrick;\",\n",
       "    \"  font-size: 14px;\",\n",
       "    \"}\",\n",
       "  ].join(\"\\\\n\");\n",
       "\n",
       "  // element is a jQuery wrapped DOM element inside the output area\n",
       "  // see http://ipython.readthedocs.io/en/stable/api/generated/\\\n",
       "  // IPython.display.html#IPython.display.Javascript.__init__\n",
       "  element[0].appendChild(target);\n",
       "  element[0].appendChild(style);\n",
       "\n",
       "  vega.render(\"#\" + id, spec, type, opt, output_area);\n",
       "}, function (err) {\n",
       "  if (err.requireType !== \"scripterror\") {\n",
       "    throw(err);\n",
       "  }\n",
       "});\n"
      ],
      "text/plain": [
       "<vega.vegalite.VegaLite at 0x141705fd0>"
      ]
     },
     "metadata": {
      "jupyter-vega": "#bed31611-4690-4804-bb7b-bcead605e963"
     },
     "output_type": "display_data"
    },
    {
     "data": {
      "image/png": "[encoded data removed]"
     },
     "metadata": {
      "jupyter-vega": "#bed31611-4690-4804-bb7b-bcead605e963"
     },
     "output_type": "display_data"
    },
    {
     "data": {
      "text/plain": []
     },
     "execution_count": 7,
     "metadata": {},
     "output_type": "execute_result"
    }
   ],
   "source": [
    "ad = FasionMNISTAdapter({\"epochs\": 5, \"seed\": 1})\n",
    "m_hist = ad.analyze_dataset(ds_train, ds_dev)\n",
    "alt.Chart(m_hist.melt(id_vars=\"m\")).mark_line().encode(\n",
    "    x = \"m\",\n",
    "    y = \"value\",\n",
    "    color = \"variable\"\n",
    ")"
   ]
  },
  {
   "cell_type": "markdown",
   "metadata": {},
   "source": [
    "## Evaluate the model"
   ]
  },
  {
   "cell_type": "code",
   "execution_count": 8,
   "metadata": {},
   "outputs": [
    {
     "data": {
      "application/javascript": [
       "var spec = {\"config\": {\"view\": {\"width\": 400, \"height\": 300}, \"mark\": {\"tooltip\": null}}, \"data\": {\"name\": \"data-6c29704cf3a659d70efe1c87c5544611\"}, \"mark\": \"line\", \"encoding\": {\"x\": {\"type\": \"quantitative\", \"field\": \"epoch\"}, \"y\": {\"type\": \"quantitative\", \"field\": \"loss\"}}, \"$schema\": \"https://vega.github.io/schema/vega-lite/v3.3.0.json\", \"datasets\": {\"data-6c29704cf3a659d70efe1c87c5544611\": [{\"index\": 0, \"epoch\": 0, \"loss\": 0.5963596787661632, \"accuracy\": 0.794706404209137}, {\"index\": 1, \"epoch\": 1, \"loss\": 0.408878316347126, \"accuracy\": 0.8533418774604797}, {\"index\": 2, \"epoch\": 2, \"loss\": 0.37157042600956885, \"accuracy\": 0.8669928908348083}, {\"index\": 3, \"epoch\": 3, \"loss\": 0.35045924293560066, \"accuracy\": 0.8731372356414795}, {\"index\": 4, \"epoch\": 4, \"loss\": 0.33477636827056517, \"accuracy\": 0.8788923621177673}]}};\n",
       "var opt = {};\n",
       "var type = \"vega-lite\";\n",
       "var id = \"76abaa4c-2f60-453d-a519-4a5df6c71361\";\n",
       "\n",
       "var output_area = this;\n",
       "\n",
       "require([\"nbextensions/jupyter-vega/index\"], function(vega) {\n",
       "  var target = document.createElement(\"div\");\n",
       "  target.id = id;\n",
       "  target.className = \"vega-embed\";\n",
       "\n",
       "  var style = document.createElement(\"style\");\n",
       "  style.textContent = [\n",
       "    \".vega-embed .error p {\",\n",
       "    \"  color: firebrick;\",\n",
       "    \"  font-size: 14px;\",\n",
       "    \"}\",\n",
       "  ].join(\"\\\\n\");\n",
       "\n",
       "  // element is a jQuery wrapped DOM element inside the output area\n",
       "  // see http://ipython.readthedocs.io/en/stable/api/generated/\\\n",
       "  // IPython.display.html#IPython.display.Javascript.__init__\n",
       "  element[0].appendChild(target);\n",
       "  element[0].appendChild(style);\n",
       "\n",
       "  vega.render(\"#\" + id, spec, type, opt, output_area);\n",
       "}, function (err) {\n",
       "  if (err.requireType !== \"scripterror\") {\n",
       "    throw(err);\n",
       "  }\n",
       "});\n"
      ],
      "text/plain": [
       "<vega.vegalite.VegaLite at 0x1417a58d0>"
      ]
     },
     "metadata": {
      "jupyter-vega": "#76abaa4c-2f60-453d-a519-4a5df6c71361"
     },
     "output_type": "display_data"
    },
    {
     "data": {
      "text/plain": []
     },
     "execution_count": 8,
     "metadata": {},
     "output_type": "execute_result"
    },
    {
     "data": {
      "image/png": "[encoded data removed]"
     },
     "metadata": {
      "jupyter-vega": "#76abaa4c-2f60-453d-a519-4a5df6c71361"
     },
     "output_type": "display_data"
    }
   ],
   "source": [
    "ad = FasionMNISTAdapter({\"epochs\": 5, \"seed\": 1}, metrics=[\"accuracy\"])\n",
    "ad.fit(ds_train)\n",
    "alt.Chart(ad.metrics_history().reset_index()).mark_line().encode(\n",
    "    x = \"epoch\",\n",
    "    y = \"loss\",\n",
    ")"
   ]
  },
  {
   "cell_type": "code",
   "execution_count": 9,
   "metadata": {},
   "outputs": [
    {
     "data": {
      "text/html": [
       "<div>\n",
       "<style scoped>\n",
       "    .dataframe tbody tr th:only-of-type {\n",
       "        vertical-align: middle;\n",
       "    }\n",
       "\n",
       "    .dataframe tbody tr th {\n",
       "        vertical-align: top;\n",
       "    }\n",
       "\n",
       "    .dataframe thead th {\n",
       "        text-align: right;\n",
       "    }\n",
       "</style>\n",
       "<table border=\"1\" class=\"dataframe\">\n",
       "  <thead>\n",
       "    <tr style=\"text-align: right;\">\n",
       "      <th></th>\n",
       "      <th>train</th>\n",
       "      <th>dev</th>\n",
       "      <th>test</th>\n",
       "    </tr>\n",
       "  </thead>\n",
       "  <tbody>\n",
       "    <tr>\n",
       "      <th>loss</th>\n",
       "      <td>0.334776</td>\n",
       "      <td>0.411120</td>\n",
       "      <td>0.411569</td>\n",
       "    </tr>\n",
       "    <tr>\n",
       "      <th>accuracy</th>\n",
       "      <td>0.878892</td>\n",
       "      <td>0.856124</td>\n",
       "      <td>0.856870</td>\n",
       "    </tr>\n",
       "  </tbody>\n",
       "</table>\n",
       "</div>"
      ],
      "text/plain": [
       "             train       dev      test\n",
       "loss      0.334776  0.411120  0.411569\n",
       "accuracy  0.878892  0.856124  0.856870"
      ]
     },
     "execution_count": 9,
     "metadata": {},
     "output_type": "execute_result"
    }
   ],
   "source": [
    "ad.generalized_metrics(ds_dev, ds_test)"
   ]
  },
  {
   "cell_type": "markdown",
   "metadata": {},
   "source": [
    "## Tune hyperparameters"
   ]
  },
  {
   "cell_type": "code",
   "execution_count": 10,
   "metadata": {},
   "outputs": [
    {
     "data": {
      "application/javascript": [
       "var spec = {\"config\": {\"view\": {\"width\": 400, \"height\": 300}, \"mark\": {\"tooltip\": null}}, \"data\": {\"name\": \"data-a54a5a016e2d4132130998161d6afa34\"}, \"mark\": \"line\", \"encoding\": {\"color\": {\"type\": \"nominal\", \"field\": \"variable\"}, \"x\": {\"type\": \"quantitative\", \"field\": \"lambda\"}, \"y\": {\"type\": \"quantitative\", \"field\": \"value\"}}, \"$schema\": \"https://vega.github.io/schema/vega-lite/v3.3.0.json\", \"datasets\": {\"data-a54a5a016e2d4132130998161d6afa34\": [{\"lambda\": 1e-06, \"variable\": \"E_train\", \"value\": 0.507614690810442}, {\"lambda\": 0.0500005, \"variable\": \"E_train\", \"value\": 0.6683100499212742}, {\"lambda\": 0.1, \"variable\": \"E_train\", \"value\": 0.8628610894083977}, {\"lambda\": 1e-06, \"variable\": \"E_train\", \"value\": 0.507614690810442}, {\"lambda\": 0.016667500000000002, \"variable\": \"E_train\", \"value\": 0.5471502169966698}, {\"lambda\": 0.033334, \"variable\": \"E_train\", \"value\": 0.6053521102294326}, {\"lambda\": 0.005556500000000001, \"variable\": \"E_train\", \"value\": 0.515859859995544}, {\"lambda\": 0.016667500000000002, \"variable\": \"E_train\", \"value\": 0.5471502169966698}, {\"lambda\": 0.027778500000000005, \"variable\": \"E_train\", \"value\": 0.5873921122401953}, {\"lambda\": 0.005556500000000001, \"variable\": \"E_train\", \"value\": 0.515859859995544}, {\"lambda\": 0.009260166666666668, \"variable\": \"E_train\", \"value\": 0.529617196880281}, {\"lambda\": 0.012963833333333336, \"variable\": \"E_train\", \"value\": 0.5363865373656154}, {\"lambda\": 0.005556500000000001, \"variable\": \"E_train\", \"value\": 0.515859859995544}, {\"lambda\": 0.006791055555555556, \"variable\": \"E_train\", \"value\": 0.5190714774653316}, {\"lambda\": 0.008025611111111112, \"variable\": \"E_train\", \"value\": 0.5222225273028016}, {\"lambda\": 0.005556500000000001, \"variable\": \"E_train\", \"value\": 0.515859859995544}, {\"lambda\": 0.005968018518518519, \"variable\": \"E_train\", \"value\": 0.5190721754916012}, {\"lambda\": 0.006379537037037038, \"variable\": \"E_train\", \"value\": 0.5195954302325845}, {\"lambda\": 0.005556500000000001, \"variable\": \"E_train\", \"value\": 0.515859859995544}, {\"lambda\": 0.005693672839506173, \"variable\": \"E_train\", \"value\": 0.5162506136111915}, {\"lambda\": 0.005830845679012347, \"variable\": \"E_train\", \"value\": 0.517166256904602}, {\"lambda\": 0.005602224279835391, \"variable\": \"E_train\", \"value\": 0.5178990527056158}, {\"lambda\": 0.005693672839506173, \"variable\": \"E_train\", \"value\": 0.5162506136111915}, {\"lambda\": 0.005785121399176955, \"variable\": \"E_train\", \"value\": 0.5170226283371449}, {\"lambda\": 0.0056327071330589855, \"variable\": \"E_train\", \"value\": 0.5171191347762942}, {\"lambda\": 0.005693672839506173, \"variable\": \"E_train\", \"value\": 0.5162506136111915}, {\"lambda\": 0.005754638545953361, \"variable\": \"E_train\", \"value\": 0.5180982323363423}, {\"lambda\": 0.005653029035208048, \"variable\": \"E_train\", \"value\": 0.5183178540319204}, {\"lambda\": 0.005693672839506173, \"variable\": \"E_train\", \"value\": 0.5162506136111915}, {\"lambda\": 0.005734316643804299, \"variable\": \"E_train\", \"value\": 0.5180367613211274}, {\"lambda\": 1e-06, \"variable\": \"E_dev\", \"value\": 0.7715219305279105}, {\"lambda\": 0.0500005, \"variable\": \"E_dev\", \"value\": 0.806936218777307}, {\"lambda\": 0.1, \"variable\": \"E_dev\", \"value\": 0.957886639993892}, {\"lambda\": 1e-06, \"variable\": \"E_dev\", \"value\": 0.7715219305279105}, {\"lambda\": 0.016667500000000002, \"variable\": \"E_dev\", \"value\": 0.7545983303353426}, {\"lambda\": 0.033334, \"variable\": \"E_dev\", \"value\": 0.7678634913092832}, {\"lambda\": 0.005556500000000001, \"variable\": \"E_dev\", \"value\": 0.7501792545361704}, {\"lambda\": 0.016667500000000002, \"variable\": \"E_dev\", \"value\": 0.7545983303353426}, {\"lambda\": 0.027778500000000005, \"variable\": \"E_dev\", \"value\": 0.7637868635551047}, {\"lambda\": 0.005556500000000001, \"variable\": \"E_dev\", \"value\": 0.7501792545361704}, {\"lambda\": 0.009260166666666668, \"variable\": \"E_dev\", \"value\": 0.7535255657310795}, {\"lambda\": 0.012963833333333336, \"variable\": \"E_dev\", \"value\": 0.7503263458099242}, {\"lambda\": 0.005556500000000001, \"variable\": \"E_dev\", \"value\": 0.7501792545361704}, {\"lambda\": 0.006791055555555556, \"variable\": \"E_dev\", \"value\": 0.7539029981042331}, {\"lambda\": 0.008025611111111112, \"variable\": \"E_dev\", \"value\": 0.7540769976301863}, {\"lambda\": 0.005556500000000001, \"variable\": \"E_dev\", \"value\": 0.7501792545361704}, {\"lambda\": 0.005968018518518519, \"variable\": \"E_dev\", \"value\": 0.7527524790406791}, {\"lambda\": 0.006379537037037038, \"variable\": \"E_dev\", \"value\": 0.7596486861042068}, {\"lambda\": 0.005556500000000001, \"variable\": \"E_dev\", \"value\": 0.7501792545361704}, {\"lambda\": 0.005693672839506173, \"variable\": \"E_dev\", \"value\": 0.7495615091704643}, {\"lambda\": 0.005830845679012347, \"variable\": \"E_dev\", \"value\": 0.751485197448604}, {\"lambda\": 0.005602224279835391, \"variable\": \"E_dev\", \"value\": 0.7509848480003569}, {\"lambda\": 0.005693672839506173, \"variable\": \"E_dev\", \"value\": 0.7495615091704643}, {\"lambda\": 0.005785121399176955, \"variable\": \"E_dev\", \"value\": 0.7514953230119126}, {\"lambda\": 0.0056327071330589855, \"variable\": \"E_dev\", \"value\": 0.7515040127898303}, {\"lambda\": 0.005693672839506173, \"variable\": \"E_dev\", \"value\": 0.7495615091704643}, {\"lambda\": 0.005754638545953361, \"variable\": \"E_dev\", \"value\": 0.7541798688363195}, {\"lambda\": 0.005653029035208048, \"variable\": \"E_dev\", \"value\": 0.7518558083645037}, {\"lambda\": 0.005693672839506173, \"variable\": \"E_dev\", \"value\": 0.7495615091704643}, {\"lambda\": 0.005734316643804299, \"variable\": \"E_dev\", \"value\": 0.7541916079609753}]}};\n",
       "var opt = {};\n",
       "var type = \"vega-lite\";\n",
       "var id = \"3f75e768-2d2a-47b4-a26d-dbac342bd935\";\n",
       "\n",
       "var output_area = this;\n",
       "\n",
       "require([\"nbextensions/jupyter-vega/index\"], function(vega) {\n",
       "  var target = document.createElement(\"div\");\n",
       "  target.id = id;\n",
       "  target.className = \"vega-embed\";\n",
       "\n",
       "  var style = document.createElement(\"style\");\n",
       "  style.textContent = [\n",
       "    \".vega-embed .error p {\",\n",
       "    \"  color: firebrick;\",\n",
       "    \"  font-size: 14px;\",\n",
       "    \"}\",\n",
       "  ].join(\"\\\\n\");\n",
       "\n",
       "  // element is a jQuery wrapped DOM element inside the output area\n",
       "  // see http://ipython.readthedocs.io/en/stable/api/generated/\\\n",
       "  // IPython.display.html#IPython.display.Javascript.__init__\n",
       "  element[0].appendChild(target);\n",
       "  element[0].appendChild(style);\n",
       "\n",
       "  vega.render(\"#\" + id, spec, type, opt, output_area);\n",
       "}, function (err) {\n",
       "  if (err.requireType !== \"scripterror\") {\n",
       "    throw(err);\n",
       "  }\n",
       "});\n"
      ],
      "text/plain": [
       "<vega.vegalite.VegaLite at 0x1542a6390>"
      ]
     },
     "metadata": {
      "jupyter-vega": "#3f75e768-2d2a-47b4-a26d-dbac342bd935"
     },
     "output_type": "display_data"
    },
    {
     "data": {
      "text/plain": []
     },
     "execution_count": 10,
     "metadata": {},
     "output_type": "execute_result"
    },
    {
     "data": {
      "image/png": "[encoded data removed]"
     },
     "metadata": {
      "jupyter-vega": "#3f75e768-2d2a-47b4-a26d-dbac342bd935"
     },
     "output_type": "display_data"
    }
   ],
   "source": [
    "ad = FasionMNISTAdapter({\"epochs\": 5, \"seed\": 1})\n",
    "_, lambda_hist = ad.tune_hyperparameters(\n",
    "    mlts.tf.LambdaRangeGenerator(start=0.000001, stop=0.1),\n",
    "    mlts.io.slice(ds_train, 0, 1024),\n",
    "    ds_dev,\n",
    ")\n",
    "alt.Chart(lambda_hist.melt(id_vars=\"lambda\")).mark_line().encode(\n",
    "    x = \"lambda\",\n",
    "    y = \"value\",\n",
    "    color = \"variable\"\n",
    ")"
   ]
  },
  {
   "cell_type": "code",
   "execution_count": 11,
   "metadata": {},
   "outputs": [
    {
     "data": {
      "text/html": [
       "<div>\n",
       "<style scoped>\n",
       "    .dataframe tbody tr th:only-of-type {\n",
       "        vertical-align: middle;\n",
       "    }\n",
       "\n",
       "    .dataframe tbody tr th {\n",
       "        vertical-align: top;\n",
       "    }\n",
       "\n",
       "    .dataframe thead th {\n",
       "        text-align: right;\n",
       "    }\n",
       "</style>\n",
       "<table border=\"1\" class=\"dataframe\">\n",
       "  <thead>\n",
       "    <tr style=\"text-align: right;\">\n",
       "      <th></th>\n",
       "      <th>hparam</th>\n",
       "    </tr>\n",
       "  </thead>\n",
       "  <tbody>\n",
       "    <tr>\n",
       "      <th>lambda</th>\n",
       "      <td>0.005694</td>\n",
       "    </tr>\n",
       "  </tbody>\n",
       "</table>\n",
       "</div>"
      ],
      "text/plain": [
       "          hparam\n",
       "lambda  0.005694"
      ]
     },
     "execution_count": 11,
     "metadata": {},
     "output_type": "execute_result"
    }
   ],
   "source": [
    "pd.DataFrame(ad.hparams, index=[\"hparam\"])[[\"lambda\"]].transpose()"
   ]
  },
  {
   "cell_type": "markdown",
   "metadata": {},
   "source": [
    "## Estimate the generalized error"
   ]
  },
  {
   "cell_type": "code",
   "execution_count": 12,
   "metadata": {},
   "outputs": [],
   "source": [
    "ad = FasionMNISTAdapter({\"epochs\": 10, \"seed\": 1}, hparams=ad.hparams, metrics=[\"accuracy\"])"
   ]
  },
  {
   "cell_type": "code",
   "execution_count": 13,
   "metadata": {},
   "outputs": [
    {
     "data": {
      "application/javascript": [
       "var spec = {\"config\": {\"view\": {\"width\": 400, \"height\": 300}, \"mark\": {\"tooltip\": null}}, \"data\": {\"name\": \"data-b542b573ce3c80015fd014fbcb591b5b\"}, \"mark\": \"line\", \"encoding\": {\"color\": {\"type\": \"nominal\", \"field\": \"variable\"}, \"x\": {\"type\": \"quantitative\", \"field\": \"m\"}, \"y\": {\"type\": \"quantitative\", \"field\": \"value\"}}, \"$schema\": \"https://vega.github.io/schema/vega-lite/v3.3.0.json\", \"datasets\": {\"data-b542b573ce3c80015fd014fbcb591b5b\": [{\"m\": 1, \"variable\": \"E_train\", \"value\": 0.002428798470646143}, {\"m\": 3997, \"variable\": \"E_train\", \"value\": 0.2782533433412295}, {\"m\": 7993, \"variable\": \"E_train\", \"value\": 0.3307928543010731}, {\"m\": 11990, \"variable\": \"E_train\", \"value\": 0.3514616850965514}, {\"m\": 15986, \"variable\": \"E_train\", \"value\": 0.37700906266344963}, {\"m\": 19982, \"variable\": \"E_train\", \"value\": 0.37687470994128347}, {\"m\": 23979, \"variable\": \"E_train\", \"value\": 0.37455040429222003}, {\"m\": 27975, \"variable\": \"E_train\", \"value\": 0.39001459454936144}, {\"m\": 31971, \"variable\": \"E_train\", \"value\": 0.3878787049238848}, {\"m\": 35968, \"variable\": \"E_train\", \"value\": 0.40049518799919676}, {\"m\": 1, \"variable\": \"E_dev\", \"value\": 2.8518521371928895}, {\"m\": 3997, \"variable\": \"E_dev\", \"value\": 0.5036078147878693}, {\"m\": 7993, \"variable\": \"E_dev\", \"value\": 0.47775803432109515}, {\"m\": 11990, \"variable\": \"E_dev\", \"value\": 0.44692142060744305}, {\"m\": 15986, \"variable\": \"E_dev\", \"value\": 0.45087029186288796}, {\"m\": 19982, \"variable\": \"E_dev\", \"value\": 0.43256049032521315}, {\"m\": 23979, \"variable\": \"E_dev\", \"value\": 0.416745433461677}, {\"m\": 27975, \"variable\": \"E_dev\", \"value\": 0.43057106372896675}, {\"m\": 31971, \"variable\": \"E_dev\", \"value\": 0.42079344846803124}, {\"m\": 35968, \"variable\": \"E_dev\", \"value\": 0.43206528217670526}]}};\n",
       "var opt = {};\n",
       "var type = \"vega-lite\";\n",
       "var id = \"e39f3d4c-d7b2-4252-881d-df465c288db4\";\n",
       "\n",
       "var output_area = this;\n",
       "\n",
       "require([\"nbextensions/jupyter-vega/index\"], function(vega) {\n",
       "  var target = document.createElement(\"div\");\n",
       "  target.id = id;\n",
       "  target.className = \"vega-embed\";\n",
       "\n",
       "  var style = document.createElement(\"style\");\n",
       "  style.textContent = [\n",
       "    \".vega-embed .error p {\",\n",
       "    \"  color: firebrick;\",\n",
       "    \"  font-size: 14px;\",\n",
       "    \"}\",\n",
       "  ].join(\"\\\\n\");\n",
       "\n",
       "  // element is a jQuery wrapped DOM element inside the output area\n",
       "  // see http://ipython.readthedocs.io/en/stable/api/generated/\\\n",
       "  // IPython.display.html#IPython.display.Javascript.__init__\n",
       "  element[0].appendChild(target);\n",
       "  element[0].appendChild(style);\n",
       "\n",
       "  vega.render(\"#\" + id, spec, type, opt, output_area);\n",
       "}, function (err) {\n",
       "  if (err.requireType !== \"scripterror\") {\n",
       "    throw(err);\n",
       "  }\n",
       "});\n"
      ],
      "text/plain": [
       "<vega.vegalite.VegaLite at 0x154d51f10>"
      ]
     },
     "metadata": {
      "jupyter-vega": "#e39f3d4c-d7b2-4252-881d-df465c288db4"
     },
     "output_type": "display_data"
    },
    {
     "data": {
      "text/plain": []
     },
     "execution_count": 13,
     "metadata": {},
     "output_type": "execute_result"
    },
    {
     "data": {
      "image/png": "[encoded data removed]"
     },
     "metadata": {
      "jupyter-vega": "#e39f3d4c-d7b2-4252-881d-df465c288db4"
     },
     "output_type": "display_data"
    }
   ],
   "source": [
    "m_hist = ad.analyze_dataset(ds_train, ds_dev)\n",
    "alt.Chart(m_hist.melt(id_vars=\"m\")).mark_line().encode(\n",
    "    x = \"m\",\n",
    "    y = \"value\",\n",
    "    color = \"variable\"\n",
    ")"
   ]
  },
  {
   "cell_type": "code",
   "execution_count": 14,
   "metadata": {},
   "outputs": [
    {
     "data": {
      "text/html": [
       "<div>\n",
       "<style scoped>\n",
       "    .dataframe tbody tr th:only-of-type {\n",
       "        vertical-align: middle;\n",
       "    }\n",
       "\n",
       "    .dataframe tbody tr th {\n",
       "        vertical-align: top;\n",
       "    }\n",
       "\n",
       "    .dataframe thead th {\n",
       "        text-align: right;\n",
       "    }\n",
       "</style>\n",
       "<table border=\"1\" class=\"dataframe\">\n",
       "  <thead>\n",
       "    <tr style=\"text-align: right;\">\n",
       "      <th></th>\n",
       "      <th>hparam</th>\n",
       "    </tr>\n",
       "  </thead>\n",
       "  <tbody>\n",
       "    <tr>\n",
       "      <th>lambda</th>\n",
       "      <td>0.005694</td>\n",
       "    </tr>\n",
       "  </tbody>\n",
       "</table>\n",
       "</div>"
      ],
      "text/plain": [
       "          hparam\n",
       "lambda  0.005694"
      ]
     },
     "execution_count": 14,
     "metadata": {},
     "output_type": "execute_result"
    }
   ],
   "source": [
    "pd.DataFrame(ad.hparams, index=[\"hparam\"]).transpose()"
   ]
  },
  {
   "cell_type": "code",
   "execution_count": 15,
   "metadata": {},
   "outputs": [
    {
     "name": "stdout",
     "output_type": "stream",
     "text": [
      "Model: \"sequential_124\"\n",
      "_________________________________________________________________\n",
      "Layer (type)                 Output Shape              Param #   \n",
      "=================================================================\n",
      "dense_372 (Dense)            (None, 16)                12560     \n",
      "_________________________________________________________________\n",
      "dense_373 (Dense)            (None, 16)                272       \n",
      "_________________________________________________________________\n",
      "dense_374 (Dense)            (None, 10)                170       \n",
      "=================================================================\n",
      "Total params: 13,002\n",
      "Trainable params: 13,002\n",
      "Non-trainable params: 0\n",
      "_________________________________________________________________\n"
     ]
    }
   ],
   "source": [
    "ad.fit(ds_train)\n",
    "ad.model.summary()"
   ]
  },
  {
   "cell_type": "code",
   "execution_count": 16,
   "metadata": {},
   "outputs": [
    {
     "data": {
      "application/javascript": [
       "var spec = {\"config\": {\"view\": {\"width\": 400, \"height\": 300}, \"mark\": {\"tooltip\": null}}, \"data\": {\"name\": \"data-b4148f9b1758cec5a171468416b30d02\"}, \"mark\": \"line\", \"encoding\": {\"x\": {\"type\": \"quantitative\", \"field\": \"epoch\"}, \"y\": {\"type\": \"quantitative\", \"field\": \"loss\"}}, \"$schema\": \"https://vega.github.io/schema/vega-lite/v3.3.0.json\", \"datasets\": {\"data-b4148f9b1758cec5a171468416b30d02\": [{\"index\": 0, \"epoch\": 0, \"loss\": 0.9296390133184046, \"accuracy\": 0.795540452003479}, {\"index\": 1, \"epoch\": 1, \"loss\": 0.6594343031375434, \"accuracy\": 0.847114086151123}, {\"index\": 2, \"epoch\": 2, \"loss\": 0.6202207530361478, \"accuracy\": 0.8518683314323425}, {\"index\": 3, \"epoch\": 3, \"loss\": 0.6064366457513218, \"accuracy\": 0.8535086512565613}, {\"index\": 4, \"epoch\": 4, \"loss\": 0.5983689231698623, \"accuracy\": 0.8541203141212463}, {\"index\": 5, \"epoch\": 5, \"loss\": 0.5926619557617397, \"accuracy\": 0.8545373678207397}, {\"index\": 6, \"epoch\": 6, \"loss\": 0.5890436185477467, \"accuracy\": 0.854676365852356}, {\"index\": 7, \"epoch\": 7, \"loss\": 0.5854043470317782, \"accuracy\": 0.8564001321792603}, {\"index\": 8, \"epoch\": 8, \"loss\": 0.5830084226256588, \"accuracy\": 0.8560665249824524}, {\"index\": 9, \"epoch\": 9, \"loss\": 0.5811189081639158, \"accuracy\": 0.8561221361160278}]}};\n",
       "var opt = {};\n",
       "var type = \"vega-lite\";\n",
       "var id = \"b4b44573-20b0-4131-8023-81477dcdbf2c\";\n",
       "\n",
       "var output_area = this;\n",
       "\n",
       "require([\"nbextensions/jupyter-vega/index\"], function(vega) {\n",
       "  var target = document.createElement(\"div\");\n",
       "  target.id = id;\n",
       "  target.className = \"vega-embed\";\n",
       "\n",
       "  var style = document.createElement(\"style\");\n",
       "  style.textContent = [\n",
       "    \".vega-embed .error p {\",\n",
       "    \"  color: firebrick;\",\n",
       "    \"  font-size: 14px;\",\n",
       "    \"}\",\n",
       "  ].join(\"\\\\n\");\n",
       "\n",
       "  // element is a jQuery wrapped DOM element inside the output area\n",
       "  // see http://ipython.readthedocs.io/en/stable/api/generated/\\\n",
       "  // IPython.display.html#IPython.display.Javascript.__init__\n",
       "  element[0].appendChild(target);\n",
       "  element[0].appendChild(style);\n",
       "\n",
       "  vega.render(\"#\" + id, spec, type, opt, output_area);\n",
       "}, function (err) {\n",
       "  if (err.requireType !== \"scripterror\") {\n",
       "    throw(err);\n",
       "  }\n",
       "});\n"
      ],
      "text/plain": [
       "<vega.vegalite.VegaLite at 0x1590c26d0>"
      ]
     },
     "metadata": {
      "jupyter-vega": "#b4b44573-20b0-4131-8023-81477dcdbf2c"
     },
     "output_type": "display_data"
    },
    {
     "data": {
      "text/plain": []
     },
     "execution_count": 16,
     "metadata": {},
     "output_type": "execute_result"
    },
    {
     "data": {
      "image/png": "[encoded data removed]"
     },
     "metadata": {
      "jupyter-vega": "#b4b44573-20b0-4131-8023-81477dcdbf2c"
     },
     "output_type": "display_data"
    }
   ],
   "source": [
    "alt.Chart(ad.metrics_history().reset_index()).mark_line().encode(\n",
    "    x = \"epoch\",\n",
    "    y = \"loss\",\n",
    ")"
   ]
  },
  {
   "cell_type": "code",
   "execution_count": 17,
   "metadata": {},
   "outputs": [
    {
     "data": {
      "text/html": [
       "<div>\n",
       "<style scoped>\n",
       "    .dataframe tbody tr th:only-of-type {\n",
       "        vertical-align: middle;\n",
       "    }\n",
       "\n",
       "    .dataframe tbody tr th {\n",
       "        vertical-align: top;\n",
       "    }\n",
       "\n",
       "    .dataframe thead th {\n",
       "        text-align: right;\n",
       "    }\n",
       "</style>\n",
       "<table border=\"1\" class=\"dataframe\">\n",
       "  <thead>\n",
       "    <tr style=\"text-align: right;\">\n",
       "      <th></th>\n",
       "      <th>train</th>\n",
       "      <th>dev</th>\n",
       "      <th>test</th>\n",
       "    </tr>\n",
       "  </thead>\n",
       "  <tbody>\n",
       "    <tr>\n",
       "      <th>loss</th>\n",
       "      <td>0.581119</td>\n",
       "      <td>0.605190</td>\n",
       "      <td>0.609804</td>\n",
       "    </tr>\n",
       "    <tr>\n",
       "      <th>accuracy</th>\n",
       "      <td>0.856122</td>\n",
       "      <td>0.842027</td>\n",
       "      <td>0.843519</td>\n",
       "    </tr>\n",
       "  </tbody>\n",
       "</table>\n",
       "</div>"
      ],
      "text/plain": [
       "             train       dev      test\n",
       "loss      0.581119  0.605190  0.609804\n",
       "accuracy  0.856122  0.842027  0.843519"
      ]
     },
     "execution_count": 17,
     "metadata": {},
     "output_type": "execute_result"
    }
   ],
   "source": [
    "ad.generalized_metrics(ds_dev, ds_test)"
   ]
  }
 ],
 "metadata": {
  "kernelspec": {
   "display_name": "Python 3",
   "language": "python",
   "name": "python3"
  },
  "language_info": {
   "codemirror_mode": {
    "name": "ipython",
    "version": 3
   },
   "file_extension": ".py",
   "mimetype": "text/x-python",
   "name": "python",
   "nbconvert_exporter": "python",
   "pygments_lexer": "ipython3",
   "version": "3.7.4"
  }
 },
 "nbformat": 4,
 "nbformat_minor": 2
}
