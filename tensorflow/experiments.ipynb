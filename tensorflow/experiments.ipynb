{
 "cells": [
  {
   "cell_type": "code",
   "execution_count": 1,
   "metadata": {},
   "outputs": [],
   "source": [
    "%%capture\n",
    "\n",
    "import pandas as pd\n",
    "import numpy as np\n",
    "import tensorflow as tf\n",
    "import mlts\n",
    "\n",
    "import altair as alt\n",
    "alt.renderers.enable('notebook')"
   ]
  },
  {
   "cell_type": "markdown",
   "metadata": {},
   "source": [
    "## Load data"
   ]
  },
  {
   "cell_type": "code",
   "execution_count": 2,
   "metadata": {},
   "outputs": [],
   "source": [
    "data = mlts.io.merge([\n",
    "    pd.read_csv('../data/fashion-mnist/fashion-mnist_train.csv'),\n",
    "    pd.read_csv('../data/fashion-mnist/fashion-mnist_train.csv'),\n",
    "])"
   ]
  },
  {
   "cell_type": "code",
   "execution_count": 3,
   "metadata": {},
   "outputs": [],
   "source": [
    "mlts.io.check(data)"
   ]
  },
  {
   "cell_type": "code",
   "execution_count": 4,
   "metadata": {},
   "outputs": [],
   "source": [
    "K = len(data.iloc[:, 0].value_counts())\n",
    "dss, mu, sigma = mlts.io.normalize(mlts.io.split(data, ycol=0, shape=(42048), seed=1))\n",
    "(ds_train, ds_dev, ds_test) = mlts.tf.to_dataset(dss, batch_size=32)"
   ]
  },
  {
   "cell_type": "markdown",
   "metadata": {},
   "source": [
    "## Implement the model"
   ]
  },
  {
   "cell_type": "code",
   "execution_count": 5,
   "metadata": {},
   "outputs": [],
   "source": [
    "class FasionMNISTAdapter(mlts.tf.adapter.Model):\n",
    "    def __init__(self, *args, **kwargs):\n",
    "        super(FasionMNISTAdapter, self).__init__(*args, **kwargs)\n",
    "\n",
    "    @staticmethod\n",
    "    def model(options, hparams = {}):\n",
    "        regularization = None\n",
    "        if \"lambda\" in hparams:\n",
    "            regularization = tf.keras.regularizers.l2(l=hparams[\"lambda\"])\n",
    "\n",
    "        return tf.keras.models.Sequential([\n",
    "            ## The reason of using 'InputLayer' is only to\n",
    "            ## show up a shape of each layer in `model.summary()`.\n",
    "            tf.keras.layers.InputLayer(input_shape=(784)),\n",
    "            tf.keras.layers.Dense(\n",
    "                16,\n",
    "                activation=tf.nn.relu,\n",
    "                kernel_initializer=tf.keras.initializers.he_uniform(options.seed),\n",
    "                kernel_regularizer=regularization,\n",
    "            ),\n",
    "            tf.keras.layers.Dense(\n",
    "                16,\n",
    "                activation=tf.nn.relu,\n",
    "                kernel_initializer=tf.keras.initializers.he_uniform(options.seed),\n",
    "                kernel_regularizer=regularization,\n",
    "            ),\n",
    "            tf.keras.layers.Dense(\n",
    "                K,\n",
    "                activation=tf.nn.softmax,\n",
    "                kernel_initializer=tf.keras.initializers.he_uniform(options.seed),\n",
    "                kernel_regularizer=regularization,\n",
    "            )\n",
    "        ])\n",
    "\n",
    "    @staticmethod\n",
    "    def loss(options):\n",
    "        return tf.keras.losses.SparseCategoricalCrossentropy()\n",
    "\n",
    "    @staticmethod\n",
    "    def optimization(options, hparams, m, ds, metrics=[], callbacks=[]):\n",
    "        _loss = FasionMNISTAdapter.loss(options)\n",
    "        _optimizer = tf.keras.optimizers.Adam()\n",
    "        _accuracy_metric = tf.keras.metrics.SparseCategoricalAccuracy()\n",
    "        _loss_metric = tf.keras.metrics.Mean()\n",
    "\n",
    "        for epoch in range(options.epochs):\n",
    "            for step, (X, y) in enumerate(ds):\n",
    "                with tf.GradientTape() as tape:\n",
    "                    h = m(X)\n",
    "                    j = _loss(y, h)\n",
    "\n",
    "                    _loss_metric(j)\n",
    "                    _accuracy_metric(y, h)\n",
    "\n",
    "                dJ = tape.gradient(j, m.trainable_weights)\n",
    "                _optimizer.apply_gradients(zip(dJ, m.trainable_weights))\n",
    "\n",
    "            print(\"epoch={} loss={} accuracy={}\"\n",
    "                  .format(epoch, _loss_metric.result(), _accuracy_metric.result()))\n",
    "                    \n",
    "        return m"
   ]
  },
  {
   "cell_type": "code",
   "execution_count": 6,
   "metadata": {},
   "outputs": [
    {
     "name": "stdout",
     "output_type": "stream",
     "text": [
      "Model: \"sequential\"\n",
      "_________________________________________________________________\n",
      "Layer (type)                 Output Shape              Param #   \n",
      "=================================================================\n",
      "dense (Dense)                (None, 16)                12560     \n",
      "_________________________________________________________________\n",
      "dense_1 (Dense)              (None, 16)                272       \n",
      "_________________________________________________________________\n",
      "dense_2 (Dense)              (None, 10)                170       \n",
      "=================================================================\n",
      "Total params: 13,002\n",
      "Trainable params: 13,002\n",
      "Non-trainable params: 0\n",
      "_________________________________________________________________\n"
     ]
    }
   ],
   "source": [
    "model = FasionMNISTAdapter.model(mlts.tf.adapter.Options(seed=1))\n",
    "model.summary()"
   ]
  },
  {
   "cell_type": "markdown",
   "metadata": {},
   "source": [
    "## Analyze the dataset"
   ]
  },
  {
   "cell_type": "code",
   "execution_count": 7,
   "metadata": {},
   "outputs": [
    {
     "name": "stderr",
     "output_type": "stream",
     "text": [
      "WARNING: Logging before flag parsing goes to stderr.\n",
      "W0810 18:11:16.412894 4476982720 deprecation.py:323] From /Users/manifest/projects/github/machine-learning-notebook/venv/lib/python3.7/site-packages/tensorflow/python/ops/math_grad.py:1220: add_dispatch_support.<locals>.wrapper (from tensorflow.python.ops.array_ops) is deprecated and will be removed in a future version.\n",
      "Instructions for updating:\n",
      "Use tf.where in 2.0, which has the same broadcast rule as np.where\n"
     ]
    },
    {
     "name": "stdout",
     "output_type": "stream",
     "text": [
      "epoch=0 loss=2.831925630569458 accuracy=0.09375\n",
      "epoch=0 loss=2.805577278137207 accuracy=0.078125\n",
      "epoch=0 loss=2.834336280822754 accuracy=0.0625\n",
      "epoch=0 loss=2.7976672649383545 accuracy=0.0703125\n",
      "epoch=0 loss=2.7541260719299316 accuracy=0.07500000298023224\n",
      "epoch=0 loss=2.6943273544311523 accuracy=0.0833333358168602\n",
      "epoch=0 loss=2.627959728240967 accuracy=0.09375\n",
      "epoch=0 loss=2.5751559734344482 accuracy=0.11328125\n",
      "epoch=0 loss=2.542374610900879 accuracy=0.1180555522441864\n",
      "epoch=0 loss=2.503554582595825 accuracy=0.12812499701976776\n"
     ]
    },
    {
     "data": {
      "application/javascript": [
       "var spec = {\"config\": {\"view\": {\"width\": 400, \"height\": 300}, \"mark\": {\"tooltip\": null}}, \"data\": {\"name\": \"data-15a56e3b5086e6023481eacd71460500\"}, \"mark\": \"line\", \"encoding\": {\"color\": {\"type\": \"nominal\", \"field\": \"variable\"}, \"x\": {\"type\": \"quantitative\", \"field\": \"m_batch\"}, \"y\": {\"type\": \"quantitative\", \"field\": \"value\"}}, \"$schema\": \"https://vega.github.io/schema/vega-lite/v3.4.0.json\", \"datasets\": {\"data-15a56e3b5086e6023481eacd71460500\": [{\"m_batch\": 1, \"variable\": \"E_train\", \"value\": 2.458597421646118}, {\"m_batch\": 2, \"variable\": \"E_train\", \"value\": 2.386350393295288}, {\"m_batch\": 3, \"variable\": \"E_train\", \"value\": 2.3938992023468018}, {\"m_batch\": 4, \"variable\": \"E_train\", \"value\": 2.3472983837127686}, {\"m_batch\": 5, \"variable\": \"E_train\", \"value\": 2.2887251377105713}, {\"m_batch\": 6, \"variable\": \"E_train\", \"value\": 2.206971764564514}, {\"m_batch\": 7, \"variable\": \"E_train\", \"value\": 2.1238161495753696}, {\"m_batch\": 8, \"variable\": \"E_train\", \"value\": 2.048200413584709}, {\"m_batch\": 9, \"variable\": \"E_train\", \"value\": 1.9954088661405776}, {\"m_batch\": 10, \"variable\": \"E_train\", \"value\": 1.9431079626083374}, {\"m_batch\": 1, \"variable\": \"E_dev\", \"value\": 2.7873642444610596}, {\"m_batch\": 2, \"variable\": \"E_dev\", \"value\": 2.6433291912078856}, {\"m_batch\": 3, \"variable\": \"E_dev\", \"value\": 2.531597542762756}, {\"m_batch\": 4, \"variable\": \"E_dev\", \"value\": 2.4490514755249024}, {\"m_batch\": 5, \"variable\": \"E_dev\", \"value\": 2.3605719327926638}, {\"m_batch\": 6, \"variable\": \"E_dev\", \"value\": 2.2703012466430663}, {\"m_batch\": 7, \"variable\": \"E_dev\", \"value\": 2.182378387451172}, {\"m_batch\": 8, \"variable\": \"E_dev\", \"value\": 2.1080423831939696}, {\"m_batch\": 9, \"variable\": \"E_dev\", \"value\": 2.0436912178993225}, {\"m_batch\": 10, \"variable\": \"E_dev\", \"value\": 1.9846059679985046}]}};\n",
       "var opt = {};\n",
       "var type = \"vega-lite\";\n",
       "var id = \"4a1c85d6-0e8e-438c-96de-197580b944f9\";\n",
       "\n",
       "var output_area = this;\n",
       "\n",
       "require([\"nbextensions/jupyter-vega/index\"], function(vega) {\n",
       "  var target = document.createElement(\"div\");\n",
       "  target.id = id;\n",
       "  target.className = \"vega-embed\";\n",
       "\n",
       "  var style = document.createElement(\"style\");\n",
       "  style.textContent = [\n",
       "    \".vega-embed .error p {\",\n",
       "    \"  color: firebrick;\",\n",
       "    \"  font-size: 14px;\",\n",
       "    \"}\",\n",
       "  ].join(\"\\\\n\");\n",
       "\n",
       "  // element is a jQuery wrapped DOM element inside the output area\n",
       "  // see http://ipython.readthedocs.io/en/stable/api/generated/\\\n",
       "  // IPython.display.html#IPython.display.Javascript.__init__\n",
       "  element[0].appendChild(target);\n",
       "  element[0].appendChild(style);\n",
       "\n",
       "  vega.render(\"#\" + id, spec, type, opt, output_area);\n",
       "}, function (err) {\n",
       "  if (err.requireType !== \"scripterror\") {\n",
       "    throw(err);\n",
       "  }\n",
       "});\n"
      ],
      "text/plain": [
       "<vega.vegalite.VegaLite at 0x12aa4f0d0>"
      ]
     },
     "metadata": {
      "jupyter-vega": "#4a1c85d6-0e8e-438c-96de-197580b944f9"
     },
     "output_type": "display_data"
    },
    {
     "data": {
      "text/plain": []
     },
     "execution_count": 7,
     "metadata": {},
     "output_type": "execute_result"
    },
    {
     "data": {
      "image/png": "[encoded data removed]"
     },
     "metadata": {
      "jupyter-vega": "#4a1c85d6-0e8e-438c-96de-197580b944f9"
     },
     "output_type": "display_data"
    }
   ],
   "source": [
    "m_hist = FasionMNISTAdapter.analyze_dataset(\n",
    "    mlts.tf.adapter.Options(epochs=1, seed=1),\n",
    "    {},\n",
    "    ds_train.take(10),\n",
    "    ds_dev.take(10)\n",
    ")\n",
    "alt.Chart(m_hist.melt(id_vars=\"m_batch\")).mark_line().encode(\n",
    "    x = \"m_batch\",\n",
    "    y = \"value\",\n",
    "    color = \"variable\"\n",
    ")"
   ]
  },
  {
   "cell_type": "markdown",
   "metadata": {},
   "source": [
    "## Evaluate the model"
   ]
  },
  {
   "cell_type": "code",
   "execution_count": 8,
   "metadata": {},
   "outputs": [
    {
     "name": "stdout",
     "output_type": "stream",
     "text": [
      "epoch=0 loss=0.5739279985427856 accuracy=0.800561249256134\n"
     ]
    }
   ],
   "source": [
    "ad = FasionMNISTAdapter(mlts.tf.adapter.Options(epochs=1, seed=1))\n",
    "ad.fit(ds_train)"
   ]
  },
  {
   "cell_type": "code",
   "execution_count": null,
   "metadata": {},
   "outputs": [],
   "source": []
  }
 ],
 "metadata": {
  "kernelspec": {
   "display_name": "Python 3",
   "language": "python",
   "name": "python3"
  },
  "language_info": {
   "codemirror_mode": {
    "name": "ipython",
    "version": 3
   },
   "file_extension": ".py",
   "mimetype": "text/x-python",
   "name": "python",
   "nbconvert_exporter": "python",
   "pygments_lexer": "ipython3",
   "version": "3.7.4"
  }
 },
 "nbformat": 4,
 "nbformat_minor": 2
}
